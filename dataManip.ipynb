{
 "metadata": {
  "language_info": {
   "codemirror_mode": {
    "name": "ipython",
    "version": 3
   },
   "file_extension": ".py",
   "mimetype": "text/x-python",
   "name": "python",
   "nbconvert_exporter": "python",
   "pygments_lexer": "ipython3",
   "version": "3.7.7-final"
  },
  "orig_nbformat": 2,
  "kernelspec": {
   "name": "Python 3.7.7 64-bit ('base': conda)",
   "display_name": "Python 3.7.7 64-bit ('base': conda)",
   "metadata": {
    "interpreter": {
     "hash": "4246713ac87cf46aee607594044fa325d7b7be4bcc01b44d3a303f9e5da94b88"
    }
   }
  }
 },
 "nbformat": 4,
 "nbformat_minor": 2,
 "cells": [
  {
   "cell_type": "code",
   "execution_count": 1,
   "metadata": {},
   "outputs": [],
   "source": [
    "import pandas as pd\n",
    "import sqlite3 as sql"
   ]
  },
  {
   "cell_type": "code",
   "execution_count": 2,
   "metadata": {},
   "outputs": [],
   "source": [
    "data_export = pd.read_excel('data/aus_trade.xlsx', sheet_name='Total_g_s_exports', header=0)\n",
    "data_import = pd.read_excel('data/aus_trade.xlsx', sheet_name='Total_g_s_imports', header=0)"
   ]
  },
  {
   "cell_type": "code",
   "execution_count": 3,
   "metadata": {},
   "outputs": [
    {
     "output_type": "execute_result",
     "data": {
      "text/plain": [
       "                Year     1987     1988     1989     1990     1991     1992  \\\n",
       "0              China  1616.05   1234.1  1436.29  1587.79   1756.6   2094.1   \n",
       "1              Japan    10817    13123    14105  15547.3  17250.9  17562.5   \n",
       "2  Republic of Korea   1618.1  2118.14  2600.69  3132.09  3568.87  3932.62   \n",
       "3      United States  5696.48  6014.21  6801.07  7653.13  7325.16  7062.85   \n",
       "4              India       na       na       na       na       na       na   \n",
       "\n",
       "      1993     1994     1995  ...     2010     2011     2012     2013  \\\n",
       "0   2578.1  3165.15  3514.73  ...  64892.3  78129.4  74821.3    94074   \n",
       "1  18697.9  19269.5  19983.7  ...  45682.8  52378.1  49852.9  49436.2   \n",
       "2   4803.2  5368.57  7041.78  ...  22662.1  25255.5  21812.6  21456.1   \n",
       "3  7379.96  7020.03  7366.89  ...  14801.7  15455.7  15144.2  16034.5   \n",
       "4       na       na       na  ...  19973.9  18158.2  14465.8    11594   \n",
       "\n",
       "      2014     2015     2016     2017     2018     2019  \n",
       "0  91740.7  86742.5  95681.9   116013   136585   168575  \n",
       "1  50187.8  42154.9  38451.5  47220.4  58788.5  60417.2  \n",
       "2    22171  20226.1  20430.6  23535.8    26585  28222.3  \n",
       "3  18596.8  22083.4  20617.7  20983.2  23156.9  25440.3  \n",
       "4  11534.2  13906.1  15199.8  20268.6  22408.6    21787  \n",
       "\n",
       "[5 rows x 34 columns]"
      ],
      "text/html": "<div>\n<style scoped>\n    .dataframe tbody tr th:only-of-type {\n        vertical-align: middle;\n    }\n\n    .dataframe tbody tr th {\n        vertical-align: top;\n    }\n\n    .dataframe thead th {\n        text-align: right;\n    }\n</style>\n<table border=\"1\" class=\"dataframe\">\n  <thead>\n    <tr style=\"text-align: right;\">\n      <th></th>\n      <th>Year</th>\n      <th>1987</th>\n      <th>1988</th>\n      <th>1989</th>\n      <th>1990</th>\n      <th>1991</th>\n      <th>1992</th>\n      <th>1993</th>\n      <th>1994</th>\n      <th>1995</th>\n      <th>...</th>\n      <th>2010</th>\n      <th>2011</th>\n      <th>2012</th>\n      <th>2013</th>\n      <th>2014</th>\n      <th>2015</th>\n      <th>2016</th>\n      <th>2017</th>\n      <th>2018</th>\n      <th>2019</th>\n    </tr>\n  </thead>\n  <tbody>\n    <tr>\n      <th>0</th>\n      <td>China</td>\n      <td>1616.05</td>\n      <td>1234.1</td>\n      <td>1436.29</td>\n      <td>1587.79</td>\n      <td>1756.6</td>\n      <td>2094.1</td>\n      <td>2578.1</td>\n      <td>3165.15</td>\n      <td>3514.73</td>\n      <td>...</td>\n      <td>64892.3</td>\n      <td>78129.4</td>\n      <td>74821.3</td>\n      <td>94074</td>\n      <td>91740.7</td>\n      <td>86742.5</td>\n      <td>95681.9</td>\n      <td>116013</td>\n      <td>136585</td>\n      <td>168575</td>\n    </tr>\n    <tr>\n      <th>1</th>\n      <td>Japan</td>\n      <td>10817</td>\n      <td>13123</td>\n      <td>14105</td>\n      <td>15547.3</td>\n      <td>17250.9</td>\n      <td>17562.5</td>\n      <td>18697.9</td>\n      <td>19269.5</td>\n      <td>19983.7</td>\n      <td>...</td>\n      <td>45682.8</td>\n      <td>52378.1</td>\n      <td>49852.9</td>\n      <td>49436.2</td>\n      <td>50187.8</td>\n      <td>42154.9</td>\n      <td>38451.5</td>\n      <td>47220.4</td>\n      <td>58788.5</td>\n      <td>60417.2</td>\n    </tr>\n    <tr>\n      <th>2</th>\n      <td>Republic of Korea</td>\n      <td>1618.1</td>\n      <td>2118.14</td>\n      <td>2600.69</td>\n      <td>3132.09</td>\n      <td>3568.87</td>\n      <td>3932.62</td>\n      <td>4803.2</td>\n      <td>5368.57</td>\n      <td>7041.78</td>\n      <td>...</td>\n      <td>22662.1</td>\n      <td>25255.5</td>\n      <td>21812.6</td>\n      <td>21456.1</td>\n      <td>22171</td>\n      <td>20226.1</td>\n      <td>20430.6</td>\n      <td>23535.8</td>\n      <td>26585</td>\n      <td>28222.3</td>\n    </tr>\n    <tr>\n      <th>3</th>\n      <td>United States</td>\n      <td>5696.48</td>\n      <td>6014.21</td>\n      <td>6801.07</td>\n      <td>7653.13</td>\n      <td>7325.16</td>\n      <td>7062.85</td>\n      <td>7379.96</td>\n      <td>7020.03</td>\n      <td>7366.89</td>\n      <td>...</td>\n      <td>14801.7</td>\n      <td>15455.7</td>\n      <td>15144.2</td>\n      <td>16034.5</td>\n      <td>18596.8</td>\n      <td>22083.4</td>\n      <td>20617.7</td>\n      <td>20983.2</td>\n      <td>23156.9</td>\n      <td>25440.3</td>\n    </tr>\n    <tr>\n      <th>4</th>\n      <td>India</td>\n      <td>na</td>\n      <td>na</td>\n      <td>na</td>\n      <td>na</td>\n      <td>na</td>\n      <td>na</td>\n      <td>na</td>\n      <td>na</td>\n      <td>na</td>\n      <td>...</td>\n      <td>19973.9</td>\n      <td>18158.2</td>\n      <td>14465.8</td>\n      <td>11594</td>\n      <td>11534.2</td>\n      <td>13906.1</td>\n      <td>15199.8</td>\n      <td>20268.6</td>\n      <td>22408.6</td>\n      <td>21787</td>\n    </tr>\n  </tbody>\n</table>\n<p>5 rows × 34 columns</p>\n</div>"
     },
     "metadata": {},
     "execution_count": 3
    }
   ],
   "source": [
    "data_export.head()"
   ]
  },
  {
   "cell_type": "code",
   "execution_count": 4,
   "metadata": {},
   "outputs": [
    {
     "output_type": "execute_result",
     "data": {
      "text/plain": [
       "            Year     1987     1988     1989     1990     1991     1992  \\\n",
       "0          China  834.271   996.65     1355  1456.05   1864.6  2549.47   \n",
       "1  United States  10820.3    12122  15206.5  15983.2  15816.7  16390.6   \n",
       "2          Japan  8605.89   9601.5  11768.9  10641.2  10018.2  11377.1   \n",
       "3        Germany  3130.72  3215.26  3739.11  3828.42  3584.86  3706.09   \n",
       "4       Thailand  509.124  596.471  822.311  852.804  887.411  1054.84   \n",
       "\n",
       "      1993     1994     1995  ...     2010     2011     2012     2013  \\\n",
       "0  3225.46  3745.02  4320.47  ...  40923.6  43919.3  46442.4  49570.6   \n",
       "1  17301.4  19018.7  21252.2  ...  36378.3  40711.6  43310.1  41003.5   \n",
       "2    13264  13649.6  13585.8  ...  20573.5  20078.8  21420.5  21608.6   \n",
       "3  4042.04  4540.28  5676.36  ...    12640  12677.9  13402.8  14132.7   \n",
       "4  1133.79  1240.56  1424.44  ...  13265.7    11066    13085  14287.4   \n",
       "\n",
       "      2014     2015     2016     2017     2018     2019  \n",
       "0    54460  64377.2  62323.2  67448.5  78303.1  82841.7  \n",
       "1  43391.8  49372.3  44953.6  47331.9  50864.9  55532.5  \n",
       "2  20095.8  23027.2  22823.7    24813  26987.6  26357.2  \n",
       "3  14742.8  15569.8  16471.8  16991.9  18771.6  18183.6  \n",
       "4    13266  15804.6  16878.4  17213.3  17913.7  17385.4  \n",
       "\n",
       "[5 rows x 34 columns]"
      ],
      "text/html": "<div>\n<style scoped>\n    .dataframe tbody tr th:only-of-type {\n        vertical-align: middle;\n    }\n\n    .dataframe tbody tr th {\n        vertical-align: top;\n    }\n\n    .dataframe thead th {\n        text-align: right;\n    }\n</style>\n<table border=\"1\" class=\"dataframe\">\n  <thead>\n    <tr style=\"text-align: right;\">\n      <th></th>\n      <th>Year</th>\n      <th>1987</th>\n      <th>1988</th>\n      <th>1989</th>\n      <th>1990</th>\n      <th>1991</th>\n      <th>1992</th>\n      <th>1993</th>\n      <th>1994</th>\n      <th>1995</th>\n      <th>...</th>\n      <th>2010</th>\n      <th>2011</th>\n      <th>2012</th>\n      <th>2013</th>\n      <th>2014</th>\n      <th>2015</th>\n      <th>2016</th>\n      <th>2017</th>\n      <th>2018</th>\n      <th>2019</th>\n    </tr>\n  </thead>\n  <tbody>\n    <tr>\n      <th>0</th>\n      <td>China</td>\n      <td>834.271</td>\n      <td>996.65</td>\n      <td>1355</td>\n      <td>1456.05</td>\n      <td>1864.6</td>\n      <td>2549.47</td>\n      <td>3225.46</td>\n      <td>3745.02</td>\n      <td>4320.47</td>\n      <td>...</td>\n      <td>40923.6</td>\n      <td>43919.3</td>\n      <td>46442.4</td>\n      <td>49570.6</td>\n      <td>54460</td>\n      <td>64377.2</td>\n      <td>62323.2</td>\n      <td>67448.5</td>\n      <td>78303.1</td>\n      <td>82841.7</td>\n    </tr>\n    <tr>\n      <th>1</th>\n      <td>United States</td>\n      <td>10820.3</td>\n      <td>12122</td>\n      <td>15206.5</td>\n      <td>15983.2</td>\n      <td>15816.7</td>\n      <td>16390.6</td>\n      <td>17301.4</td>\n      <td>19018.7</td>\n      <td>21252.2</td>\n      <td>...</td>\n      <td>36378.3</td>\n      <td>40711.6</td>\n      <td>43310.1</td>\n      <td>41003.5</td>\n      <td>43391.8</td>\n      <td>49372.3</td>\n      <td>44953.6</td>\n      <td>47331.9</td>\n      <td>50864.9</td>\n      <td>55532.5</td>\n    </tr>\n    <tr>\n      <th>2</th>\n      <td>Japan</td>\n      <td>8605.89</td>\n      <td>9601.5</td>\n      <td>11768.9</td>\n      <td>10641.2</td>\n      <td>10018.2</td>\n      <td>11377.1</td>\n      <td>13264</td>\n      <td>13649.6</td>\n      <td>13585.8</td>\n      <td>...</td>\n      <td>20573.5</td>\n      <td>20078.8</td>\n      <td>21420.5</td>\n      <td>21608.6</td>\n      <td>20095.8</td>\n      <td>23027.2</td>\n      <td>22823.7</td>\n      <td>24813</td>\n      <td>26987.6</td>\n      <td>26357.2</td>\n    </tr>\n    <tr>\n      <th>3</th>\n      <td>Germany</td>\n      <td>3130.72</td>\n      <td>3215.26</td>\n      <td>3739.11</td>\n      <td>3828.42</td>\n      <td>3584.86</td>\n      <td>3706.09</td>\n      <td>4042.04</td>\n      <td>4540.28</td>\n      <td>5676.36</td>\n      <td>...</td>\n      <td>12640</td>\n      <td>12677.9</td>\n      <td>13402.8</td>\n      <td>14132.7</td>\n      <td>14742.8</td>\n      <td>15569.8</td>\n      <td>16471.8</td>\n      <td>16991.9</td>\n      <td>18771.6</td>\n      <td>18183.6</td>\n    </tr>\n    <tr>\n      <th>4</th>\n      <td>Thailand</td>\n      <td>509.124</td>\n      <td>596.471</td>\n      <td>822.311</td>\n      <td>852.804</td>\n      <td>887.411</td>\n      <td>1054.84</td>\n      <td>1133.79</td>\n      <td>1240.56</td>\n      <td>1424.44</td>\n      <td>...</td>\n      <td>13265.7</td>\n      <td>11066</td>\n      <td>13085</td>\n      <td>14287.4</td>\n      <td>13266</td>\n      <td>15804.6</td>\n      <td>16878.4</td>\n      <td>17213.3</td>\n      <td>17913.7</td>\n      <td>17385.4</td>\n    </tr>\n  </tbody>\n</table>\n<p>5 rows × 34 columns</p>\n</div>"
     },
     "metadata": {},
     "execution_count": 4
    }
   ],
   "source": [
    "data_import.head()"
   ]
  },
  {
   "cell_type": "code",
   "execution_count": 5,
   "metadata": {},
   "outputs": [],
   "source": [
    "db_conn = sql.connect(\"flask/data/aus_trade.sqlite\")\n",
    "db_curs = db_conn.cursor()"
   ]
  },
  {
   "cell_type": "code",
   "execution_count": 6,
   "metadata": {},
   "outputs": [],
   "source": [
    "query_export = 'CREATE TABLE TradeExport (Year VARCHAR'\n",
    "for c in data_export.columns[1:]:\n",
    "    query_export += f', \"{c}\" REAL'\n",
    "query_export += ', PRIMARY KEY (Year));'"
   ]
  },
  {
   "cell_type": "code",
   "execution_count": 7,
   "metadata": {},
   "outputs": [
    {
     "output_type": "execute_result",
     "data": {
      "text/plain": [
       "'CREATE TABLE TradeExport (Year VARCHAR, \"1987\" REAL, \"1988\" REAL, \"1989\" REAL, \"1990\" REAL, \"1991\" REAL, \"1992\" REAL, \"1993\" REAL, \"1994\" REAL, \"1995\" REAL, \"1996\" REAL, \"1997\" REAL, \"1998\" REAL, \"1999\" REAL, \"2000\" REAL, \"2001\" REAL, \"2002\" REAL, \"2003\" REAL, \"2004\" REAL, \"2005\" REAL, \"2006\" REAL, \"2007\" REAL, \"2008\" REAL, \"2009\" REAL, \"2010\" REAL, \"2011\" REAL, \"2012\" REAL, \"2013\" REAL, \"2014\" REAL, \"2015\" REAL, \"2016\" REAL, \"2017\" REAL, \"2018\" REAL, \"2019\" REAL, PRIMARY KEY (Year));'"
      ]
     },
     "metadata": {},
     "execution_count": 7
    }
   ],
   "source": [
    "query_export"
   ]
  },
  {
   "cell_type": "code",
   "execution_count": 8,
   "metadata": {},
   "outputs": [],
   "source": [
    "query_import = 'CREATE TABLE TradeImport (Year VARCHAR'\n",
    "for c in data_export.columns[1:]:\n",
    "    query_import += f', \"{c}\" REAL'\n",
    "query_import += ', PRIMARY KEY (Year));'"
   ]
  },
  {
   "cell_type": "code",
   "execution_count": null,
   "metadata": {},
   "outputs": [],
   "source": []
  },
  {
   "cell_type": "code",
   "execution_count": 9,
   "metadata": {},
   "outputs": [
    {
     "output_type": "execute_result",
     "data": {
      "text/plain": [
       "'CREATE TABLE TradeImport (Year VARCHAR, \"1987\" REAL, \"1988\" REAL, \"1989\" REAL, \"1990\" REAL, \"1991\" REAL, \"1992\" REAL, \"1993\" REAL, \"1994\" REAL, \"1995\" REAL, \"1996\" REAL, \"1997\" REAL, \"1998\" REAL, \"1999\" REAL, \"2000\" REAL, \"2001\" REAL, \"2002\" REAL, \"2003\" REAL, \"2004\" REAL, \"2005\" REAL, \"2006\" REAL, \"2007\" REAL, \"2008\" REAL, \"2009\" REAL, \"2010\" REAL, \"2011\" REAL, \"2012\" REAL, \"2013\" REAL, \"2014\" REAL, \"2015\" REAL, \"2016\" REAL, \"2017\" REAL, \"2018\" REAL, \"2019\" REAL, PRIMARY KEY (Year));'"
      ]
     },
     "metadata": {},
     "execution_count": 9
    }
   ],
   "source": [
    "query_import"
   ]
  },
  {
   "cell_type": "code",
   "execution_count": 10,
   "metadata": {},
   "outputs": [
    {
     "output_type": "execute_result",
     "data": {
      "text/plain": [
       "<sqlite3.Cursor at 0x1f909856e30>"
      ]
     },
     "metadata": {},
     "execution_count": 10
    }
   ],
   "source": [
    "db_curs.execute(query_export)\n",
    "db_curs.execute(query_import)"
   ]
  },
  {
   "cell_type": "code",
   "execution_count": 11,
   "metadata": {},
   "outputs": [],
   "source": [
    "data_export.to_sql('TradeExport', db_conn, if_exists='append', index=False)"
   ]
  },
  {
   "cell_type": "code",
   "execution_count": 12,
   "metadata": {},
   "outputs": [
    {
     "output_type": "execute_result",
     "data": {
      "text/plain": [
       "                   Year     1987     1988     1989     1990     1991     1992  \\\n",
       "0                 China  1616.05   1234.1  1436.29  1587.79   1756.6   2094.1   \n",
       "1                 Japan    10817    13123    14105  15547.3  17250.9  17562.5   \n",
       "2     Republic of Korea   1618.1  2118.14  2600.69  3132.09  3568.87  3932.62   \n",
       "3         United States  5696.48  6014.21  6801.07  7653.13  7325.16  7062.85   \n",
       "4                 India       na       na       na       na       na       na   \n",
       "..                  ...      ...      ...      ...      ...      ...      ...   \n",
       "225       Midway Island       na       na       na       na       na       na   \n",
       "226  US Pacific Islands       na       na       na       na       na       na   \n",
       "227         South Sudan     None     None     None     None     None     None   \n",
       "228        Former Sudan       na       na       na       na       na       na   \n",
       "229               Other  3196.91  3037.88  3158.75  3591.09   4732.1  4678.48   \n",
       "\n",
       "        1993     1994     1995  ...     2010     2011      2012     2013  \\\n",
       "0     2578.1  3165.15  3514.73  ...  64892.3  78129.4   74821.3    94074   \n",
       "1    18697.9  19269.5  19983.7  ...  45682.8  52378.1   49852.9  49436.2   \n",
       "2     4803.2  5368.57  7041.78  ...  22662.1  25255.5   21812.6  21456.1   \n",
       "3    7379.96  7020.03  7366.89  ...  14801.7  15455.7   15144.2  16034.5   \n",
       "4         na       na       na  ...  19973.9  18158.2   14465.8    11594   \n",
       "..       ...      ...      ...  ...      ...      ...       ...      ...   \n",
       "225       na       na       na  ...       na       na        na       na   \n",
       "226       na       na       na  ...       na       na        na       na   \n",
       "227     None     None     None  ...     None     None  0.557331       na   \n",
       "228       na       na       na  ...  185.341  202.845   193.014     None   \n",
       "229  5072.87  4874.96  5858.85  ...  6613.42  6953.55   7198.33  7281.74   \n",
       "\n",
       "        2014     2015     2016     2017     2018     2019  \n",
       "0    91740.7  86742.5  95681.9   116013   136585   168575  \n",
       "1    50187.8  42154.9  38451.5  47220.4  58788.5  60417.2  \n",
       "2      22171  20226.1  20430.6  23535.8    26585  28222.3  \n",
       "3    18596.8  22083.4  20617.7  20983.2  23156.9  25440.3  \n",
       "4    11534.2  13906.1  15199.8  20268.6  22408.6    21787  \n",
       "..       ...      ...      ...      ...      ...      ...  \n",
       "225       na       na       na       na       na       na  \n",
       "226       na       na       na       na       na       na  \n",
       "227       na       na       na       na       na       na  \n",
       "228     None     None     None     None     None     None  \n",
       "229  7364.72   6152.3  6517.74  6935.74  6832.74  7442.44  \n",
       "\n",
       "[230 rows x 34 columns]"
      ],
      "text/html": "<div>\n<style scoped>\n    .dataframe tbody tr th:only-of-type {\n        vertical-align: middle;\n    }\n\n    .dataframe tbody tr th {\n        vertical-align: top;\n    }\n\n    .dataframe thead th {\n        text-align: right;\n    }\n</style>\n<table border=\"1\" class=\"dataframe\">\n  <thead>\n    <tr style=\"text-align: right;\">\n      <th></th>\n      <th>Year</th>\n      <th>1987</th>\n      <th>1988</th>\n      <th>1989</th>\n      <th>1990</th>\n      <th>1991</th>\n      <th>1992</th>\n      <th>1993</th>\n      <th>1994</th>\n      <th>1995</th>\n      <th>...</th>\n      <th>2010</th>\n      <th>2011</th>\n      <th>2012</th>\n      <th>2013</th>\n      <th>2014</th>\n      <th>2015</th>\n      <th>2016</th>\n      <th>2017</th>\n      <th>2018</th>\n      <th>2019</th>\n    </tr>\n  </thead>\n  <tbody>\n    <tr>\n      <th>0</th>\n      <td>China</td>\n      <td>1616.05</td>\n      <td>1234.1</td>\n      <td>1436.29</td>\n      <td>1587.79</td>\n      <td>1756.6</td>\n      <td>2094.1</td>\n      <td>2578.1</td>\n      <td>3165.15</td>\n      <td>3514.73</td>\n      <td>...</td>\n      <td>64892.3</td>\n      <td>78129.4</td>\n      <td>74821.3</td>\n      <td>94074</td>\n      <td>91740.7</td>\n      <td>86742.5</td>\n      <td>95681.9</td>\n      <td>116013</td>\n      <td>136585</td>\n      <td>168575</td>\n    </tr>\n    <tr>\n      <th>1</th>\n      <td>Japan</td>\n      <td>10817</td>\n      <td>13123</td>\n      <td>14105</td>\n      <td>15547.3</td>\n      <td>17250.9</td>\n      <td>17562.5</td>\n      <td>18697.9</td>\n      <td>19269.5</td>\n      <td>19983.7</td>\n      <td>...</td>\n      <td>45682.8</td>\n      <td>52378.1</td>\n      <td>49852.9</td>\n      <td>49436.2</td>\n      <td>50187.8</td>\n      <td>42154.9</td>\n      <td>38451.5</td>\n      <td>47220.4</td>\n      <td>58788.5</td>\n      <td>60417.2</td>\n    </tr>\n    <tr>\n      <th>2</th>\n      <td>Republic of Korea</td>\n      <td>1618.1</td>\n      <td>2118.14</td>\n      <td>2600.69</td>\n      <td>3132.09</td>\n      <td>3568.87</td>\n      <td>3932.62</td>\n      <td>4803.2</td>\n      <td>5368.57</td>\n      <td>7041.78</td>\n      <td>...</td>\n      <td>22662.1</td>\n      <td>25255.5</td>\n      <td>21812.6</td>\n      <td>21456.1</td>\n      <td>22171</td>\n      <td>20226.1</td>\n      <td>20430.6</td>\n      <td>23535.8</td>\n      <td>26585</td>\n      <td>28222.3</td>\n    </tr>\n    <tr>\n      <th>3</th>\n      <td>United States</td>\n      <td>5696.48</td>\n      <td>6014.21</td>\n      <td>6801.07</td>\n      <td>7653.13</td>\n      <td>7325.16</td>\n      <td>7062.85</td>\n      <td>7379.96</td>\n      <td>7020.03</td>\n      <td>7366.89</td>\n      <td>...</td>\n      <td>14801.7</td>\n      <td>15455.7</td>\n      <td>15144.2</td>\n      <td>16034.5</td>\n      <td>18596.8</td>\n      <td>22083.4</td>\n      <td>20617.7</td>\n      <td>20983.2</td>\n      <td>23156.9</td>\n      <td>25440.3</td>\n    </tr>\n    <tr>\n      <th>4</th>\n      <td>India</td>\n      <td>na</td>\n      <td>na</td>\n      <td>na</td>\n      <td>na</td>\n      <td>na</td>\n      <td>na</td>\n      <td>na</td>\n      <td>na</td>\n      <td>na</td>\n      <td>...</td>\n      <td>19973.9</td>\n      <td>18158.2</td>\n      <td>14465.8</td>\n      <td>11594</td>\n      <td>11534.2</td>\n      <td>13906.1</td>\n      <td>15199.8</td>\n      <td>20268.6</td>\n      <td>22408.6</td>\n      <td>21787</td>\n    </tr>\n    <tr>\n      <th>...</th>\n      <td>...</td>\n      <td>...</td>\n      <td>...</td>\n      <td>...</td>\n      <td>...</td>\n      <td>...</td>\n      <td>...</td>\n      <td>...</td>\n      <td>...</td>\n      <td>...</td>\n      <td>...</td>\n      <td>...</td>\n      <td>...</td>\n      <td>...</td>\n      <td>...</td>\n      <td>...</td>\n      <td>...</td>\n      <td>...</td>\n      <td>...</td>\n      <td>...</td>\n      <td>...</td>\n    </tr>\n    <tr>\n      <th>225</th>\n      <td>Midway Island</td>\n      <td>na</td>\n      <td>na</td>\n      <td>na</td>\n      <td>na</td>\n      <td>na</td>\n      <td>na</td>\n      <td>na</td>\n      <td>na</td>\n      <td>na</td>\n      <td>...</td>\n      <td>na</td>\n      <td>na</td>\n      <td>na</td>\n      <td>na</td>\n      <td>na</td>\n      <td>na</td>\n      <td>na</td>\n      <td>na</td>\n      <td>na</td>\n      <td>na</td>\n    </tr>\n    <tr>\n      <th>226</th>\n      <td>US Pacific Islands</td>\n      <td>na</td>\n      <td>na</td>\n      <td>na</td>\n      <td>na</td>\n      <td>na</td>\n      <td>na</td>\n      <td>na</td>\n      <td>na</td>\n      <td>na</td>\n      <td>...</td>\n      <td>na</td>\n      <td>na</td>\n      <td>na</td>\n      <td>na</td>\n      <td>na</td>\n      <td>na</td>\n      <td>na</td>\n      <td>na</td>\n      <td>na</td>\n      <td>na</td>\n    </tr>\n    <tr>\n      <th>227</th>\n      <td>South Sudan</td>\n      <td>None</td>\n      <td>None</td>\n      <td>None</td>\n      <td>None</td>\n      <td>None</td>\n      <td>None</td>\n      <td>None</td>\n      <td>None</td>\n      <td>None</td>\n      <td>...</td>\n      <td>None</td>\n      <td>None</td>\n      <td>0.557331</td>\n      <td>na</td>\n      <td>na</td>\n      <td>na</td>\n      <td>na</td>\n      <td>na</td>\n      <td>na</td>\n      <td>na</td>\n    </tr>\n    <tr>\n      <th>228</th>\n      <td>Former Sudan</td>\n      <td>na</td>\n      <td>na</td>\n      <td>na</td>\n      <td>na</td>\n      <td>na</td>\n      <td>na</td>\n      <td>na</td>\n      <td>na</td>\n      <td>na</td>\n      <td>...</td>\n      <td>185.341</td>\n      <td>202.845</td>\n      <td>193.014</td>\n      <td>None</td>\n      <td>None</td>\n      <td>None</td>\n      <td>None</td>\n      <td>None</td>\n      <td>None</td>\n      <td>None</td>\n    </tr>\n    <tr>\n      <th>229</th>\n      <td>Other</td>\n      <td>3196.91</td>\n      <td>3037.88</td>\n      <td>3158.75</td>\n      <td>3591.09</td>\n      <td>4732.1</td>\n      <td>4678.48</td>\n      <td>5072.87</td>\n      <td>4874.96</td>\n      <td>5858.85</td>\n      <td>...</td>\n      <td>6613.42</td>\n      <td>6953.55</td>\n      <td>7198.33</td>\n      <td>7281.74</td>\n      <td>7364.72</td>\n      <td>6152.3</td>\n      <td>6517.74</td>\n      <td>6935.74</td>\n      <td>6832.74</td>\n      <td>7442.44</td>\n    </tr>\n  </tbody>\n</table>\n<p>230 rows × 34 columns</p>\n</div>"
     },
     "metadata": {},
     "execution_count": 12
    }
   ],
   "source": [
    "x = pd.read_sql('SELECT * FROM TradeExport', db_conn)\n",
    "x"
   ]
  },
  {
   "cell_type": "code",
   "execution_count": 13,
   "metadata": {},
   "outputs": [],
   "source": [
    "data_import.to_sql('TradeImport', db_conn, if_exists='append', index=False)"
   ]
  },
  {
   "cell_type": "code",
   "execution_count": 14,
   "metadata": {},
   "outputs": [
    {
     "output_type": "execute_result",
     "data": {
      "text/plain": [
       "                   Year     1987     1988     1989     1990     1991     1992  \\\n",
       "0                 China  834.271   996.65     1355  1456.05   1864.6  2549.47   \n",
       "1         United States  10820.3    12122  15206.5  15983.2  15816.7  16390.6   \n",
       "2                 Japan  8605.89   9601.5  11768.9  10641.2  10018.2  11377.1   \n",
       "3               Germany  3130.72  3215.26  3739.11  3828.42  3584.86  3706.09   \n",
       "4              Thailand  509.124  596.471  822.311  852.804  887.411  1054.84   \n",
       "..                  ...      ...      ...      ...      ...      ...      ...   \n",
       "225       Midway Island       na       na       na       na       na       na   \n",
       "226  US Pacific Islands       na       na       na       na       na       na   \n",
       "227         South Sudan     None     None     None     None     None     None   \n",
       "228        Former Sudan       na       na       na       na       na       na   \n",
       "229               Other  1671.32  3082.23  2538.94  3598.95  3493.32  4022.95   \n",
       "\n",
       "        1993     1994     1995  ...     2010     2011      2012     2013  \\\n",
       "0    3225.46  3745.02  4320.47  ...  40923.6  43919.3   46442.4  49570.6   \n",
       "1    17301.4  19018.7  21252.2  ...  36378.3  40711.6   43310.1  41003.5   \n",
       "2      13264  13649.6  13585.8  ...  20573.5  20078.8   21420.5  21608.6   \n",
       "3    4042.04  4540.28  5676.36  ...    12640  12677.9   13402.8  14132.7   \n",
       "4    1133.79  1240.56  1424.44  ...  13265.7    11066     13085  14287.4   \n",
       "..       ...      ...      ...  ...      ...      ...       ...      ...   \n",
       "225       na       na       na  ...       na       na        na       na   \n",
       "226       na       na       na  ...       na       na        na       na   \n",
       "227     None     None     None  ...     None     None  0.001688       na   \n",
       "228       na       na       na  ...  25.0455  30.0329   29.1227     None   \n",
       "229  4427.01     5431   5069.7  ...    17740  22121.2   24722.9  24032.3   \n",
       "\n",
       "        2014     2015     2016     2017     2018     2019  \n",
       "0      54460  64377.2  62323.2  67448.5  78303.1  82841.7  \n",
       "1    43391.8  49372.3  44953.6  47331.9  50864.9  55532.5  \n",
       "2    20095.8  23027.2  22823.7    24813  26987.6  26357.2  \n",
       "3    14742.8  15569.8  16471.8  16991.9  18771.6  18183.6  \n",
       "4      13266  15804.6  16878.4  17213.3  17913.7  17385.4  \n",
       "..       ...      ...      ...      ...      ...      ...  \n",
       "225       na       na       na       na       na       na  \n",
       "226       na       na       na       na       na       na  \n",
       "227       na       na       na       na       na       na  \n",
       "228     None     None     None     None     None     None  \n",
       "229  18877.8  15335.1    17908  5547.13  18729.4    19869  \n",
       "\n",
       "[230 rows x 34 columns]"
      ],
      "text/html": "<div>\n<style scoped>\n    .dataframe tbody tr th:only-of-type {\n        vertical-align: middle;\n    }\n\n    .dataframe tbody tr th {\n        vertical-align: top;\n    }\n\n    .dataframe thead th {\n        text-align: right;\n    }\n</style>\n<table border=\"1\" class=\"dataframe\">\n  <thead>\n    <tr style=\"text-align: right;\">\n      <th></th>\n      <th>Year</th>\n      <th>1987</th>\n      <th>1988</th>\n      <th>1989</th>\n      <th>1990</th>\n      <th>1991</th>\n      <th>1992</th>\n      <th>1993</th>\n      <th>1994</th>\n      <th>1995</th>\n      <th>...</th>\n      <th>2010</th>\n      <th>2011</th>\n      <th>2012</th>\n      <th>2013</th>\n      <th>2014</th>\n      <th>2015</th>\n      <th>2016</th>\n      <th>2017</th>\n      <th>2018</th>\n      <th>2019</th>\n    </tr>\n  </thead>\n  <tbody>\n    <tr>\n      <th>0</th>\n      <td>China</td>\n      <td>834.271</td>\n      <td>996.65</td>\n      <td>1355</td>\n      <td>1456.05</td>\n      <td>1864.6</td>\n      <td>2549.47</td>\n      <td>3225.46</td>\n      <td>3745.02</td>\n      <td>4320.47</td>\n      <td>...</td>\n      <td>40923.6</td>\n      <td>43919.3</td>\n      <td>46442.4</td>\n      <td>49570.6</td>\n      <td>54460</td>\n      <td>64377.2</td>\n      <td>62323.2</td>\n      <td>67448.5</td>\n      <td>78303.1</td>\n      <td>82841.7</td>\n    </tr>\n    <tr>\n      <th>1</th>\n      <td>United States</td>\n      <td>10820.3</td>\n      <td>12122</td>\n      <td>15206.5</td>\n      <td>15983.2</td>\n      <td>15816.7</td>\n      <td>16390.6</td>\n      <td>17301.4</td>\n      <td>19018.7</td>\n      <td>21252.2</td>\n      <td>...</td>\n      <td>36378.3</td>\n      <td>40711.6</td>\n      <td>43310.1</td>\n      <td>41003.5</td>\n      <td>43391.8</td>\n      <td>49372.3</td>\n      <td>44953.6</td>\n      <td>47331.9</td>\n      <td>50864.9</td>\n      <td>55532.5</td>\n    </tr>\n    <tr>\n      <th>2</th>\n      <td>Japan</td>\n      <td>8605.89</td>\n      <td>9601.5</td>\n      <td>11768.9</td>\n      <td>10641.2</td>\n      <td>10018.2</td>\n      <td>11377.1</td>\n      <td>13264</td>\n      <td>13649.6</td>\n      <td>13585.8</td>\n      <td>...</td>\n      <td>20573.5</td>\n      <td>20078.8</td>\n      <td>21420.5</td>\n      <td>21608.6</td>\n      <td>20095.8</td>\n      <td>23027.2</td>\n      <td>22823.7</td>\n      <td>24813</td>\n      <td>26987.6</td>\n      <td>26357.2</td>\n    </tr>\n    <tr>\n      <th>3</th>\n      <td>Germany</td>\n      <td>3130.72</td>\n      <td>3215.26</td>\n      <td>3739.11</td>\n      <td>3828.42</td>\n      <td>3584.86</td>\n      <td>3706.09</td>\n      <td>4042.04</td>\n      <td>4540.28</td>\n      <td>5676.36</td>\n      <td>...</td>\n      <td>12640</td>\n      <td>12677.9</td>\n      <td>13402.8</td>\n      <td>14132.7</td>\n      <td>14742.8</td>\n      <td>15569.8</td>\n      <td>16471.8</td>\n      <td>16991.9</td>\n      <td>18771.6</td>\n      <td>18183.6</td>\n    </tr>\n    <tr>\n      <th>4</th>\n      <td>Thailand</td>\n      <td>509.124</td>\n      <td>596.471</td>\n      <td>822.311</td>\n      <td>852.804</td>\n      <td>887.411</td>\n      <td>1054.84</td>\n      <td>1133.79</td>\n      <td>1240.56</td>\n      <td>1424.44</td>\n      <td>...</td>\n      <td>13265.7</td>\n      <td>11066</td>\n      <td>13085</td>\n      <td>14287.4</td>\n      <td>13266</td>\n      <td>15804.6</td>\n      <td>16878.4</td>\n      <td>17213.3</td>\n      <td>17913.7</td>\n      <td>17385.4</td>\n    </tr>\n    <tr>\n      <th>...</th>\n      <td>...</td>\n      <td>...</td>\n      <td>...</td>\n      <td>...</td>\n      <td>...</td>\n      <td>...</td>\n      <td>...</td>\n      <td>...</td>\n      <td>...</td>\n      <td>...</td>\n      <td>...</td>\n      <td>...</td>\n      <td>...</td>\n      <td>...</td>\n      <td>...</td>\n      <td>...</td>\n      <td>...</td>\n      <td>...</td>\n      <td>...</td>\n      <td>...</td>\n      <td>...</td>\n    </tr>\n    <tr>\n      <th>225</th>\n      <td>Midway Island</td>\n      <td>na</td>\n      <td>na</td>\n      <td>na</td>\n      <td>na</td>\n      <td>na</td>\n      <td>na</td>\n      <td>na</td>\n      <td>na</td>\n      <td>na</td>\n      <td>...</td>\n      <td>na</td>\n      <td>na</td>\n      <td>na</td>\n      <td>na</td>\n      <td>na</td>\n      <td>na</td>\n      <td>na</td>\n      <td>na</td>\n      <td>na</td>\n      <td>na</td>\n    </tr>\n    <tr>\n      <th>226</th>\n      <td>US Pacific Islands</td>\n      <td>na</td>\n      <td>na</td>\n      <td>na</td>\n      <td>na</td>\n      <td>na</td>\n      <td>na</td>\n      <td>na</td>\n      <td>na</td>\n      <td>na</td>\n      <td>...</td>\n      <td>na</td>\n      <td>na</td>\n      <td>na</td>\n      <td>na</td>\n      <td>na</td>\n      <td>na</td>\n      <td>na</td>\n      <td>na</td>\n      <td>na</td>\n      <td>na</td>\n    </tr>\n    <tr>\n      <th>227</th>\n      <td>South Sudan</td>\n      <td>None</td>\n      <td>None</td>\n      <td>None</td>\n      <td>None</td>\n      <td>None</td>\n      <td>None</td>\n      <td>None</td>\n      <td>None</td>\n      <td>None</td>\n      <td>...</td>\n      <td>None</td>\n      <td>None</td>\n      <td>0.001688</td>\n      <td>na</td>\n      <td>na</td>\n      <td>na</td>\n      <td>na</td>\n      <td>na</td>\n      <td>na</td>\n      <td>na</td>\n    </tr>\n    <tr>\n      <th>228</th>\n      <td>Former Sudan</td>\n      <td>na</td>\n      <td>na</td>\n      <td>na</td>\n      <td>na</td>\n      <td>na</td>\n      <td>na</td>\n      <td>na</td>\n      <td>na</td>\n      <td>na</td>\n      <td>...</td>\n      <td>25.0455</td>\n      <td>30.0329</td>\n      <td>29.1227</td>\n      <td>None</td>\n      <td>None</td>\n      <td>None</td>\n      <td>None</td>\n      <td>None</td>\n      <td>None</td>\n      <td>None</td>\n    </tr>\n    <tr>\n      <th>229</th>\n      <td>Other</td>\n      <td>1671.32</td>\n      <td>3082.23</td>\n      <td>2538.94</td>\n      <td>3598.95</td>\n      <td>3493.32</td>\n      <td>4022.95</td>\n      <td>4427.01</td>\n      <td>5431</td>\n      <td>5069.7</td>\n      <td>...</td>\n      <td>17740</td>\n      <td>22121.2</td>\n      <td>24722.9</td>\n      <td>24032.3</td>\n      <td>18877.8</td>\n      <td>15335.1</td>\n      <td>17908</td>\n      <td>5547.13</td>\n      <td>18729.4</td>\n      <td>19869</td>\n    </tr>\n  </tbody>\n</table>\n<p>230 rows × 34 columns</p>\n</div>"
     },
     "metadata": {},
     "execution_count": 14
    }
   ],
   "source": [
    "y = pd.read_sql('SELECT * FROM TradeImport', db_conn)\n",
    "y"
   ]
  },
  {
   "cell_type": "code",
   "execution_count": 15,
   "metadata": {},
   "outputs": [
    {
     "output_type": "execute_result",
     "data": {
      "text/plain": [
       "                   Year   1987_x   1988_x   1989_x   1990_x   1991_x   1992_x  \\\n",
       "0                 China  1616.05   1234.1  1436.29  1587.79   1756.6   2094.1   \n",
       "1                 Japan    10817    13123    14105  15547.3  17250.9  17562.5   \n",
       "2     Republic of Korea   1618.1  2118.14  2600.69  3132.09  3568.87  3932.62   \n",
       "3         United States  5696.48  6014.21  6801.07  7653.13  7325.16  7062.85   \n",
       "4                 India       na       na       na       na       na       na   \n",
       "..                  ...      ...      ...      ...      ...      ...      ...   \n",
       "217       Midway Island       na       na       na       na       na       na   \n",
       "218  US Pacific Islands       na       na       na       na       na       na   \n",
       "219         South Sudan     None     None     None     None     None     None   \n",
       "220        Former Sudan       na       na       na       na       na       na   \n",
       "221               Other  3196.91  3037.88  3158.75  3591.09   4732.1  4678.48   \n",
       "\n",
       "      1993_x   1994_x   1995_x  ...   2010_y   2011_y    2012_y   2013_y  \\\n",
       "0     2578.1  3165.15  3514.73  ...  40923.6  43919.3   46442.4  49570.6   \n",
       "1    18697.9  19269.5  19983.7  ...  20573.5  20078.8   21420.5  21608.6   \n",
       "2     4803.2  5368.57  7041.78  ...  7633.91  7600.14   10517.8  11414.7   \n",
       "3    7379.96  7020.03  7366.89  ...  36378.3  40711.6   43310.1  41003.5   \n",
       "4         na       na       na  ...  2841.53  3170.31   3792.78   4089.8   \n",
       "..       ...      ...      ...  ...      ...      ...       ...      ...   \n",
       "217       na       na       na  ...       na       na        na       na   \n",
       "218       na       na       na  ...       na       na        na       na   \n",
       "219     None     None     None  ...     None     None  0.001688       na   \n",
       "220       na       na       na  ...  25.0455  30.0329   29.1227     None   \n",
       "221  5072.87  4874.96  5858.85  ...    17740  22121.2   24722.9  24032.3   \n",
       "\n",
       "      2014_y   2015_y   2016_y   2017_y   2018_y   2019_y  \n",
       "0      54460  64377.2  62323.2  67448.5  78303.1  82841.7  \n",
       "1    20095.8  23027.2  22823.7    24813  26987.6  26357.2  \n",
       "2      13266  16168.9    11870  31746.6    14455  13096.2  \n",
       "3    43391.8  49372.3  44953.6  47331.9  50864.9  55532.5  \n",
       "4    4699.14  6569.86  6317.15  7351.95  8012.24  7445.04  \n",
       "..       ...      ...      ...      ...      ...      ...  \n",
       "217       na       na       na       na       na       na  \n",
       "218       na       na       na       na       na       na  \n",
       "219       na       na       na       na       na       na  \n",
       "220     None     None     None     None     None     None  \n",
       "221  18877.8  15335.1    17908  5547.13  18729.4    19869  \n",
       "\n",
       "[222 rows x 67 columns]"
      ],
      "text/html": "<div>\n<style scoped>\n    .dataframe tbody tr th:only-of-type {\n        vertical-align: middle;\n    }\n\n    .dataframe tbody tr th {\n        vertical-align: top;\n    }\n\n    .dataframe thead th {\n        text-align: right;\n    }\n</style>\n<table border=\"1\" class=\"dataframe\">\n  <thead>\n    <tr style=\"text-align: right;\">\n      <th></th>\n      <th>Year</th>\n      <th>1987_x</th>\n      <th>1988_x</th>\n      <th>1989_x</th>\n      <th>1990_x</th>\n      <th>1991_x</th>\n      <th>1992_x</th>\n      <th>1993_x</th>\n      <th>1994_x</th>\n      <th>1995_x</th>\n      <th>...</th>\n      <th>2010_y</th>\n      <th>2011_y</th>\n      <th>2012_y</th>\n      <th>2013_y</th>\n      <th>2014_y</th>\n      <th>2015_y</th>\n      <th>2016_y</th>\n      <th>2017_y</th>\n      <th>2018_y</th>\n      <th>2019_y</th>\n    </tr>\n  </thead>\n  <tbody>\n    <tr>\n      <th>0</th>\n      <td>China</td>\n      <td>1616.05</td>\n      <td>1234.1</td>\n      <td>1436.29</td>\n      <td>1587.79</td>\n      <td>1756.6</td>\n      <td>2094.1</td>\n      <td>2578.1</td>\n      <td>3165.15</td>\n      <td>3514.73</td>\n      <td>...</td>\n      <td>40923.6</td>\n      <td>43919.3</td>\n      <td>46442.4</td>\n      <td>49570.6</td>\n      <td>54460</td>\n      <td>64377.2</td>\n      <td>62323.2</td>\n      <td>67448.5</td>\n      <td>78303.1</td>\n      <td>82841.7</td>\n    </tr>\n    <tr>\n      <th>1</th>\n      <td>Japan</td>\n      <td>10817</td>\n      <td>13123</td>\n      <td>14105</td>\n      <td>15547.3</td>\n      <td>17250.9</td>\n      <td>17562.5</td>\n      <td>18697.9</td>\n      <td>19269.5</td>\n      <td>19983.7</td>\n      <td>...</td>\n      <td>20573.5</td>\n      <td>20078.8</td>\n      <td>21420.5</td>\n      <td>21608.6</td>\n      <td>20095.8</td>\n      <td>23027.2</td>\n      <td>22823.7</td>\n      <td>24813</td>\n      <td>26987.6</td>\n      <td>26357.2</td>\n    </tr>\n    <tr>\n      <th>2</th>\n      <td>Republic of Korea</td>\n      <td>1618.1</td>\n      <td>2118.14</td>\n      <td>2600.69</td>\n      <td>3132.09</td>\n      <td>3568.87</td>\n      <td>3932.62</td>\n      <td>4803.2</td>\n      <td>5368.57</td>\n      <td>7041.78</td>\n      <td>...</td>\n      <td>7633.91</td>\n      <td>7600.14</td>\n      <td>10517.8</td>\n      <td>11414.7</td>\n      <td>13266</td>\n      <td>16168.9</td>\n      <td>11870</td>\n      <td>31746.6</td>\n      <td>14455</td>\n      <td>13096.2</td>\n    </tr>\n    <tr>\n      <th>3</th>\n      <td>United States</td>\n      <td>5696.48</td>\n      <td>6014.21</td>\n      <td>6801.07</td>\n      <td>7653.13</td>\n      <td>7325.16</td>\n      <td>7062.85</td>\n      <td>7379.96</td>\n      <td>7020.03</td>\n      <td>7366.89</td>\n      <td>...</td>\n      <td>36378.3</td>\n      <td>40711.6</td>\n      <td>43310.1</td>\n      <td>41003.5</td>\n      <td>43391.8</td>\n      <td>49372.3</td>\n      <td>44953.6</td>\n      <td>47331.9</td>\n      <td>50864.9</td>\n      <td>55532.5</td>\n    </tr>\n    <tr>\n      <th>4</th>\n      <td>India</td>\n      <td>na</td>\n      <td>na</td>\n      <td>na</td>\n      <td>na</td>\n      <td>na</td>\n      <td>na</td>\n      <td>na</td>\n      <td>na</td>\n      <td>na</td>\n      <td>...</td>\n      <td>2841.53</td>\n      <td>3170.31</td>\n      <td>3792.78</td>\n      <td>4089.8</td>\n      <td>4699.14</td>\n      <td>6569.86</td>\n      <td>6317.15</td>\n      <td>7351.95</td>\n      <td>8012.24</td>\n      <td>7445.04</td>\n    </tr>\n    <tr>\n      <th>...</th>\n      <td>...</td>\n      <td>...</td>\n      <td>...</td>\n      <td>...</td>\n      <td>...</td>\n      <td>...</td>\n      <td>...</td>\n      <td>...</td>\n      <td>...</td>\n      <td>...</td>\n      <td>...</td>\n      <td>...</td>\n      <td>...</td>\n      <td>...</td>\n      <td>...</td>\n      <td>...</td>\n      <td>...</td>\n      <td>...</td>\n      <td>...</td>\n      <td>...</td>\n      <td>...</td>\n    </tr>\n    <tr>\n      <th>217</th>\n      <td>Midway Island</td>\n      <td>na</td>\n      <td>na</td>\n      <td>na</td>\n      <td>na</td>\n      <td>na</td>\n      <td>na</td>\n      <td>na</td>\n      <td>na</td>\n      <td>na</td>\n      <td>...</td>\n      <td>na</td>\n      <td>na</td>\n      <td>na</td>\n      <td>na</td>\n      <td>na</td>\n      <td>na</td>\n      <td>na</td>\n      <td>na</td>\n      <td>na</td>\n      <td>na</td>\n    </tr>\n    <tr>\n      <th>218</th>\n      <td>US Pacific Islands</td>\n      <td>na</td>\n      <td>na</td>\n      <td>na</td>\n      <td>na</td>\n      <td>na</td>\n      <td>na</td>\n      <td>na</td>\n      <td>na</td>\n      <td>na</td>\n      <td>...</td>\n      <td>na</td>\n      <td>na</td>\n      <td>na</td>\n      <td>na</td>\n      <td>na</td>\n      <td>na</td>\n      <td>na</td>\n      <td>na</td>\n      <td>na</td>\n      <td>na</td>\n    </tr>\n    <tr>\n      <th>219</th>\n      <td>South Sudan</td>\n      <td>None</td>\n      <td>None</td>\n      <td>None</td>\n      <td>None</td>\n      <td>None</td>\n      <td>None</td>\n      <td>None</td>\n      <td>None</td>\n      <td>None</td>\n      <td>...</td>\n      <td>None</td>\n      <td>None</td>\n      <td>0.001688</td>\n      <td>na</td>\n      <td>na</td>\n      <td>na</td>\n      <td>na</td>\n      <td>na</td>\n      <td>na</td>\n      <td>na</td>\n    </tr>\n    <tr>\n      <th>220</th>\n      <td>Former Sudan</td>\n      <td>na</td>\n      <td>na</td>\n      <td>na</td>\n      <td>na</td>\n      <td>na</td>\n      <td>na</td>\n      <td>na</td>\n      <td>na</td>\n      <td>na</td>\n      <td>...</td>\n      <td>25.0455</td>\n      <td>30.0329</td>\n      <td>29.1227</td>\n      <td>None</td>\n      <td>None</td>\n      <td>None</td>\n      <td>None</td>\n      <td>None</td>\n      <td>None</td>\n      <td>None</td>\n    </tr>\n    <tr>\n      <th>221</th>\n      <td>Other</td>\n      <td>3196.91</td>\n      <td>3037.88</td>\n      <td>3158.75</td>\n      <td>3591.09</td>\n      <td>4732.1</td>\n      <td>4678.48</td>\n      <td>5072.87</td>\n      <td>4874.96</td>\n      <td>5858.85</td>\n      <td>...</td>\n      <td>17740</td>\n      <td>22121.2</td>\n      <td>24722.9</td>\n      <td>24032.3</td>\n      <td>18877.8</td>\n      <td>15335.1</td>\n      <td>17908</td>\n      <td>5547.13</td>\n      <td>18729.4</td>\n      <td>19869</td>\n    </tr>\n  </tbody>\n</table>\n<p>222 rows × 67 columns</p>\n</div>"
     },
     "metadata": {},
     "execution_count": 15
    }
   ],
   "source": [
    "a = x.merge(y, on='Year')\n",
    "a"
   ]
  },
  {
   "cell_type": "code",
   "execution_count": 16,
   "metadata": {
    "tags": []
   },
   "outputs": [
    {
     "output_type": "execute_result",
     "data": {
      "text/plain": [
       "21           Switzerland (g)\n",
       "22                France (d)\n",
       "26               Belgium (c)\n",
       "28                 Italy (e)\n",
       "31               Bahrain (b)\n",
       "34    Russian Federation (f)\n",
       "43                 Egypt (b)\n",
       "54               Iceland (b)\n",
       "Name: Year, dtype: object"
      ]
     },
     "metadata": {},
     "execution_count": 16
    }
   ],
   "source": [
    "x_c = x[~x['Year'].isin(a['Year'])]['Year']\n",
    "x_c"
   ]
  },
  {
   "cell_type": "code",
   "execution_count": 17,
   "metadata": {},
   "outputs": [],
   "source": [
    "for i in x_c:\n",
    "    sql_query = f'UPDATE TradeExport SET Year = \"{i[:-4]}\" WHERE Year = \"{i}\";'\n",
    "    db_curs.execute(sql_query)"
   ]
  },
  {
   "cell_type": "code",
   "execution_count": 18,
   "metadata": {},
   "outputs": [
    {
     "output_type": "execute_result",
     "data": {
      "text/plain": [
       "10                  Italy (d)\n",
       "12                 France (c)\n",
       "19            Switzerland (f)\n",
       "27                Belgium (b)\n",
       "51     Russian Federation (e)\n",
       "65                      Egypt\n",
       "90                    Bahrain\n",
       "117                   Iceland\n",
       "Name: Year, dtype: object"
      ]
     },
     "metadata": {},
     "execution_count": 18
    }
   ],
   "source": [
    "y_c = y[~y['Year'].isin(a['Year'])]['Year']\n",
    "y_c"
   ]
  },
  {
   "cell_type": "code",
   "execution_count": 19,
   "metadata": {
    "tags": []
   },
   "outputs": [
    {
     "output_type": "stream",
     "name": "stdout",
     "text": [
      "UPDATE TradeImport SET Year = \"Italy\" WHERE Year = \"Italy (d)\";\nUPDATE TradeImport SET Year = \"France\" WHERE Year = \"France (c)\";\nUPDATE TradeImport SET Year = \"Switzerland\" WHERE Year = \"Switzerland (f)\";\nUPDATE TradeImport SET Year = \"Belgium\" WHERE Year = \"Belgium (b)\";\nUPDATE TradeImport SET Year = \"Russian Federation\" WHERE Year = \"Russian Federation (e)\";\n"
     ]
    }
   ],
   "source": [
    "for j in y_c[:5]:\n",
    "    sql_query = f'UPDATE TradeImport SET Year = \"{j[:-4]}\" WHERE Year = \"{j}\";'\n",
    "    print(sql_query)\n",
    "    db_curs.execute(sql_query)"
   ]
  },
  {
   "cell_type": "code",
   "execution_count": 20,
   "metadata": {},
   "outputs": [
    {
     "output_type": "execute_result",
     "data": {
      "text/plain": [
       "                   Year     1987     1988     1989     1990     1991     1992  \\\n",
       "0                 China  1616.05   1234.1  1436.29  1587.79   1756.6   2094.1   \n",
       "1                 Japan    10817    13123    14105  15547.3  17250.9  17562.5   \n",
       "2     Republic of Korea   1618.1  2118.14  2600.69  3132.09  3568.87  3932.62   \n",
       "3         United States  5696.48  6014.21  6801.07  7653.13  7325.16  7062.85   \n",
       "4                 India       na       na       na       na       na       na   \n",
       "..                  ...      ...      ...      ...      ...      ...      ...   \n",
       "225       Midway Island       na       na       na       na       na       na   \n",
       "226  US Pacific Islands       na       na       na       na       na       na   \n",
       "227         South Sudan     None     None     None     None     None     None   \n",
       "228        Former Sudan       na       na       na       na       na       na   \n",
       "229               Other  3196.91  3037.88  3158.75  3591.09   4732.1  4678.48   \n",
       "\n",
       "        1993     1994     1995  ...     2010     2011      2012     2013  \\\n",
       "0     2578.1  3165.15  3514.73  ...  64892.3  78129.4   74821.3    94074   \n",
       "1    18697.9  19269.5  19983.7  ...  45682.8  52378.1   49852.9  49436.2   \n",
       "2     4803.2  5368.57  7041.78  ...  22662.1  25255.5   21812.6  21456.1   \n",
       "3    7379.96  7020.03  7366.89  ...  14801.7  15455.7   15144.2  16034.5   \n",
       "4         na       na       na  ...  19973.9  18158.2   14465.8    11594   \n",
       "..       ...      ...      ...  ...      ...      ...       ...      ...   \n",
       "225       na       na       na  ...       na       na        na       na   \n",
       "226       na       na       na  ...       na       na        na       na   \n",
       "227     None     None     None  ...     None     None  0.557331       na   \n",
       "228       na       na       na  ...  185.341  202.845   193.014     None   \n",
       "229  5072.87  4874.96  5858.85  ...  6613.42  6953.55   7198.33  7281.74   \n",
       "\n",
       "        2014     2015     2016     2017     2018     2019  \n",
       "0    91740.7  86742.5  95681.9   116013   136585   168575  \n",
       "1    50187.8  42154.9  38451.5  47220.4  58788.5  60417.2  \n",
       "2      22171  20226.1  20430.6  23535.8    26585  28222.3  \n",
       "3    18596.8  22083.4  20617.7  20983.2  23156.9  25440.3  \n",
       "4    11534.2  13906.1  15199.8  20268.6  22408.6    21787  \n",
       "..       ...      ...      ...      ...      ...      ...  \n",
       "225       na       na       na       na       na       na  \n",
       "226       na       na       na       na       na       na  \n",
       "227       na       na       na       na       na       na  \n",
       "228     None     None     None     None     None     None  \n",
       "229  7364.72   6152.3  6517.74  6935.74  6832.74  7442.44  \n",
       "\n",
       "[230 rows x 34 columns]"
      ],
      "text/html": "<div>\n<style scoped>\n    .dataframe tbody tr th:only-of-type {\n        vertical-align: middle;\n    }\n\n    .dataframe tbody tr th {\n        vertical-align: top;\n    }\n\n    .dataframe thead th {\n        text-align: right;\n    }\n</style>\n<table border=\"1\" class=\"dataframe\">\n  <thead>\n    <tr style=\"text-align: right;\">\n      <th></th>\n      <th>Year</th>\n      <th>1987</th>\n      <th>1988</th>\n      <th>1989</th>\n      <th>1990</th>\n      <th>1991</th>\n      <th>1992</th>\n      <th>1993</th>\n      <th>1994</th>\n      <th>1995</th>\n      <th>...</th>\n      <th>2010</th>\n      <th>2011</th>\n      <th>2012</th>\n      <th>2013</th>\n      <th>2014</th>\n      <th>2015</th>\n      <th>2016</th>\n      <th>2017</th>\n      <th>2018</th>\n      <th>2019</th>\n    </tr>\n  </thead>\n  <tbody>\n    <tr>\n      <th>0</th>\n      <td>China</td>\n      <td>1616.05</td>\n      <td>1234.1</td>\n      <td>1436.29</td>\n      <td>1587.79</td>\n      <td>1756.6</td>\n      <td>2094.1</td>\n      <td>2578.1</td>\n      <td>3165.15</td>\n      <td>3514.73</td>\n      <td>...</td>\n      <td>64892.3</td>\n      <td>78129.4</td>\n      <td>74821.3</td>\n      <td>94074</td>\n      <td>91740.7</td>\n      <td>86742.5</td>\n      <td>95681.9</td>\n      <td>116013</td>\n      <td>136585</td>\n      <td>168575</td>\n    </tr>\n    <tr>\n      <th>1</th>\n      <td>Japan</td>\n      <td>10817</td>\n      <td>13123</td>\n      <td>14105</td>\n      <td>15547.3</td>\n      <td>17250.9</td>\n      <td>17562.5</td>\n      <td>18697.9</td>\n      <td>19269.5</td>\n      <td>19983.7</td>\n      <td>...</td>\n      <td>45682.8</td>\n      <td>52378.1</td>\n      <td>49852.9</td>\n      <td>49436.2</td>\n      <td>50187.8</td>\n      <td>42154.9</td>\n      <td>38451.5</td>\n      <td>47220.4</td>\n      <td>58788.5</td>\n      <td>60417.2</td>\n    </tr>\n    <tr>\n      <th>2</th>\n      <td>Republic of Korea</td>\n      <td>1618.1</td>\n      <td>2118.14</td>\n      <td>2600.69</td>\n      <td>3132.09</td>\n      <td>3568.87</td>\n      <td>3932.62</td>\n      <td>4803.2</td>\n      <td>5368.57</td>\n      <td>7041.78</td>\n      <td>...</td>\n      <td>22662.1</td>\n      <td>25255.5</td>\n      <td>21812.6</td>\n      <td>21456.1</td>\n      <td>22171</td>\n      <td>20226.1</td>\n      <td>20430.6</td>\n      <td>23535.8</td>\n      <td>26585</td>\n      <td>28222.3</td>\n    </tr>\n    <tr>\n      <th>3</th>\n      <td>United States</td>\n      <td>5696.48</td>\n      <td>6014.21</td>\n      <td>6801.07</td>\n      <td>7653.13</td>\n      <td>7325.16</td>\n      <td>7062.85</td>\n      <td>7379.96</td>\n      <td>7020.03</td>\n      <td>7366.89</td>\n      <td>...</td>\n      <td>14801.7</td>\n      <td>15455.7</td>\n      <td>15144.2</td>\n      <td>16034.5</td>\n      <td>18596.8</td>\n      <td>22083.4</td>\n      <td>20617.7</td>\n      <td>20983.2</td>\n      <td>23156.9</td>\n      <td>25440.3</td>\n    </tr>\n    <tr>\n      <th>4</th>\n      <td>India</td>\n      <td>na</td>\n      <td>na</td>\n      <td>na</td>\n      <td>na</td>\n      <td>na</td>\n      <td>na</td>\n      <td>na</td>\n      <td>na</td>\n      <td>na</td>\n      <td>...</td>\n      <td>19973.9</td>\n      <td>18158.2</td>\n      <td>14465.8</td>\n      <td>11594</td>\n      <td>11534.2</td>\n      <td>13906.1</td>\n      <td>15199.8</td>\n      <td>20268.6</td>\n      <td>22408.6</td>\n      <td>21787</td>\n    </tr>\n    <tr>\n      <th>...</th>\n      <td>...</td>\n      <td>...</td>\n      <td>...</td>\n      <td>...</td>\n      <td>...</td>\n      <td>...</td>\n      <td>...</td>\n      <td>...</td>\n      <td>...</td>\n      <td>...</td>\n      <td>...</td>\n      <td>...</td>\n      <td>...</td>\n      <td>...</td>\n      <td>...</td>\n      <td>...</td>\n      <td>...</td>\n      <td>...</td>\n      <td>...</td>\n      <td>...</td>\n      <td>...</td>\n    </tr>\n    <tr>\n      <th>225</th>\n      <td>Midway Island</td>\n      <td>na</td>\n      <td>na</td>\n      <td>na</td>\n      <td>na</td>\n      <td>na</td>\n      <td>na</td>\n      <td>na</td>\n      <td>na</td>\n      <td>na</td>\n      <td>...</td>\n      <td>na</td>\n      <td>na</td>\n      <td>na</td>\n      <td>na</td>\n      <td>na</td>\n      <td>na</td>\n      <td>na</td>\n      <td>na</td>\n      <td>na</td>\n      <td>na</td>\n    </tr>\n    <tr>\n      <th>226</th>\n      <td>US Pacific Islands</td>\n      <td>na</td>\n      <td>na</td>\n      <td>na</td>\n      <td>na</td>\n      <td>na</td>\n      <td>na</td>\n      <td>na</td>\n      <td>na</td>\n      <td>na</td>\n      <td>...</td>\n      <td>na</td>\n      <td>na</td>\n      <td>na</td>\n      <td>na</td>\n      <td>na</td>\n      <td>na</td>\n      <td>na</td>\n      <td>na</td>\n      <td>na</td>\n      <td>na</td>\n    </tr>\n    <tr>\n      <th>227</th>\n      <td>South Sudan</td>\n      <td>None</td>\n      <td>None</td>\n      <td>None</td>\n      <td>None</td>\n      <td>None</td>\n      <td>None</td>\n      <td>None</td>\n      <td>None</td>\n      <td>None</td>\n      <td>...</td>\n      <td>None</td>\n      <td>None</td>\n      <td>0.557331</td>\n      <td>na</td>\n      <td>na</td>\n      <td>na</td>\n      <td>na</td>\n      <td>na</td>\n      <td>na</td>\n      <td>na</td>\n    </tr>\n    <tr>\n      <th>228</th>\n      <td>Former Sudan</td>\n      <td>na</td>\n      <td>na</td>\n      <td>na</td>\n      <td>na</td>\n      <td>na</td>\n      <td>na</td>\n      <td>na</td>\n      <td>na</td>\n      <td>na</td>\n      <td>...</td>\n      <td>185.341</td>\n      <td>202.845</td>\n      <td>193.014</td>\n      <td>None</td>\n      <td>None</td>\n      <td>None</td>\n      <td>None</td>\n      <td>None</td>\n      <td>None</td>\n      <td>None</td>\n    </tr>\n    <tr>\n      <th>229</th>\n      <td>Other</td>\n      <td>3196.91</td>\n      <td>3037.88</td>\n      <td>3158.75</td>\n      <td>3591.09</td>\n      <td>4732.1</td>\n      <td>4678.48</td>\n      <td>5072.87</td>\n      <td>4874.96</td>\n      <td>5858.85</td>\n      <td>...</td>\n      <td>6613.42</td>\n      <td>6953.55</td>\n      <td>7198.33</td>\n      <td>7281.74</td>\n      <td>7364.72</td>\n      <td>6152.3</td>\n      <td>6517.74</td>\n      <td>6935.74</td>\n      <td>6832.74</td>\n      <td>7442.44</td>\n    </tr>\n  </tbody>\n</table>\n<p>230 rows × 34 columns</p>\n</div>"
     },
     "metadata": {},
     "execution_count": 20
    }
   ],
   "source": [
    "xx = pd.read_sql('SELECT * FROM TradeExport', db_conn)\n",
    "xx"
   ]
  },
  {
   "cell_type": "code",
   "execution_count": 21,
   "metadata": {},
   "outputs": [
    {
     "output_type": "stream",
     "name": "stdout",
     "text": [
      "China\nJapan\nRepublic of Korea\nUnited States\nIndia\nUnited Kingdom\nSingapore\nNew Zealand\nTaiwan\nMalaysia\nHong Kong (SAR of China)\nIndonesia\nVietnam\nThailand\nGermany\nUnited Arab Emirates\nNetherlands\nPhilippines\nCanada\nNepal\nPapua New Guinea\nSwitzerland\nFrance\nBrazil\nSouth Africa\nIreland\nBelgium\nBangladesh\nItaly\nPakistan\nSaudi Arabia\nBahrain\nSri Lanka\nQatar\nRussian Federation\nSpain\nColombia\nSweden\nPoland\nFiji\nChile\nNew Caledonia\nTurkey\nEgypt\nNorway\nMozambique\nOman\nKuwait\nMexico\nArgentina\nIsrael\nDenmark\nKenya\nCayman Islands\nIceland\nCambodia\nIran\nMauritius\nMyanmar\nYemen\nMacau (SAR of China)\nNigeria\nPeru\nMongolia\nCzech Republic\nBermuda\nJordan\nFinland\nGhana\nBhutan\nSolomon Islands\nAustria\nVanuatu\nGreece\nSlovenia\nUkraine\nPanama\nBrunei\nVenezuela\nLebanon\nHungary\nPortugal\nCote d'Ivoire\nGeorgia\nZimbabwe\nLuxembourg\nTimor-Leste\nSamoa\nMaldives\nLaos\nFrench Polynesia\nTanzania\nNauru\nIraq\nTonga\nRomania\nEstonia\nSlovak Republic\nKazakhstan\nEcuador\nBulgaria\nZambia\nLithuania\nUruguay\nTrinidad & Tobago\nBurkina Faso\nCyprus\nLatvia\nBotswana\nJamaica\nMadagascar\nGibraltar\nSouthern and East Africa nec\nSenegal\nMorocco\nKiribati\nNorth Macedonia\nBahamas\nMalta\nSerbia\nCroatia\nAfghanistan\nEthiopia\nSuriname\nDominican Republic\nCook Islands\nMali\nSierra Leone\nUganda\nUK Virgin Islands\nSudan\nNamibia\nEl Salvador\nSeychelles\nUzbekistan\nMarshall Islands\nNorfolk Island\nGuam\nAzerbaijan\nAmerican Samoa\nReunion\nMauritania\nCosta Rica\nEritrea\nGuatemala\nBelarus\nBarbados\nParaguay\nGuyana\nAlgeria\nTogo\nLibya\nMalawi\nBosnia-Herzegovina\nGuinea\nKyrgyzstan\nTuvalu\nAlbania\nAngola\nDemocratic Republic of the Congo\nBolivia\nRwanda\nFederated States of Micronesia\nCameroon\nSyria\nTunisia\nEswatini\nWallis & Futuna Island\nLiberia\nHonduras\nArmenia\nPuerto Rico\nCuba\nSomalia\nPalau\nChad\nGaza Strip and West Bank\nSt Lucia\nMontenegro\nGabon\nNorthern Mariana Islands\nDjibouti\nGrenada\nDominica\nBelize\nSt Vincent & Grenadines\nRepublic of Congo\nPolynesia (excl Hawaii) nec\nBurundi\nLesotho\nMoldova\nSt Kitts & Nevis\nAntigua & Barbuda\nNiue\nNicaragua\nSt Helena\nCabo Verde\nCentral African Republic\nBenin\nEquatorial Guinea\nNetherlands Antilles\nPitcairn Islands\nFalkland Islands\nUS Virgin Islands\nHaiti\nGambia\nGuinea-Bissau\nFrench Guiana\nNiger\nTurkmenistan\nTajikistan\nTurks & Caicos Islands\nSt Pierre & Miquelon\nMontserrat\nAnguilla\nSao Tome & Principe\nDemocratic People's Republic of Korea\nComoros\nWestern Sahara\nAdelie Land (France)\nAntarctica\nChristmas Island\nCocos Keeling Islands\nFrench Antilles\nFrench Southern Territories\nMidway Island\nUS Pacific Islands\nSouth Sudan\nFormer Sudan\nOther\n"
     ]
    }
   ],
   "source": [
    "for z in xx['Year']:\n",
    "    print(z)"
   ]
  },
  {
   "cell_type": "code",
   "execution_count": 22,
   "metadata": {},
   "outputs": [
    {
     "output_type": "execute_result",
     "data": {
      "text/plain": [
       "                   Year     1987     1988     1989     1990     1991     1992  \\\n",
       "0                 China  834.271   996.65     1355  1456.05   1864.6  2549.47   \n",
       "1         United States  10820.3    12122  15206.5  15983.2  15816.7  16390.6   \n",
       "2                 Japan  8605.89   9601.5  11768.9  10641.2  10018.2  11377.1   \n",
       "3               Germany  3130.72  3215.26  3739.11  3828.42  3584.86  3706.09   \n",
       "4              Thailand  509.124  596.471  822.311  852.804  887.411  1054.84   \n",
       "..                  ...      ...      ...      ...      ...      ...      ...   \n",
       "225       Midway Island       na       na       na       na       na       na   \n",
       "226  US Pacific Islands       na       na       na       na       na       na   \n",
       "227         South Sudan     None     None     None     None     None     None   \n",
       "228        Former Sudan       na       na       na       na       na       na   \n",
       "229               Other  1671.32  3082.23  2538.94  3598.95  3493.32  4022.95   \n",
       "\n",
       "        1993     1994     1995  ...     2010     2011      2012     2013  \\\n",
       "0    3225.46  3745.02  4320.47  ...  40923.6  43919.3   46442.4  49570.6   \n",
       "1    17301.4  19018.7  21252.2  ...  36378.3  40711.6   43310.1  41003.5   \n",
       "2      13264  13649.6  13585.8  ...  20573.5  20078.8   21420.5  21608.6   \n",
       "3    4042.04  4540.28  5676.36  ...    12640  12677.9   13402.8  14132.7   \n",
       "4    1133.79  1240.56  1424.44  ...  13265.7    11066     13085  14287.4   \n",
       "..       ...      ...      ...  ...      ...      ...       ...      ...   \n",
       "225       na       na       na  ...       na       na        na       na   \n",
       "226       na       na       na  ...       na       na        na       na   \n",
       "227     None     None     None  ...     None     None  0.001688       na   \n",
       "228       na       na       na  ...  25.0455  30.0329   29.1227     None   \n",
       "229  4427.01     5431   5069.7  ...    17740  22121.2   24722.9  24032.3   \n",
       "\n",
       "        2014     2015     2016     2017     2018     2019  \n",
       "0      54460  64377.2  62323.2  67448.5  78303.1  82841.7  \n",
       "1    43391.8  49372.3  44953.6  47331.9  50864.9  55532.5  \n",
       "2    20095.8  23027.2  22823.7    24813  26987.6  26357.2  \n",
       "3    14742.8  15569.8  16471.8  16991.9  18771.6  18183.6  \n",
       "4      13266  15804.6  16878.4  17213.3  17913.7  17385.4  \n",
       "..       ...      ...      ...      ...      ...      ...  \n",
       "225       na       na       na       na       na       na  \n",
       "226       na       na       na       na       na       na  \n",
       "227       na       na       na       na       na       na  \n",
       "228     None     None     None     None     None     None  \n",
       "229  18877.8  15335.1    17908  5547.13  18729.4    19869  \n",
       "\n",
       "[230 rows x 34 columns]"
      ],
      "text/html": "<div>\n<style scoped>\n    .dataframe tbody tr th:only-of-type {\n        vertical-align: middle;\n    }\n\n    .dataframe tbody tr th {\n        vertical-align: top;\n    }\n\n    .dataframe thead th {\n        text-align: right;\n    }\n</style>\n<table border=\"1\" class=\"dataframe\">\n  <thead>\n    <tr style=\"text-align: right;\">\n      <th></th>\n      <th>Year</th>\n      <th>1987</th>\n      <th>1988</th>\n      <th>1989</th>\n      <th>1990</th>\n      <th>1991</th>\n      <th>1992</th>\n      <th>1993</th>\n      <th>1994</th>\n      <th>1995</th>\n      <th>...</th>\n      <th>2010</th>\n      <th>2011</th>\n      <th>2012</th>\n      <th>2013</th>\n      <th>2014</th>\n      <th>2015</th>\n      <th>2016</th>\n      <th>2017</th>\n      <th>2018</th>\n      <th>2019</th>\n    </tr>\n  </thead>\n  <tbody>\n    <tr>\n      <th>0</th>\n      <td>China</td>\n      <td>834.271</td>\n      <td>996.65</td>\n      <td>1355</td>\n      <td>1456.05</td>\n      <td>1864.6</td>\n      <td>2549.47</td>\n      <td>3225.46</td>\n      <td>3745.02</td>\n      <td>4320.47</td>\n      <td>...</td>\n      <td>40923.6</td>\n      <td>43919.3</td>\n      <td>46442.4</td>\n      <td>49570.6</td>\n      <td>54460</td>\n      <td>64377.2</td>\n      <td>62323.2</td>\n      <td>67448.5</td>\n      <td>78303.1</td>\n      <td>82841.7</td>\n    </tr>\n    <tr>\n      <th>1</th>\n      <td>United States</td>\n      <td>10820.3</td>\n      <td>12122</td>\n      <td>15206.5</td>\n      <td>15983.2</td>\n      <td>15816.7</td>\n      <td>16390.6</td>\n      <td>17301.4</td>\n      <td>19018.7</td>\n      <td>21252.2</td>\n      <td>...</td>\n      <td>36378.3</td>\n      <td>40711.6</td>\n      <td>43310.1</td>\n      <td>41003.5</td>\n      <td>43391.8</td>\n      <td>49372.3</td>\n      <td>44953.6</td>\n      <td>47331.9</td>\n      <td>50864.9</td>\n      <td>55532.5</td>\n    </tr>\n    <tr>\n      <th>2</th>\n      <td>Japan</td>\n      <td>8605.89</td>\n      <td>9601.5</td>\n      <td>11768.9</td>\n      <td>10641.2</td>\n      <td>10018.2</td>\n      <td>11377.1</td>\n      <td>13264</td>\n      <td>13649.6</td>\n      <td>13585.8</td>\n      <td>...</td>\n      <td>20573.5</td>\n      <td>20078.8</td>\n      <td>21420.5</td>\n      <td>21608.6</td>\n      <td>20095.8</td>\n      <td>23027.2</td>\n      <td>22823.7</td>\n      <td>24813</td>\n      <td>26987.6</td>\n      <td>26357.2</td>\n    </tr>\n    <tr>\n      <th>3</th>\n      <td>Germany</td>\n      <td>3130.72</td>\n      <td>3215.26</td>\n      <td>3739.11</td>\n      <td>3828.42</td>\n      <td>3584.86</td>\n      <td>3706.09</td>\n      <td>4042.04</td>\n      <td>4540.28</td>\n      <td>5676.36</td>\n      <td>...</td>\n      <td>12640</td>\n      <td>12677.9</td>\n      <td>13402.8</td>\n      <td>14132.7</td>\n      <td>14742.8</td>\n      <td>15569.8</td>\n      <td>16471.8</td>\n      <td>16991.9</td>\n      <td>18771.6</td>\n      <td>18183.6</td>\n    </tr>\n    <tr>\n      <th>4</th>\n      <td>Thailand</td>\n      <td>509.124</td>\n      <td>596.471</td>\n      <td>822.311</td>\n      <td>852.804</td>\n      <td>887.411</td>\n      <td>1054.84</td>\n      <td>1133.79</td>\n      <td>1240.56</td>\n      <td>1424.44</td>\n      <td>...</td>\n      <td>13265.7</td>\n      <td>11066</td>\n      <td>13085</td>\n      <td>14287.4</td>\n      <td>13266</td>\n      <td>15804.6</td>\n      <td>16878.4</td>\n      <td>17213.3</td>\n      <td>17913.7</td>\n      <td>17385.4</td>\n    </tr>\n    <tr>\n      <th>...</th>\n      <td>...</td>\n      <td>...</td>\n      <td>...</td>\n      <td>...</td>\n      <td>...</td>\n      <td>...</td>\n      <td>...</td>\n      <td>...</td>\n      <td>...</td>\n      <td>...</td>\n      <td>...</td>\n      <td>...</td>\n      <td>...</td>\n      <td>...</td>\n      <td>...</td>\n      <td>...</td>\n      <td>...</td>\n      <td>...</td>\n      <td>...</td>\n      <td>...</td>\n      <td>...</td>\n    </tr>\n    <tr>\n      <th>225</th>\n      <td>Midway Island</td>\n      <td>na</td>\n      <td>na</td>\n      <td>na</td>\n      <td>na</td>\n      <td>na</td>\n      <td>na</td>\n      <td>na</td>\n      <td>na</td>\n      <td>na</td>\n      <td>...</td>\n      <td>na</td>\n      <td>na</td>\n      <td>na</td>\n      <td>na</td>\n      <td>na</td>\n      <td>na</td>\n      <td>na</td>\n      <td>na</td>\n      <td>na</td>\n      <td>na</td>\n    </tr>\n    <tr>\n      <th>226</th>\n      <td>US Pacific Islands</td>\n      <td>na</td>\n      <td>na</td>\n      <td>na</td>\n      <td>na</td>\n      <td>na</td>\n      <td>na</td>\n      <td>na</td>\n      <td>na</td>\n      <td>na</td>\n      <td>...</td>\n      <td>na</td>\n      <td>na</td>\n      <td>na</td>\n      <td>na</td>\n      <td>na</td>\n      <td>na</td>\n      <td>na</td>\n      <td>na</td>\n      <td>na</td>\n      <td>na</td>\n    </tr>\n    <tr>\n      <th>227</th>\n      <td>South Sudan</td>\n      <td>None</td>\n      <td>None</td>\n      <td>None</td>\n      <td>None</td>\n      <td>None</td>\n      <td>None</td>\n      <td>None</td>\n      <td>None</td>\n      <td>None</td>\n      <td>...</td>\n      <td>None</td>\n      <td>None</td>\n      <td>0.001688</td>\n      <td>na</td>\n      <td>na</td>\n      <td>na</td>\n      <td>na</td>\n      <td>na</td>\n      <td>na</td>\n      <td>na</td>\n    </tr>\n    <tr>\n      <th>228</th>\n      <td>Former Sudan</td>\n      <td>na</td>\n      <td>na</td>\n      <td>na</td>\n      <td>na</td>\n      <td>na</td>\n      <td>na</td>\n      <td>na</td>\n      <td>na</td>\n      <td>na</td>\n      <td>...</td>\n      <td>25.0455</td>\n      <td>30.0329</td>\n      <td>29.1227</td>\n      <td>None</td>\n      <td>None</td>\n      <td>None</td>\n      <td>None</td>\n      <td>None</td>\n      <td>None</td>\n      <td>None</td>\n    </tr>\n    <tr>\n      <th>229</th>\n      <td>Other</td>\n      <td>1671.32</td>\n      <td>3082.23</td>\n      <td>2538.94</td>\n      <td>3598.95</td>\n      <td>3493.32</td>\n      <td>4022.95</td>\n      <td>4427.01</td>\n      <td>5431</td>\n      <td>5069.7</td>\n      <td>...</td>\n      <td>17740</td>\n      <td>22121.2</td>\n      <td>24722.9</td>\n      <td>24032.3</td>\n      <td>18877.8</td>\n      <td>15335.1</td>\n      <td>17908</td>\n      <td>5547.13</td>\n      <td>18729.4</td>\n      <td>19869</td>\n    </tr>\n  </tbody>\n</table>\n<p>230 rows × 34 columns</p>\n</div>"
     },
     "metadata": {},
     "execution_count": 22
    }
   ],
   "source": [
    "yy = pd.read_sql('SELECT * FROM TradeImport', db_conn)\n",
    "yy"
   ]
  },
  {
   "cell_type": "code",
   "execution_count": 23,
   "metadata": {},
   "outputs": [
    {
     "output_type": "stream",
     "name": "stdout",
     "text": [
      "China\nUnited States\nJapan\nGermany\nThailand\nUnited Kingdom\nSingapore\nNew Zealand\nRepublic of Korea\nMalaysia\nItaly\nIndonesia\nFrance\nVietnam\nIndia\nTaiwan\nUnited Arab Emirates\nCanada\nPapua New Guinea\nSwitzerland\nNetherlands\nHong Kong (SAR of China)\nIreland\nMexico\nSpain\nSweden\nAustria\nBelgium\nPhilippines\nSouth Africa\nFiji\nDenmark\nTurkey\nFinland\nPoland\nBrunei\nBangladesh\nIsrael\nQatar\nGreece\nNorway\nBrazil\nAlgeria\nArgentina\nLibya\nChile\nCzech Republic\nHungary\nSri Lanka\nSaudi Arabia\nNigeria\nRussian Federation\nPakistan\nCambodia\nSlovak Republic\nPortugal\nLebanon\nPeru\nPuerto Rico\nEstonia\nBermuda\nCyprus\nLuxembourg\nRomania\nVanuatu\nEgypt\nColombia\nKuwait\nMauritius\nSlovenia\nSolomon Islands\nKenya\nRepublic of Congo\nNepal\nIran\nCosta Rica\nTimor-Leste\nCroatia\nMalta\nSamoa\nMyanmar\nSerbia\nYemen\nJordan\nMorocco\nBulgaria\nLithuania\nNew Caledonia\nMaldives\nUkraine\nBahrain\nAfghanistan\nZimbabwe\nGabon\nMauritania\nEthiopia\nCook Islands\nHonduras\nMacau (SAR of China)\nTanzania\nIraq\nZambia\nOman\nLaos\nVenezuela\nGhana\nTonga\nEcuador\nDominican Republic\nTunisia\nNorth Macedonia\nNamibia\nLatvia\nCuba\nBosnia-Herzegovina\nLiberia\nMadagascar\nIceland\nUganda\nBotswana\nFrench Polynesia\nGuatemala\nUruguay\nMarshall Islands\nBelarus\nBolivia\nNauru\nGibraltar\nSudan\nPanama\nNicaragua\nMongolia\nSeychelles\nKazakhstan\nEl Salvador\nTogo\nCote d'Ivoire\nAmerican Samoa\nMozambique\nSyria\nGuinea\nAlbania\nTrinidad & Tobago\nSomalia\nSierra Leone\nBhutan\nBahamas\nRwanda\nSenegal\nCayman Islands\nArmenia\nGeorgia\nKiribati\nMalawi\nParaguay\nJamaica\nMali\nEswatini\nHaiti\nFederated States of Micronesia\nBurundi\nMontenegro\nUzbekistan\nBarbados\nMoldova\nReunion\nGuam\nBelize\nDominica\nAngola\nNiger\nEritrea\nSouthern and East Africa nec\nUK Virgin Islands\nDemocratic Republic of the Congo\nCameroon\nAzerbaijan\nPalau\nBurkina Faso\nNiue\nDjibouti\nKyrgyzstan\nAnguilla\nAntigua & Barbuda\nSt Helena\nGuyana\nLesotho\nSuriname\nTuvalu\nChad\nGrenada\nGaza Strip and West Bank\nBenin\nGambia\nEquatorial Guinea\nUS Virgin Islands\nSt Kitts & Nevis\nNorfolk Island\nFalkland Islands\nNetherlands Antilles\nPolynesia (excl Hawaii) nec\nSt Lucia\nCentral African Republic\nCabo Verde\nSao Tome & Principe\nTurkmenistan\nWallis & Futuna Island\nTajikistan\nMontserrat\nComoros\nFrench Guiana\nSt Vincent & Grenadines\nGuinea-Bissau\nPitcairn Islands\nTurks & Caicos Islands\nNorthern Mariana Islands\nSt Pierre & Miquelon\nWestern Sahara\nDemocratic People's Republic of Korea\nAdelie Land (France)\nAntarctica\nChristmas Island\nCocos Keeling Islands\nFrench Antilles\nFrench Southern Territories\nMidway Island\nUS Pacific Islands\nSouth Sudan\nFormer Sudan\nOther\n"
     ]
    }
   ],
   "source": [
    "for z in yy['Year']:\n",
    "    print(z)"
   ]
  },
  {
   "cell_type": "code",
   "execution_count": 24,
   "metadata": {},
   "outputs": [
    {
     "output_type": "execute_result",
     "data": {
      "text/plain": [
       "                   Year   1987_x   1988_x   1989_x   1990_x   1991_x   1992_x  \\\n",
       "0                 China  1616.05   1234.1  1436.29  1587.79   1756.6   2094.1   \n",
       "1                 Japan    10817    13123    14105  15547.3  17250.9  17562.5   \n",
       "2     Republic of Korea   1618.1  2118.14  2600.69  3132.09  3568.87  3932.62   \n",
       "3         United States  5696.48  6014.21  6801.07  7653.13  7325.16  7062.85   \n",
       "4                 India       na       na       na       na       na       na   \n",
       "..                  ...      ...      ...      ...      ...      ...      ...   \n",
       "225       Midway Island       na       na       na       na       na       na   \n",
       "226  US Pacific Islands       na       na       na       na       na       na   \n",
       "227         South Sudan     None     None     None     None     None     None   \n",
       "228        Former Sudan       na       na       na       na       na       na   \n",
       "229               Other  3196.91  3037.88  3158.75  3591.09   4732.1  4678.48   \n",
       "\n",
       "      1993_x   1994_x   1995_x  ...   2010_y   2011_y    2012_y   2013_y  \\\n",
       "0     2578.1  3165.15  3514.73  ...  40923.6  43919.3   46442.4  49570.6   \n",
       "1    18697.9  19269.5  19983.7  ...  20573.5  20078.8   21420.5  21608.6   \n",
       "2     4803.2  5368.57  7041.78  ...  7633.91  7600.14   10517.8  11414.7   \n",
       "3    7379.96  7020.03  7366.89  ...  36378.3  40711.6   43310.1  41003.5   \n",
       "4         na       na       na  ...  2841.53  3170.31   3792.78   4089.8   \n",
       "..       ...      ...      ...  ...      ...      ...       ...      ...   \n",
       "225       na       na       na  ...       na       na        na       na   \n",
       "226       na       na       na  ...       na       na        na       na   \n",
       "227     None     None     None  ...     None     None  0.001688       na   \n",
       "228       na       na       na  ...  25.0455  30.0329   29.1227     None   \n",
       "229  5072.87  4874.96  5858.85  ...    17740  22121.2   24722.9  24032.3   \n",
       "\n",
       "      2014_y   2015_y   2016_y   2017_y   2018_y   2019_y  \n",
       "0      54460  64377.2  62323.2  67448.5  78303.1  82841.7  \n",
       "1    20095.8  23027.2  22823.7    24813  26987.6  26357.2  \n",
       "2      13266  16168.9    11870  31746.6    14455  13096.2  \n",
       "3    43391.8  49372.3  44953.6  47331.9  50864.9  55532.5  \n",
       "4    4699.14  6569.86  6317.15  7351.95  8012.24  7445.04  \n",
       "..       ...      ...      ...      ...      ...      ...  \n",
       "225       na       na       na       na       na       na  \n",
       "226       na       na       na       na       na       na  \n",
       "227       na       na       na       na       na       na  \n",
       "228     None     None     None     None     None     None  \n",
       "229  18877.8  15335.1    17908  5547.13  18729.4    19869  \n",
       "\n",
       "[230 rows x 67 columns]"
      ],
      "text/html": "<div>\n<style scoped>\n    .dataframe tbody tr th:only-of-type {\n        vertical-align: middle;\n    }\n\n    .dataframe tbody tr th {\n        vertical-align: top;\n    }\n\n    .dataframe thead th {\n        text-align: right;\n    }\n</style>\n<table border=\"1\" class=\"dataframe\">\n  <thead>\n    <tr style=\"text-align: right;\">\n      <th></th>\n      <th>Year</th>\n      <th>1987_x</th>\n      <th>1988_x</th>\n      <th>1989_x</th>\n      <th>1990_x</th>\n      <th>1991_x</th>\n      <th>1992_x</th>\n      <th>1993_x</th>\n      <th>1994_x</th>\n      <th>1995_x</th>\n      <th>...</th>\n      <th>2010_y</th>\n      <th>2011_y</th>\n      <th>2012_y</th>\n      <th>2013_y</th>\n      <th>2014_y</th>\n      <th>2015_y</th>\n      <th>2016_y</th>\n      <th>2017_y</th>\n      <th>2018_y</th>\n      <th>2019_y</th>\n    </tr>\n  </thead>\n  <tbody>\n    <tr>\n      <th>0</th>\n      <td>China</td>\n      <td>1616.05</td>\n      <td>1234.1</td>\n      <td>1436.29</td>\n      <td>1587.79</td>\n      <td>1756.6</td>\n      <td>2094.1</td>\n      <td>2578.1</td>\n      <td>3165.15</td>\n      <td>3514.73</td>\n      <td>...</td>\n      <td>40923.6</td>\n      <td>43919.3</td>\n      <td>46442.4</td>\n      <td>49570.6</td>\n      <td>54460</td>\n      <td>64377.2</td>\n      <td>62323.2</td>\n      <td>67448.5</td>\n      <td>78303.1</td>\n      <td>82841.7</td>\n    </tr>\n    <tr>\n      <th>1</th>\n      <td>Japan</td>\n      <td>10817</td>\n      <td>13123</td>\n      <td>14105</td>\n      <td>15547.3</td>\n      <td>17250.9</td>\n      <td>17562.5</td>\n      <td>18697.9</td>\n      <td>19269.5</td>\n      <td>19983.7</td>\n      <td>...</td>\n      <td>20573.5</td>\n      <td>20078.8</td>\n      <td>21420.5</td>\n      <td>21608.6</td>\n      <td>20095.8</td>\n      <td>23027.2</td>\n      <td>22823.7</td>\n      <td>24813</td>\n      <td>26987.6</td>\n      <td>26357.2</td>\n    </tr>\n    <tr>\n      <th>2</th>\n      <td>Republic of Korea</td>\n      <td>1618.1</td>\n      <td>2118.14</td>\n      <td>2600.69</td>\n      <td>3132.09</td>\n      <td>3568.87</td>\n      <td>3932.62</td>\n      <td>4803.2</td>\n      <td>5368.57</td>\n      <td>7041.78</td>\n      <td>...</td>\n      <td>7633.91</td>\n      <td>7600.14</td>\n      <td>10517.8</td>\n      <td>11414.7</td>\n      <td>13266</td>\n      <td>16168.9</td>\n      <td>11870</td>\n      <td>31746.6</td>\n      <td>14455</td>\n      <td>13096.2</td>\n    </tr>\n    <tr>\n      <th>3</th>\n      <td>United States</td>\n      <td>5696.48</td>\n      <td>6014.21</td>\n      <td>6801.07</td>\n      <td>7653.13</td>\n      <td>7325.16</td>\n      <td>7062.85</td>\n      <td>7379.96</td>\n      <td>7020.03</td>\n      <td>7366.89</td>\n      <td>...</td>\n      <td>36378.3</td>\n      <td>40711.6</td>\n      <td>43310.1</td>\n      <td>41003.5</td>\n      <td>43391.8</td>\n      <td>49372.3</td>\n      <td>44953.6</td>\n      <td>47331.9</td>\n      <td>50864.9</td>\n      <td>55532.5</td>\n    </tr>\n    <tr>\n      <th>4</th>\n      <td>India</td>\n      <td>na</td>\n      <td>na</td>\n      <td>na</td>\n      <td>na</td>\n      <td>na</td>\n      <td>na</td>\n      <td>na</td>\n      <td>na</td>\n      <td>na</td>\n      <td>...</td>\n      <td>2841.53</td>\n      <td>3170.31</td>\n      <td>3792.78</td>\n      <td>4089.8</td>\n      <td>4699.14</td>\n      <td>6569.86</td>\n      <td>6317.15</td>\n      <td>7351.95</td>\n      <td>8012.24</td>\n      <td>7445.04</td>\n    </tr>\n    <tr>\n      <th>...</th>\n      <td>...</td>\n      <td>...</td>\n      <td>...</td>\n      <td>...</td>\n      <td>...</td>\n      <td>...</td>\n      <td>...</td>\n      <td>...</td>\n      <td>...</td>\n      <td>...</td>\n      <td>...</td>\n      <td>...</td>\n      <td>...</td>\n      <td>...</td>\n      <td>...</td>\n      <td>...</td>\n      <td>...</td>\n      <td>...</td>\n      <td>...</td>\n      <td>...</td>\n      <td>...</td>\n    </tr>\n    <tr>\n      <th>225</th>\n      <td>Midway Island</td>\n      <td>na</td>\n      <td>na</td>\n      <td>na</td>\n      <td>na</td>\n      <td>na</td>\n      <td>na</td>\n      <td>na</td>\n      <td>na</td>\n      <td>na</td>\n      <td>...</td>\n      <td>na</td>\n      <td>na</td>\n      <td>na</td>\n      <td>na</td>\n      <td>na</td>\n      <td>na</td>\n      <td>na</td>\n      <td>na</td>\n      <td>na</td>\n      <td>na</td>\n    </tr>\n    <tr>\n      <th>226</th>\n      <td>US Pacific Islands</td>\n      <td>na</td>\n      <td>na</td>\n      <td>na</td>\n      <td>na</td>\n      <td>na</td>\n      <td>na</td>\n      <td>na</td>\n      <td>na</td>\n      <td>na</td>\n      <td>...</td>\n      <td>na</td>\n      <td>na</td>\n      <td>na</td>\n      <td>na</td>\n      <td>na</td>\n      <td>na</td>\n      <td>na</td>\n      <td>na</td>\n      <td>na</td>\n      <td>na</td>\n    </tr>\n    <tr>\n      <th>227</th>\n      <td>South Sudan</td>\n      <td>None</td>\n      <td>None</td>\n      <td>None</td>\n      <td>None</td>\n      <td>None</td>\n      <td>None</td>\n      <td>None</td>\n      <td>None</td>\n      <td>None</td>\n      <td>...</td>\n      <td>None</td>\n      <td>None</td>\n      <td>0.001688</td>\n      <td>na</td>\n      <td>na</td>\n      <td>na</td>\n      <td>na</td>\n      <td>na</td>\n      <td>na</td>\n      <td>na</td>\n    </tr>\n    <tr>\n      <th>228</th>\n      <td>Former Sudan</td>\n      <td>na</td>\n      <td>na</td>\n      <td>na</td>\n      <td>na</td>\n      <td>na</td>\n      <td>na</td>\n      <td>na</td>\n      <td>na</td>\n      <td>na</td>\n      <td>...</td>\n      <td>25.0455</td>\n      <td>30.0329</td>\n      <td>29.1227</td>\n      <td>None</td>\n      <td>None</td>\n      <td>None</td>\n      <td>None</td>\n      <td>None</td>\n      <td>None</td>\n      <td>None</td>\n    </tr>\n    <tr>\n      <th>229</th>\n      <td>Other</td>\n      <td>3196.91</td>\n      <td>3037.88</td>\n      <td>3158.75</td>\n      <td>3591.09</td>\n      <td>4732.1</td>\n      <td>4678.48</td>\n      <td>5072.87</td>\n      <td>4874.96</td>\n      <td>5858.85</td>\n      <td>...</td>\n      <td>17740</td>\n      <td>22121.2</td>\n      <td>24722.9</td>\n      <td>24032.3</td>\n      <td>18877.8</td>\n      <td>15335.1</td>\n      <td>17908</td>\n      <td>5547.13</td>\n      <td>18729.4</td>\n      <td>19869</td>\n    </tr>\n  </tbody>\n</table>\n<p>230 rows × 67 columns</p>\n</div>"
     },
     "metadata": {},
     "execution_count": 24
    }
   ],
   "source": [
    "aa = xx.merge(yy, on='Year')\n",
    "aa"
   ]
  },
  {
   "cell_type": "code",
   "execution_count": 25,
   "metadata": {},
   "outputs": [
    {
     "output_type": "execute_result",
     "data": {
      "text/plain": [
       "Year    China    Japan Republic of Korea United States    India  \\\n",
       "1987  1616.05    10817            1618.1       5696.48       na   \n",
       "1988   1234.1    13123           2118.14       6014.21       na   \n",
       "1989  1436.29    14105           2600.69       6801.07       na   \n",
       "1990  1587.79  15547.3           3132.09       7653.13       na   \n",
       "1991   1756.6  17250.9           3568.87       7325.16       na   \n",
       "1992   2094.1  17562.5           3932.62       7062.85       na   \n",
       "1993   2578.1  18697.9            4803.2       7379.96       na   \n",
       "1994  3165.15  19269.5           5368.57       7020.03       na   \n",
       "1995  3514.73  19983.7           7041.78       7366.89       na   \n",
       "1996  4234.54  19438.2           8320.88       8120.72       na   \n",
       "1997  4384.59  20593.5           7801.55       9979.63       na   \n",
       "1998  4279.03  20973.6           6618.94       12720.8       na   \n",
       "1999  4716.08  20030.5           6896.02       12988.7  1939.52   \n",
       "2000  6859.79  25018.1           9868.63       16677.4  2304.36   \n",
       "2001  8821.66  26879.8           10674.7       16444.7  2996.19   \n",
       "2002  10050.2  25399.4           11065.8       16298.3  3003.77   \n",
       "2003  11181.8  22593.2           9276.92       14148.1  3933.27   \n",
       "2004  13730.5  25310.7           10416.7       13972.8     6262   \n",
       "2005  19067.5  31582.5           12478.6       13929.3   8167.6   \n",
       "2006  23761.9  35469.6           14230.7         15792  10349.1   \n",
       "2007  27920.9    34581           15601.1       15956.4    11424   \n",
       "2008  37372.7  53145.8           20527.6         18371    16740   \n",
       "2009  48269.8  40308.7           17749.5         15402  18307.8   \n",
       "2010  64892.3  45682.8           22662.1       14801.7  19973.9   \n",
       "2011  78129.4  52378.1           25255.5       15455.7  18158.2   \n",
       "2012  74821.3  49852.9           21812.6       15144.2  14465.8   \n",
       "2013    94074  49436.2           21456.1       16034.5    11594   \n",
       "2014  91740.7  50187.8             22171       18596.8  11534.2   \n",
       "2015  86742.5  42154.9           20226.1       22083.4  13906.1   \n",
       "2016  95681.9  38451.5           20430.6       20617.7  15199.8   \n",
       "2017   116013  47220.4           23535.8       20983.2  20268.6   \n",
       "2018   136585  58788.5             26585       23156.9  22408.6   \n",
       "2019   168575  60417.2           28222.3       25440.3    21787   \n",
       "\n",
       "Year United Kingdom Singapore New Zealand   Taiwan Malaysia  ... Antarctica  \\\n",
       "1987        2758.25   1148.94     3135.45  1349.74  906.334  ...         na   \n",
       "1988        2892.28   1636.12     3370.52  1568.33  1056.01  ...         na   \n",
       "1989        3154.08   2037.96     3684.85  1871.35   1210.2  ...         na   \n",
       "1990         3486.1   2803.86     3789.89  1957.49  1377.65  ...         na   \n",
       "1991        3488.68   3447.12      3875.5  2543.25  1492.88  ...         na   \n",
       "1992        4137.42   4425.99     4199.52  2889.77  1625.64  ...         na   \n",
       "1993        4657.24   4065.62     4882.19  3288.49   2104.9  ...         na   \n",
       "1994        4241.05   4465.99     5578.59  3449.35  2600.97  ...         na   \n",
       "1995        4419.32   5099.33      6642.2  3993.85  2967.27  ...         na   \n",
       "1996        5155.47   4422.62      7278.5   3911.8  2978.11  ...         na   \n",
       "1997        4933.48   5190.31     7951.62  4533.77  3197.61  ...         na   \n",
       "1998        7621.08   4670.98     7507.91  4747.95  2657.38  ...         na   \n",
       "1999        7054.88   5709.45     8747.02  4672.29  2775.81  ...         na   \n",
       "2000        7757.92   8012.14     9408.79  6003.59  3292.34  ...         na   \n",
       "2001        9287.53   7816.96     9996.77     5803  3566.38  ...         na   \n",
       "2002        9914.37   7590.38     10751.1  5184.34  3372.79  ...         na   \n",
       "2003        12006.5   5835.63     11194.3  4176.52  3274.29  ...         na   \n",
       "2004        9863.69   5672.68     12035.3  4568.46  3645.06  ...         na   \n",
       "2005        10098.1   6746.03     12611.8  5985.78  3838.17  ...         na   \n",
       "2006        13565.6   7603.31     12608.9  6758.59  4105.77  ...         na   \n",
       "2007        12342.1   7513.39     13369.9   6478.7  4613.66  ...         na   \n",
       "2008          14287   10410.6     13338.8     8784  5706.54  ...         na   \n",
       "2009        13669.1   8617.21     11449.9  7112.38   4966.5  ...         na   \n",
       "2010        12774.4   7762.06     11539.9  8968.29  5460.54  ...         na   \n",
       "2011        11972.2   9835.01     11333.7  9757.45  6311.98  ...         na   \n",
       "2012        11193.7   10568.3     11214.7  8740.19  6971.31  ...         na   \n",
       "2013        8573.85   9425.06     11329.1  8193.77  7508.22  ...         na   \n",
       "2014        8887.63   12289.8     12449.7  8091.26  8319.02  ...         na   \n",
       "2015        9341.19   11267.4     12967.8  7627.94  8205.83  ...         na   \n",
       "2016          15462   10710.3     13253.1  8935.67  7874.39  ...         na   \n",
       "2017        11552.7   11959.9     14037.8  10404.8  8577.56  ...         na   \n",
       "2018        10501.8   14709.5     15048.9  12253.1  10104.7  ...         na   \n",
       "2019        21207.7   16886.8     16565.8  14304.4  11699.6  ...         na   \n",
       "\n",
       "Year Christmas Island Cocos Keeling Islands French Antilles  \\\n",
       "1987               na                    na              na   \n",
       "1988               na                    na              na   \n",
       "1989               na                    na              na   \n",
       "1990               na                    na              na   \n",
       "1991               na                    na              na   \n",
       "1992               na                    na              na   \n",
       "1993               na                    na              na   \n",
       "1994               na                    na              na   \n",
       "1995               na                    na              na   \n",
       "1996               na                    na              na   \n",
       "1997               na                    na              na   \n",
       "1998               na                    na              na   \n",
       "1999               na                    na              na   \n",
       "2000               na                    na              na   \n",
       "2001               na                    na              na   \n",
       "2002               na                    na              na   \n",
       "2003               na                    na              na   \n",
       "2004               na                    na              na   \n",
       "2005               na                    na              na   \n",
       "2006               na                    na              na   \n",
       "2007               na                    na              na   \n",
       "2008               na                    na              na   \n",
       "2009               na                    na              na   \n",
       "2010               na                    na              na   \n",
       "2011               na                    na              na   \n",
       "2012               na                    na              na   \n",
       "2013               na                    na              na   \n",
       "2014               na                    na              na   \n",
       "2015               na                    na              na   \n",
       "2016               na                    na              na   \n",
       "2017               na                    na              na   \n",
       "2018               na                    na              na   \n",
       "2019               na                    na              na   \n",
       "\n",
       "Year French Southern Territories Midway Island US Pacific Islands South Sudan  \\\n",
       "1987                          na            na                 na        None   \n",
       "1988                          na            na                 na        None   \n",
       "1989                          na            na                 na        None   \n",
       "1990                          na            na                 na        None   \n",
       "1991                          na            na                 na        None   \n",
       "1992                          na            na                 na        None   \n",
       "1993                          na            na                 na        None   \n",
       "1994                          na            na                 na        None   \n",
       "1995                          na            na                 na        None   \n",
       "1996                          na            na                 na        None   \n",
       "1997                          na            na                 na        None   \n",
       "1998                          na            na                 na        None   \n",
       "1999                          na            na                 na        None   \n",
       "2000                          na            na                 na        None   \n",
       "2001                          na            na                 na        None   \n",
       "2002                          na            na                 na        None   \n",
       "2003                          na            na                 na        None   \n",
       "2004                          na            na                 na        None   \n",
       "2005                          na            na                 na        None   \n",
       "2006                          na            na                 na        None   \n",
       "2007                          na            na                 na        None   \n",
       "2008                          na            na                 na        None   \n",
       "2009                          na            na                 na        None   \n",
       "2010                          na            na                 na        None   \n",
       "2011                          na            na                 na        None   \n",
       "2012                          na            na                 na    0.557331   \n",
       "2013                          na            na                 na          na   \n",
       "2014                          na            na                 na          na   \n",
       "2015                          na            na                 na          na   \n",
       "2016                          na            na                 na          na   \n",
       "2017                          na            na                 na          na   \n",
       "2018                          na            na                 na          na   \n",
       "2019                          na            na                 na          na   \n",
       "\n",
       "Year Former Sudan    Other  \n",
       "1987           na  3196.91  \n",
       "1988           na  3037.88  \n",
       "1989           na  3158.75  \n",
       "1990           na  3591.09  \n",
       "1991           na   4732.1  \n",
       "1992           na  4678.48  \n",
       "1993           na  5072.87  \n",
       "1994           na  4874.96  \n",
       "1995           na  5858.85  \n",
       "1996           na  6515.69  \n",
       "1997           na  9310.73  \n",
       "1998           na   7173.6  \n",
       "1999           na  6428.59  \n",
       "2000           na  8616.62  \n",
       "2001           na  8883.65  \n",
       "2002           na  7936.21  \n",
       "2003           na  7387.84  \n",
       "2004           na  7360.58  \n",
       "2005           na  8483.21  \n",
       "2006           na  10703.3  \n",
       "2007      141.038  8016.38  \n",
       "2008      253.781  8944.06  \n",
       "2009      312.606  5859.12  \n",
       "2010      185.341  6613.42  \n",
       "2011      202.845  6953.55  \n",
       "2012      193.014  7198.33  \n",
       "2013         None  7281.74  \n",
       "2014         None  7364.72  \n",
       "2015         None   6152.3  \n",
       "2016         None  6517.74  \n",
       "2017         None  6935.74  \n",
       "2018         None  6832.74  \n",
       "2019         None  7442.44  \n",
       "\n",
       "[33 rows x 230 columns]"
      ],
      "text/html": "<div>\n<style scoped>\n    .dataframe tbody tr th:only-of-type {\n        vertical-align: middle;\n    }\n\n    .dataframe tbody tr th {\n        vertical-align: top;\n    }\n\n    .dataframe thead th {\n        text-align: right;\n    }\n</style>\n<table border=\"1\" class=\"dataframe\">\n  <thead>\n    <tr style=\"text-align: right;\">\n      <th>Year</th>\n      <th>China</th>\n      <th>Japan</th>\n      <th>Republic of Korea</th>\n      <th>United States</th>\n      <th>India</th>\n      <th>United Kingdom</th>\n      <th>Singapore</th>\n      <th>New Zealand</th>\n      <th>Taiwan</th>\n      <th>Malaysia</th>\n      <th>...</th>\n      <th>Antarctica</th>\n      <th>Christmas Island</th>\n      <th>Cocos Keeling Islands</th>\n      <th>French Antilles</th>\n      <th>French Southern Territories</th>\n      <th>Midway Island</th>\n      <th>US Pacific Islands</th>\n      <th>South Sudan</th>\n      <th>Former Sudan</th>\n      <th>Other</th>\n    </tr>\n  </thead>\n  <tbody>\n    <tr>\n      <th>1987</th>\n      <td>1616.05</td>\n      <td>10817</td>\n      <td>1618.1</td>\n      <td>5696.48</td>\n      <td>na</td>\n      <td>2758.25</td>\n      <td>1148.94</td>\n      <td>3135.45</td>\n      <td>1349.74</td>\n      <td>906.334</td>\n      <td>...</td>\n      <td>na</td>\n      <td>na</td>\n      <td>na</td>\n      <td>na</td>\n      <td>na</td>\n      <td>na</td>\n      <td>na</td>\n      <td>None</td>\n      <td>na</td>\n      <td>3196.91</td>\n    </tr>\n    <tr>\n      <th>1988</th>\n      <td>1234.1</td>\n      <td>13123</td>\n      <td>2118.14</td>\n      <td>6014.21</td>\n      <td>na</td>\n      <td>2892.28</td>\n      <td>1636.12</td>\n      <td>3370.52</td>\n      <td>1568.33</td>\n      <td>1056.01</td>\n      <td>...</td>\n      <td>na</td>\n      <td>na</td>\n      <td>na</td>\n      <td>na</td>\n      <td>na</td>\n      <td>na</td>\n      <td>na</td>\n      <td>None</td>\n      <td>na</td>\n      <td>3037.88</td>\n    </tr>\n    <tr>\n      <th>1989</th>\n      <td>1436.29</td>\n      <td>14105</td>\n      <td>2600.69</td>\n      <td>6801.07</td>\n      <td>na</td>\n      <td>3154.08</td>\n      <td>2037.96</td>\n      <td>3684.85</td>\n      <td>1871.35</td>\n      <td>1210.2</td>\n      <td>...</td>\n      <td>na</td>\n      <td>na</td>\n      <td>na</td>\n      <td>na</td>\n      <td>na</td>\n      <td>na</td>\n      <td>na</td>\n      <td>None</td>\n      <td>na</td>\n      <td>3158.75</td>\n    </tr>\n    <tr>\n      <th>1990</th>\n      <td>1587.79</td>\n      <td>15547.3</td>\n      <td>3132.09</td>\n      <td>7653.13</td>\n      <td>na</td>\n      <td>3486.1</td>\n      <td>2803.86</td>\n      <td>3789.89</td>\n      <td>1957.49</td>\n      <td>1377.65</td>\n      <td>...</td>\n      <td>na</td>\n      <td>na</td>\n      <td>na</td>\n      <td>na</td>\n      <td>na</td>\n      <td>na</td>\n      <td>na</td>\n      <td>None</td>\n      <td>na</td>\n      <td>3591.09</td>\n    </tr>\n    <tr>\n      <th>1991</th>\n      <td>1756.6</td>\n      <td>17250.9</td>\n      <td>3568.87</td>\n      <td>7325.16</td>\n      <td>na</td>\n      <td>3488.68</td>\n      <td>3447.12</td>\n      <td>3875.5</td>\n      <td>2543.25</td>\n      <td>1492.88</td>\n      <td>...</td>\n      <td>na</td>\n      <td>na</td>\n      <td>na</td>\n      <td>na</td>\n      <td>na</td>\n      <td>na</td>\n      <td>na</td>\n      <td>None</td>\n      <td>na</td>\n      <td>4732.1</td>\n    </tr>\n    <tr>\n      <th>1992</th>\n      <td>2094.1</td>\n      <td>17562.5</td>\n      <td>3932.62</td>\n      <td>7062.85</td>\n      <td>na</td>\n      <td>4137.42</td>\n      <td>4425.99</td>\n      <td>4199.52</td>\n      <td>2889.77</td>\n      <td>1625.64</td>\n      <td>...</td>\n      <td>na</td>\n      <td>na</td>\n      <td>na</td>\n      <td>na</td>\n      <td>na</td>\n      <td>na</td>\n      <td>na</td>\n      <td>None</td>\n      <td>na</td>\n      <td>4678.48</td>\n    </tr>\n    <tr>\n      <th>1993</th>\n      <td>2578.1</td>\n      <td>18697.9</td>\n      <td>4803.2</td>\n      <td>7379.96</td>\n      <td>na</td>\n      <td>4657.24</td>\n      <td>4065.62</td>\n      <td>4882.19</td>\n      <td>3288.49</td>\n      <td>2104.9</td>\n      <td>...</td>\n      <td>na</td>\n      <td>na</td>\n      <td>na</td>\n      <td>na</td>\n      <td>na</td>\n      <td>na</td>\n      <td>na</td>\n      <td>None</td>\n      <td>na</td>\n      <td>5072.87</td>\n    </tr>\n    <tr>\n      <th>1994</th>\n      <td>3165.15</td>\n      <td>19269.5</td>\n      <td>5368.57</td>\n      <td>7020.03</td>\n      <td>na</td>\n      <td>4241.05</td>\n      <td>4465.99</td>\n      <td>5578.59</td>\n      <td>3449.35</td>\n      <td>2600.97</td>\n      <td>...</td>\n      <td>na</td>\n      <td>na</td>\n      <td>na</td>\n      <td>na</td>\n      <td>na</td>\n      <td>na</td>\n      <td>na</td>\n      <td>None</td>\n      <td>na</td>\n      <td>4874.96</td>\n    </tr>\n    <tr>\n      <th>1995</th>\n      <td>3514.73</td>\n      <td>19983.7</td>\n      <td>7041.78</td>\n      <td>7366.89</td>\n      <td>na</td>\n      <td>4419.32</td>\n      <td>5099.33</td>\n      <td>6642.2</td>\n      <td>3993.85</td>\n      <td>2967.27</td>\n      <td>...</td>\n      <td>na</td>\n      <td>na</td>\n      <td>na</td>\n      <td>na</td>\n      <td>na</td>\n      <td>na</td>\n      <td>na</td>\n      <td>None</td>\n      <td>na</td>\n      <td>5858.85</td>\n    </tr>\n    <tr>\n      <th>1996</th>\n      <td>4234.54</td>\n      <td>19438.2</td>\n      <td>8320.88</td>\n      <td>8120.72</td>\n      <td>na</td>\n      <td>5155.47</td>\n      <td>4422.62</td>\n      <td>7278.5</td>\n      <td>3911.8</td>\n      <td>2978.11</td>\n      <td>...</td>\n      <td>na</td>\n      <td>na</td>\n      <td>na</td>\n      <td>na</td>\n      <td>na</td>\n      <td>na</td>\n      <td>na</td>\n      <td>None</td>\n      <td>na</td>\n      <td>6515.69</td>\n    </tr>\n    <tr>\n      <th>1997</th>\n      <td>4384.59</td>\n      <td>20593.5</td>\n      <td>7801.55</td>\n      <td>9979.63</td>\n      <td>na</td>\n      <td>4933.48</td>\n      <td>5190.31</td>\n      <td>7951.62</td>\n      <td>4533.77</td>\n      <td>3197.61</td>\n      <td>...</td>\n      <td>na</td>\n      <td>na</td>\n      <td>na</td>\n      <td>na</td>\n      <td>na</td>\n      <td>na</td>\n      <td>na</td>\n      <td>None</td>\n      <td>na</td>\n      <td>9310.73</td>\n    </tr>\n    <tr>\n      <th>1998</th>\n      <td>4279.03</td>\n      <td>20973.6</td>\n      <td>6618.94</td>\n      <td>12720.8</td>\n      <td>na</td>\n      <td>7621.08</td>\n      <td>4670.98</td>\n      <td>7507.91</td>\n      <td>4747.95</td>\n      <td>2657.38</td>\n      <td>...</td>\n      <td>na</td>\n      <td>na</td>\n      <td>na</td>\n      <td>na</td>\n      <td>na</td>\n      <td>na</td>\n      <td>na</td>\n      <td>None</td>\n      <td>na</td>\n      <td>7173.6</td>\n    </tr>\n    <tr>\n      <th>1999</th>\n      <td>4716.08</td>\n      <td>20030.5</td>\n      <td>6896.02</td>\n      <td>12988.7</td>\n      <td>1939.52</td>\n      <td>7054.88</td>\n      <td>5709.45</td>\n      <td>8747.02</td>\n      <td>4672.29</td>\n      <td>2775.81</td>\n      <td>...</td>\n      <td>na</td>\n      <td>na</td>\n      <td>na</td>\n      <td>na</td>\n      <td>na</td>\n      <td>na</td>\n      <td>na</td>\n      <td>None</td>\n      <td>na</td>\n      <td>6428.59</td>\n    </tr>\n    <tr>\n      <th>2000</th>\n      <td>6859.79</td>\n      <td>25018.1</td>\n      <td>9868.63</td>\n      <td>16677.4</td>\n      <td>2304.36</td>\n      <td>7757.92</td>\n      <td>8012.14</td>\n      <td>9408.79</td>\n      <td>6003.59</td>\n      <td>3292.34</td>\n      <td>...</td>\n      <td>na</td>\n      <td>na</td>\n      <td>na</td>\n      <td>na</td>\n      <td>na</td>\n      <td>na</td>\n      <td>na</td>\n      <td>None</td>\n      <td>na</td>\n      <td>8616.62</td>\n    </tr>\n    <tr>\n      <th>2001</th>\n      <td>8821.66</td>\n      <td>26879.8</td>\n      <td>10674.7</td>\n      <td>16444.7</td>\n      <td>2996.19</td>\n      <td>9287.53</td>\n      <td>7816.96</td>\n      <td>9996.77</td>\n      <td>5803</td>\n      <td>3566.38</td>\n      <td>...</td>\n      <td>na</td>\n      <td>na</td>\n      <td>na</td>\n      <td>na</td>\n      <td>na</td>\n      <td>na</td>\n      <td>na</td>\n      <td>None</td>\n      <td>na</td>\n      <td>8883.65</td>\n    </tr>\n    <tr>\n      <th>2002</th>\n      <td>10050.2</td>\n      <td>25399.4</td>\n      <td>11065.8</td>\n      <td>16298.3</td>\n      <td>3003.77</td>\n      <td>9914.37</td>\n      <td>7590.38</td>\n      <td>10751.1</td>\n      <td>5184.34</td>\n      <td>3372.79</td>\n      <td>...</td>\n      <td>na</td>\n      <td>na</td>\n      <td>na</td>\n      <td>na</td>\n      <td>na</td>\n      <td>na</td>\n      <td>na</td>\n      <td>None</td>\n      <td>na</td>\n      <td>7936.21</td>\n    </tr>\n    <tr>\n      <th>2003</th>\n      <td>11181.8</td>\n      <td>22593.2</td>\n      <td>9276.92</td>\n      <td>14148.1</td>\n      <td>3933.27</td>\n      <td>12006.5</td>\n      <td>5835.63</td>\n      <td>11194.3</td>\n      <td>4176.52</td>\n      <td>3274.29</td>\n      <td>...</td>\n      <td>na</td>\n      <td>na</td>\n      <td>na</td>\n      <td>na</td>\n      <td>na</td>\n      <td>na</td>\n      <td>na</td>\n      <td>None</td>\n      <td>na</td>\n      <td>7387.84</td>\n    </tr>\n    <tr>\n      <th>2004</th>\n      <td>13730.5</td>\n      <td>25310.7</td>\n      <td>10416.7</td>\n      <td>13972.8</td>\n      <td>6262</td>\n      <td>9863.69</td>\n      <td>5672.68</td>\n      <td>12035.3</td>\n      <td>4568.46</td>\n      <td>3645.06</td>\n      <td>...</td>\n      <td>na</td>\n      <td>na</td>\n      <td>na</td>\n      <td>na</td>\n      <td>na</td>\n      <td>na</td>\n      <td>na</td>\n      <td>None</td>\n      <td>na</td>\n      <td>7360.58</td>\n    </tr>\n    <tr>\n      <th>2005</th>\n      <td>19067.5</td>\n      <td>31582.5</td>\n      <td>12478.6</td>\n      <td>13929.3</td>\n      <td>8167.6</td>\n      <td>10098.1</td>\n      <td>6746.03</td>\n      <td>12611.8</td>\n      <td>5985.78</td>\n      <td>3838.17</td>\n      <td>...</td>\n      <td>na</td>\n      <td>na</td>\n      <td>na</td>\n      <td>na</td>\n      <td>na</td>\n      <td>na</td>\n      <td>na</td>\n      <td>None</td>\n      <td>na</td>\n      <td>8483.21</td>\n    </tr>\n    <tr>\n      <th>2006</th>\n      <td>23761.9</td>\n      <td>35469.6</td>\n      <td>14230.7</td>\n      <td>15792</td>\n      <td>10349.1</td>\n      <td>13565.6</td>\n      <td>7603.31</td>\n      <td>12608.9</td>\n      <td>6758.59</td>\n      <td>4105.77</td>\n      <td>...</td>\n      <td>na</td>\n      <td>na</td>\n      <td>na</td>\n      <td>na</td>\n      <td>na</td>\n      <td>na</td>\n      <td>na</td>\n      <td>None</td>\n      <td>na</td>\n      <td>10703.3</td>\n    </tr>\n    <tr>\n      <th>2007</th>\n      <td>27920.9</td>\n      <td>34581</td>\n      <td>15601.1</td>\n      <td>15956.4</td>\n      <td>11424</td>\n      <td>12342.1</td>\n      <td>7513.39</td>\n      <td>13369.9</td>\n      <td>6478.7</td>\n      <td>4613.66</td>\n      <td>...</td>\n      <td>na</td>\n      <td>na</td>\n      <td>na</td>\n      <td>na</td>\n      <td>na</td>\n      <td>na</td>\n      <td>na</td>\n      <td>None</td>\n      <td>141.038</td>\n      <td>8016.38</td>\n    </tr>\n    <tr>\n      <th>2008</th>\n      <td>37372.7</td>\n      <td>53145.8</td>\n      <td>20527.6</td>\n      <td>18371</td>\n      <td>16740</td>\n      <td>14287</td>\n      <td>10410.6</td>\n      <td>13338.8</td>\n      <td>8784</td>\n      <td>5706.54</td>\n      <td>...</td>\n      <td>na</td>\n      <td>na</td>\n      <td>na</td>\n      <td>na</td>\n      <td>na</td>\n      <td>na</td>\n      <td>na</td>\n      <td>None</td>\n      <td>253.781</td>\n      <td>8944.06</td>\n    </tr>\n    <tr>\n      <th>2009</th>\n      <td>48269.8</td>\n      <td>40308.7</td>\n      <td>17749.5</td>\n      <td>15402</td>\n      <td>18307.8</td>\n      <td>13669.1</td>\n      <td>8617.21</td>\n      <td>11449.9</td>\n      <td>7112.38</td>\n      <td>4966.5</td>\n      <td>...</td>\n      <td>na</td>\n      <td>na</td>\n      <td>na</td>\n      <td>na</td>\n      <td>na</td>\n      <td>na</td>\n      <td>na</td>\n      <td>None</td>\n      <td>312.606</td>\n      <td>5859.12</td>\n    </tr>\n    <tr>\n      <th>2010</th>\n      <td>64892.3</td>\n      <td>45682.8</td>\n      <td>22662.1</td>\n      <td>14801.7</td>\n      <td>19973.9</td>\n      <td>12774.4</td>\n      <td>7762.06</td>\n      <td>11539.9</td>\n      <td>8968.29</td>\n      <td>5460.54</td>\n      <td>...</td>\n      <td>na</td>\n      <td>na</td>\n      <td>na</td>\n      <td>na</td>\n      <td>na</td>\n      <td>na</td>\n      <td>na</td>\n      <td>None</td>\n      <td>185.341</td>\n      <td>6613.42</td>\n    </tr>\n    <tr>\n      <th>2011</th>\n      <td>78129.4</td>\n      <td>52378.1</td>\n      <td>25255.5</td>\n      <td>15455.7</td>\n      <td>18158.2</td>\n      <td>11972.2</td>\n      <td>9835.01</td>\n      <td>11333.7</td>\n      <td>9757.45</td>\n      <td>6311.98</td>\n      <td>...</td>\n      <td>na</td>\n      <td>na</td>\n      <td>na</td>\n      <td>na</td>\n      <td>na</td>\n      <td>na</td>\n      <td>na</td>\n      <td>None</td>\n      <td>202.845</td>\n      <td>6953.55</td>\n    </tr>\n    <tr>\n      <th>2012</th>\n      <td>74821.3</td>\n      <td>49852.9</td>\n      <td>21812.6</td>\n      <td>15144.2</td>\n      <td>14465.8</td>\n      <td>11193.7</td>\n      <td>10568.3</td>\n      <td>11214.7</td>\n      <td>8740.19</td>\n      <td>6971.31</td>\n      <td>...</td>\n      <td>na</td>\n      <td>na</td>\n      <td>na</td>\n      <td>na</td>\n      <td>na</td>\n      <td>na</td>\n      <td>na</td>\n      <td>0.557331</td>\n      <td>193.014</td>\n      <td>7198.33</td>\n    </tr>\n    <tr>\n      <th>2013</th>\n      <td>94074</td>\n      <td>49436.2</td>\n      <td>21456.1</td>\n      <td>16034.5</td>\n      <td>11594</td>\n      <td>8573.85</td>\n      <td>9425.06</td>\n      <td>11329.1</td>\n      <td>8193.77</td>\n      <td>7508.22</td>\n      <td>...</td>\n      <td>na</td>\n      <td>na</td>\n      <td>na</td>\n      <td>na</td>\n      <td>na</td>\n      <td>na</td>\n      <td>na</td>\n      <td>na</td>\n      <td>None</td>\n      <td>7281.74</td>\n    </tr>\n    <tr>\n      <th>2014</th>\n      <td>91740.7</td>\n      <td>50187.8</td>\n      <td>22171</td>\n      <td>18596.8</td>\n      <td>11534.2</td>\n      <td>8887.63</td>\n      <td>12289.8</td>\n      <td>12449.7</td>\n      <td>8091.26</td>\n      <td>8319.02</td>\n      <td>...</td>\n      <td>na</td>\n      <td>na</td>\n      <td>na</td>\n      <td>na</td>\n      <td>na</td>\n      <td>na</td>\n      <td>na</td>\n      <td>na</td>\n      <td>None</td>\n      <td>7364.72</td>\n    </tr>\n    <tr>\n      <th>2015</th>\n      <td>86742.5</td>\n      <td>42154.9</td>\n      <td>20226.1</td>\n      <td>22083.4</td>\n      <td>13906.1</td>\n      <td>9341.19</td>\n      <td>11267.4</td>\n      <td>12967.8</td>\n      <td>7627.94</td>\n      <td>8205.83</td>\n      <td>...</td>\n      <td>na</td>\n      <td>na</td>\n      <td>na</td>\n      <td>na</td>\n      <td>na</td>\n      <td>na</td>\n      <td>na</td>\n      <td>na</td>\n      <td>None</td>\n      <td>6152.3</td>\n    </tr>\n    <tr>\n      <th>2016</th>\n      <td>95681.9</td>\n      <td>38451.5</td>\n      <td>20430.6</td>\n      <td>20617.7</td>\n      <td>15199.8</td>\n      <td>15462</td>\n      <td>10710.3</td>\n      <td>13253.1</td>\n      <td>8935.67</td>\n      <td>7874.39</td>\n      <td>...</td>\n      <td>na</td>\n      <td>na</td>\n      <td>na</td>\n      <td>na</td>\n      <td>na</td>\n      <td>na</td>\n      <td>na</td>\n      <td>na</td>\n      <td>None</td>\n      <td>6517.74</td>\n    </tr>\n    <tr>\n      <th>2017</th>\n      <td>116013</td>\n      <td>47220.4</td>\n      <td>23535.8</td>\n      <td>20983.2</td>\n      <td>20268.6</td>\n      <td>11552.7</td>\n      <td>11959.9</td>\n      <td>14037.8</td>\n      <td>10404.8</td>\n      <td>8577.56</td>\n      <td>...</td>\n      <td>na</td>\n      <td>na</td>\n      <td>na</td>\n      <td>na</td>\n      <td>na</td>\n      <td>na</td>\n      <td>na</td>\n      <td>na</td>\n      <td>None</td>\n      <td>6935.74</td>\n    </tr>\n    <tr>\n      <th>2018</th>\n      <td>136585</td>\n      <td>58788.5</td>\n      <td>26585</td>\n      <td>23156.9</td>\n      <td>22408.6</td>\n      <td>10501.8</td>\n      <td>14709.5</td>\n      <td>15048.9</td>\n      <td>12253.1</td>\n      <td>10104.7</td>\n      <td>...</td>\n      <td>na</td>\n      <td>na</td>\n      <td>na</td>\n      <td>na</td>\n      <td>na</td>\n      <td>na</td>\n      <td>na</td>\n      <td>na</td>\n      <td>None</td>\n      <td>6832.74</td>\n    </tr>\n    <tr>\n      <th>2019</th>\n      <td>168575</td>\n      <td>60417.2</td>\n      <td>28222.3</td>\n      <td>25440.3</td>\n      <td>21787</td>\n      <td>21207.7</td>\n      <td>16886.8</td>\n      <td>16565.8</td>\n      <td>14304.4</td>\n      <td>11699.6</td>\n      <td>...</td>\n      <td>na</td>\n      <td>na</td>\n      <td>na</td>\n      <td>na</td>\n      <td>na</td>\n      <td>na</td>\n      <td>na</td>\n      <td>na</td>\n      <td>None</td>\n      <td>7442.44</td>\n    </tr>\n  </tbody>\n</table>\n<p>33 rows × 230 columns</p>\n</div>"
     },
     "metadata": {},
     "execution_count": 25
    }
   ],
   "source": [
    "xx.set_index('Year', inplace=True)\n",
    "xx = xx.T\n",
    "xx"
   ]
  },
  {
   "cell_type": "code",
   "execution_count": 26,
   "metadata": {},
   "outputs": [
    {
     "output_type": "execute_result",
     "data": {
      "text/plain": [
       "Year    China United States    Japan  Germany Thailand United Kingdom  \\\n",
       "1987  834.271       10820.3  8605.89  3130.72  509.124        5091.31   \n",
       "1988   996.65         12122   9601.5  3215.26  596.471        5684.18   \n",
       "1989     1355       15206.5  11768.9  3739.11  822.311        6419.16   \n",
       "1990  1456.05       15983.2  10641.2  3828.42  852.804        6377.94   \n",
       "1991   1864.6       15816.7  10018.2  3584.86  887.411        5871.53   \n",
       "1992  2549.47       16390.6  11377.1  3706.09  1054.84         6340.2   \n",
       "1993  3225.46       17301.4    13264  4042.04  1133.79        6774.42   \n",
       "1994  3745.02       19018.7  13649.6  4540.28  1240.56        7477.93   \n",
       "1995  4320.47       21252.2  13585.8  5676.36  1424.44        8376.36   \n",
       "1996  4577.99       22938.2    11697   5228.3  1453.52        9030.07   \n",
       "1997  5277.34       23762.4  12807.2  5330.32  1710.95        8892.59   \n",
       "1998  6443.55       27457.8  14821.9   6663.6  2150.89        9333.23   \n",
       "1999  7216.07       27410.8  15593.4   6710.6  2690.26        8843.94   \n",
       "2000  9805.21       30261.4  17034.5  6889.03  3496.48        11408.9   \n",
       "2001  11067.9       27747.1  17150.6  7859.74  3505.77        10336.2   \n",
       "2002  13805.2       29487.8  17240.1  8487.87  3945.68          10135   \n",
       "2003    15194       26922.8  17810.4  9050.07  4292.91        9883.46   \n",
       "2004  19159.4       26949.6  18405.6  9399.67  4700.11        10526.6   \n",
       "2005  22837.5       28181.8  18917.2  9902.03  5825.73        11134.5   \n",
       "2006  26795.8       32145.9  19112.3    10222  7692.47        10861.9   \n",
       "2007  30427.6       33278.4  19828.7  11674.7  9807.36        13425.4   \n",
       "2008  36886.6       37910.6    22491    13562  12441.2        15973.2   \n",
       "2009  37343.9       35325.9  18777.9  12519.8  14159.2        12160.8   \n",
       "2010  40923.6       36378.3  20573.5    12640  13265.7        12160.2   \n",
       "2011  43919.3       40711.6  20078.8  12677.9    11066        13186.2   \n",
       "2012  46442.4       43310.1  21420.5  13402.8    13085        13162.2   \n",
       "2013  49570.6       41003.5  21608.6  14132.7  14287.4        13229.6   \n",
       "2014    54460       43391.8  20095.8  14742.8    13266        13491.5   \n",
       "2015  64377.2       49372.3  23027.2  15569.8  15804.6        15221.7   \n",
       "2016  62323.2       44953.6  22823.7  16471.8  16878.4        14868.6   \n",
       "2017  67448.5       47331.9    24813  16991.9  17213.3        15486.2   \n",
       "2018  78303.1       50864.9  26987.6  18771.6  17913.7        16518.4   \n",
       "2019  82841.7       55532.5  26357.2  18183.6  17385.4        17246.2   \n",
       "\n",
       "Year Singapore New Zealand Republic of Korea Malaysia  ... Antarctica  \\\n",
       "1987   1335.48     2246.19           1069.69  648.926  ...         na   \n",
       "1988   1642.15     2605.65           1180.95  828.676  ...         na   \n",
       "1989   2069.22     2953.16           1437.67  1004.66  ...         na   \n",
       "1990    1959.9      3020.4           1288.17  925.903  ...         na   \n",
       "1991   2144.41     3093.32           1362.37  1040.52  ...         na   \n",
       "1992   2195.15      3427.9           1656.09  1264.43  ...         na   \n",
       "1993   2515.86     3896.93           2047.69  1419.53  ...         na   \n",
       "1994   3116.12     4280.21           1996.29  1669.77  ...         na   \n",
       "1995   3724.46     4618.47           2540.66  2072.07  ...         na   \n",
       "1996    3917.3     4770.91           2612.73  2244.18  ...         na   \n",
       "1997   3576.12     4903.09           3241.23  2754.96  ...         na   \n",
       "1998   4114.65     5317.46           4477.26  3451.69  ...         na   \n",
       "1999   6045.71     5622.57           4111.47  3984.82  ...         na   \n",
       "2000   5764.53     6135.45           5077.69  5115.36  ...         na   \n",
       "2001   6174.65     6568.07           4987.65  4687.31  ...         na   \n",
       "2002   6723.31     6721.49           5087.88  4597.83  ...         na   \n",
       "2003   6667.41     7058.16           5177.93   4938.2  ...         na   \n",
       "2004   8800.15        7350           5265.93  6361.24  ...         na   \n",
       "2005   11634.6     7607.78           5520.36  6966.59  ...         na   \n",
       "2006   14851.6     8001.21           7332.17  7670.99  ...         na   \n",
       "2007     14903      9117.7           6356.85   8450.3  ...         na   \n",
       "2008   21139.7     10745.4           6885.94  10101.5  ...         na   \n",
       "2009   14723.4     9944.48           7009.09  8617.07  ...         na   \n",
       "2010   14106.6     10315.6           7633.91  10328.1  ...         na   \n",
       "2011   17893.4     10970.5           7600.14  9978.97  ...         na   \n",
       "2012   18712.4     10576.3           10517.8  11007.8  ...         na   \n",
       "2013   17902.8     11107.6           11414.7  11069.3  ...         na   \n",
       "2014   17583.7     11906.6             13266  12755.6  ...         na   \n",
       "2015   14740.9     12012.7           16168.9    11257  ...         na   \n",
       "2016   12364.5     12378.2             11870  10276.3  ...         na   \n",
       "2017   13375.9     13570.6           31746.6  12175.7  ...         na   \n",
       "2018   17257.6       14289             14455  13971.4  ...         na   \n",
       "2019   16294.4     14541.9           13096.2    12253  ...         na   \n",
       "\n",
       "Year Christmas Island Cocos Keeling Islands French Antilles  \\\n",
       "1987               na                    na              na   \n",
       "1988               na                    na              na   \n",
       "1989               na                    na              na   \n",
       "1990               na                    na              na   \n",
       "1991               na                    na              na   \n",
       "1992               na                    na              na   \n",
       "1993               na                    na              na   \n",
       "1994               na                    na              na   \n",
       "1995               na                    na              na   \n",
       "1996               na                    na              na   \n",
       "1997               na                    na              na   \n",
       "1998               na                    na              na   \n",
       "1999               na                    na              na   \n",
       "2000               na                    na              na   \n",
       "2001               na                    na              na   \n",
       "2002               na                    na              na   \n",
       "2003               na                    na              na   \n",
       "2004               na                    na              na   \n",
       "2005               na                    na              na   \n",
       "2006               na                    na              na   \n",
       "2007               na                    na              na   \n",
       "2008               na                    na              na   \n",
       "2009               na                    na              na   \n",
       "2010               na                    na              na   \n",
       "2011               na                    na              na   \n",
       "2012               na                    na              na   \n",
       "2013               na                    na              na   \n",
       "2014               na                    na              na   \n",
       "2015               na                    na              na   \n",
       "2016               na                    na              na   \n",
       "2017               na                    na              na   \n",
       "2018               na                    na              na   \n",
       "2019               na                    na              na   \n",
       "\n",
       "Year French Southern Territories Midway Island US Pacific Islands South Sudan  \\\n",
       "1987                          na            na                 na        None   \n",
       "1988                          na            na                 na        None   \n",
       "1989                          na            na                 na        None   \n",
       "1990                          na            na                 na        None   \n",
       "1991                          na            na                 na        None   \n",
       "1992                          na            na                 na        None   \n",
       "1993                          na            na                 na        None   \n",
       "1994                          na            na                 na        None   \n",
       "1995                          na            na                 na        None   \n",
       "1996                          na            na                 na        None   \n",
       "1997                          na            na                 na        None   \n",
       "1998                          na            na                 na        None   \n",
       "1999                          na            na                 na        None   \n",
       "2000                          na            na                 na        None   \n",
       "2001                          na            na                 na        None   \n",
       "2002                          na            na                 na        None   \n",
       "2003                          na            na                 na        None   \n",
       "2004                          na            na                 na        None   \n",
       "2005                          na            na                 na        None   \n",
       "2006                          na            na                 na        None   \n",
       "2007                          na            na                 na        None   \n",
       "2008                          na            na                 na        None   \n",
       "2009                          na            na                 na        None   \n",
       "2010                          na            na                 na        None   \n",
       "2011                          na            na                 na        None   \n",
       "2012                          na            na                 na    0.001688   \n",
       "2013                          na            na                 na          na   \n",
       "2014                          na            na                 na          na   \n",
       "2015                          na            na                 na          na   \n",
       "2016                          na            na                 na          na   \n",
       "2017                          na            na                 na          na   \n",
       "2018                          na            na                 na          na   \n",
       "2019                          na            na                 na          na   \n",
       "\n",
       "Year Former Sudan    Other  \n",
       "1987           na  1671.32  \n",
       "1988           na  3082.23  \n",
       "1989           na  2538.94  \n",
       "1990           na  3598.95  \n",
       "1991           na  3493.32  \n",
       "1992           na  4022.95  \n",
       "1993           na  4427.01  \n",
       "1994           na     5431  \n",
       "1995           na   5069.7  \n",
       "1996           na     4352  \n",
       "1997           na  7330.53  \n",
       "1998           na  7695.66  \n",
       "1999           na   7126.2  \n",
       "2000           na  8609.21  \n",
       "2001           na  8587.59  \n",
       "2002           na  8752.84  \n",
       "2003           na  9279.39  \n",
       "2004           na  10873.7  \n",
       "2005           na  12158.6  \n",
       "2006           na    15349  \n",
       "2007      21.0508    13995  \n",
       "2008      25.0261    14473  \n",
       "2009      24.1061  13147.6  \n",
       "2010      25.0455    17740  \n",
       "2011      30.0329  22121.2  \n",
       "2012      29.1227  24722.9  \n",
       "2013         None  24032.3  \n",
       "2014         None  18877.8  \n",
       "2015         None  15335.1  \n",
       "2016         None    17908  \n",
       "2017         None  5547.13  \n",
       "2018         None  18729.4  \n",
       "2019         None    19869  \n",
       "\n",
       "[33 rows x 230 columns]"
      ],
      "text/html": "<div>\n<style scoped>\n    .dataframe tbody tr th:only-of-type {\n        vertical-align: middle;\n    }\n\n    .dataframe tbody tr th {\n        vertical-align: top;\n    }\n\n    .dataframe thead th {\n        text-align: right;\n    }\n</style>\n<table border=\"1\" class=\"dataframe\">\n  <thead>\n    <tr style=\"text-align: right;\">\n      <th>Year</th>\n      <th>China</th>\n      <th>United States</th>\n      <th>Japan</th>\n      <th>Germany</th>\n      <th>Thailand</th>\n      <th>United Kingdom</th>\n      <th>Singapore</th>\n      <th>New Zealand</th>\n      <th>Republic of Korea</th>\n      <th>Malaysia</th>\n      <th>...</th>\n      <th>Antarctica</th>\n      <th>Christmas Island</th>\n      <th>Cocos Keeling Islands</th>\n      <th>French Antilles</th>\n      <th>French Southern Territories</th>\n      <th>Midway Island</th>\n      <th>US Pacific Islands</th>\n      <th>South Sudan</th>\n      <th>Former Sudan</th>\n      <th>Other</th>\n    </tr>\n  </thead>\n  <tbody>\n    <tr>\n      <th>1987</th>\n      <td>834.271</td>\n      <td>10820.3</td>\n      <td>8605.89</td>\n      <td>3130.72</td>\n      <td>509.124</td>\n      <td>5091.31</td>\n      <td>1335.48</td>\n      <td>2246.19</td>\n      <td>1069.69</td>\n      <td>648.926</td>\n      <td>...</td>\n      <td>na</td>\n      <td>na</td>\n      <td>na</td>\n      <td>na</td>\n      <td>na</td>\n      <td>na</td>\n      <td>na</td>\n      <td>None</td>\n      <td>na</td>\n      <td>1671.32</td>\n    </tr>\n    <tr>\n      <th>1988</th>\n      <td>996.65</td>\n      <td>12122</td>\n      <td>9601.5</td>\n      <td>3215.26</td>\n      <td>596.471</td>\n      <td>5684.18</td>\n      <td>1642.15</td>\n      <td>2605.65</td>\n      <td>1180.95</td>\n      <td>828.676</td>\n      <td>...</td>\n      <td>na</td>\n      <td>na</td>\n      <td>na</td>\n      <td>na</td>\n      <td>na</td>\n      <td>na</td>\n      <td>na</td>\n      <td>None</td>\n      <td>na</td>\n      <td>3082.23</td>\n    </tr>\n    <tr>\n      <th>1989</th>\n      <td>1355</td>\n      <td>15206.5</td>\n      <td>11768.9</td>\n      <td>3739.11</td>\n      <td>822.311</td>\n      <td>6419.16</td>\n      <td>2069.22</td>\n      <td>2953.16</td>\n      <td>1437.67</td>\n      <td>1004.66</td>\n      <td>...</td>\n      <td>na</td>\n      <td>na</td>\n      <td>na</td>\n      <td>na</td>\n      <td>na</td>\n      <td>na</td>\n      <td>na</td>\n      <td>None</td>\n      <td>na</td>\n      <td>2538.94</td>\n    </tr>\n    <tr>\n      <th>1990</th>\n      <td>1456.05</td>\n      <td>15983.2</td>\n      <td>10641.2</td>\n      <td>3828.42</td>\n      <td>852.804</td>\n      <td>6377.94</td>\n      <td>1959.9</td>\n      <td>3020.4</td>\n      <td>1288.17</td>\n      <td>925.903</td>\n      <td>...</td>\n      <td>na</td>\n      <td>na</td>\n      <td>na</td>\n      <td>na</td>\n      <td>na</td>\n      <td>na</td>\n      <td>na</td>\n      <td>None</td>\n      <td>na</td>\n      <td>3598.95</td>\n    </tr>\n    <tr>\n      <th>1991</th>\n      <td>1864.6</td>\n      <td>15816.7</td>\n      <td>10018.2</td>\n      <td>3584.86</td>\n      <td>887.411</td>\n      <td>5871.53</td>\n      <td>2144.41</td>\n      <td>3093.32</td>\n      <td>1362.37</td>\n      <td>1040.52</td>\n      <td>...</td>\n      <td>na</td>\n      <td>na</td>\n      <td>na</td>\n      <td>na</td>\n      <td>na</td>\n      <td>na</td>\n      <td>na</td>\n      <td>None</td>\n      <td>na</td>\n      <td>3493.32</td>\n    </tr>\n    <tr>\n      <th>1992</th>\n      <td>2549.47</td>\n      <td>16390.6</td>\n      <td>11377.1</td>\n      <td>3706.09</td>\n      <td>1054.84</td>\n      <td>6340.2</td>\n      <td>2195.15</td>\n      <td>3427.9</td>\n      <td>1656.09</td>\n      <td>1264.43</td>\n      <td>...</td>\n      <td>na</td>\n      <td>na</td>\n      <td>na</td>\n      <td>na</td>\n      <td>na</td>\n      <td>na</td>\n      <td>na</td>\n      <td>None</td>\n      <td>na</td>\n      <td>4022.95</td>\n    </tr>\n    <tr>\n      <th>1993</th>\n      <td>3225.46</td>\n      <td>17301.4</td>\n      <td>13264</td>\n      <td>4042.04</td>\n      <td>1133.79</td>\n      <td>6774.42</td>\n      <td>2515.86</td>\n      <td>3896.93</td>\n      <td>2047.69</td>\n      <td>1419.53</td>\n      <td>...</td>\n      <td>na</td>\n      <td>na</td>\n      <td>na</td>\n      <td>na</td>\n      <td>na</td>\n      <td>na</td>\n      <td>na</td>\n      <td>None</td>\n      <td>na</td>\n      <td>4427.01</td>\n    </tr>\n    <tr>\n      <th>1994</th>\n      <td>3745.02</td>\n      <td>19018.7</td>\n      <td>13649.6</td>\n      <td>4540.28</td>\n      <td>1240.56</td>\n      <td>7477.93</td>\n      <td>3116.12</td>\n      <td>4280.21</td>\n      <td>1996.29</td>\n      <td>1669.77</td>\n      <td>...</td>\n      <td>na</td>\n      <td>na</td>\n      <td>na</td>\n      <td>na</td>\n      <td>na</td>\n      <td>na</td>\n      <td>na</td>\n      <td>None</td>\n      <td>na</td>\n      <td>5431</td>\n    </tr>\n    <tr>\n      <th>1995</th>\n      <td>4320.47</td>\n      <td>21252.2</td>\n      <td>13585.8</td>\n      <td>5676.36</td>\n      <td>1424.44</td>\n      <td>8376.36</td>\n      <td>3724.46</td>\n      <td>4618.47</td>\n      <td>2540.66</td>\n      <td>2072.07</td>\n      <td>...</td>\n      <td>na</td>\n      <td>na</td>\n      <td>na</td>\n      <td>na</td>\n      <td>na</td>\n      <td>na</td>\n      <td>na</td>\n      <td>None</td>\n      <td>na</td>\n      <td>5069.7</td>\n    </tr>\n    <tr>\n      <th>1996</th>\n      <td>4577.99</td>\n      <td>22938.2</td>\n      <td>11697</td>\n      <td>5228.3</td>\n      <td>1453.52</td>\n      <td>9030.07</td>\n      <td>3917.3</td>\n      <td>4770.91</td>\n      <td>2612.73</td>\n      <td>2244.18</td>\n      <td>...</td>\n      <td>na</td>\n      <td>na</td>\n      <td>na</td>\n      <td>na</td>\n      <td>na</td>\n      <td>na</td>\n      <td>na</td>\n      <td>None</td>\n      <td>na</td>\n      <td>4352</td>\n    </tr>\n    <tr>\n      <th>1997</th>\n      <td>5277.34</td>\n      <td>23762.4</td>\n      <td>12807.2</td>\n      <td>5330.32</td>\n      <td>1710.95</td>\n      <td>8892.59</td>\n      <td>3576.12</td>\n      <td>4903.09</td>\n      <td>3241.23</td>\n      <td>2754.96</td>\n      <td>...</td>\n      <td>na</td>\n      <td>na</td>\n      <td>na</td>\n      <td>na</td>\n      <td>na</td>\n      <td>na</td>\n      <td>na</td>\n      <td>None</td>\n      <td>na</td>\n      <td>7330.53</td>\n    </tr>\n    <tr>\n      <th>1998</th>\n      <td>6443.55</td>\n      <td>27457.8</td>\n      <td>14821.9</td>\n      <td>6663.6</td>\n      <td>2150.89</td>\n      <td>9333.23</td>\n      <td>4114.65</td>\n      <td>5317.46</td>\n      <td>4477.26</td>\n      <td>3451.69</td>\n      <td>...</td>\n      <td>na</td>\n      <td>na</td>\n      <td>na</td>\n      <td>na</td>\n      <td>na</td>\n      <td>na</td>\n      <td>na</td>\n      <td>None</td>\n      <td>na</td>\n      <td>7695.66</td>\n    </tr>\n    <tr>\n      <th>1999</th>\n      <td>7216.07</td>\n      <td>27410.8</td>\n      <td>15593.4</td>\n      <td>6710.6</td>\n      <td>2690.26</td>\n      <td>8843.94</td>\n      <td>6045.71</td>\n      <td>5622.57</td>\n      <td>4111.47</td>\n      <td>3984.82</td>\n      <td>...</td>\n      <td>na</td>\n      <td>na</td>\n      <td>na</td>\n      <td>na</td>\n      <td>na</td>\n      <td>na</td>\n      <td>na</td>\n      <td>None</td>\n      <td>na</td>\n      <td>7126.2</td>\n    </tr>\n    <tr>\n      <th>2000</th>\n      <td>9805.21</td>\n      <td>30261.4</td>\n      <td>17034.5</td>\n      <td>6889.03</td>\n      <td>3496.48</td>\n      <td>11408.9</td>\n      <td>5764.53</td>\n      <td>6135.45</td>\n      <td>5077.69</td>\n      <td>5115.36</td>\n      <td>...</td>\n      <td>na</td>\n      <td>na</td>\n      <td>na</td>\n      <td>na</td>\n      <td>na</td>\n      <td>na</td>\n      <td>na</td>\n      <td>None</td>\n      <td>na</td>\n      <td>8609.21</td>\n    </tr>\n    <tr>\n      <th>2001</th>\n      <td>11067.9</td>\n      <td>27747.1</td>\n      <td>17150.6</td>\n      <td>7859.74</td>\n      <td>3505.77</td>\n      <td>10336.2</td>\n      <td>6174.65</td>\n      <td>6568.07</td>\n      <td>4987.65</td>\n      <td>4687.31</td>\n      <td>...</td>\n      <td>na</td>\n      <td>na</td>\n      <td>na</td>\n      <td>na</td>\n      <td>na</td>\n      <td>na</td>\n      <td>na</td>\n      <td>None</td>\n      <td>na</td>\n      <td>8587.59</td>\n    </tr>\n    <tr>\n      <th>2002</th>\n      <td>13805.2</td>\n      <td>29487.8</td>\n      <td>17240.1</td>\n      <td>8487.87</td>\n      <td>3945.68</td>\n      <td>10135</td>\n      <td>6723.31</td>\n      <td>6721.49</td>\n      <td>5087.88</td>\n      <td>4597.83</td>\n      <td>...</td>\n      <td>na</td>\n      <td>na</td>\n      <td>na</td>\n      <td>na</td>\n      <td>na</td>\n      <td>na</td>\n      <td>na</td>\n      <td>None</td>\n      <td>na</td>\n      <td>8752.84</td>\n    </tr>\n    <tr>\n      <th>2003</th>\n      <td>15194</td>\n      <td>26922.8</td>\n      <td>17810.4</td>\n      <td>9050.07</td>\n      <td>4292.91</td>\n      <td>9883.46</td>\n      <td>6667.41</td>\n      <td>7058.16</td>\n      <td>5177.93</td>\n      <td>4938.2</td>\n      <td>...</td>\n      <td>na</td>\n      <td>na</td>\n      <td>na</td>\n      <td>na</td>\n      <td>na</td>\n      <td>na</td>\n      <td>na</td>\n      <td>None</td>\n      <td>na</td>\n      <td>9279.39</td>\n    </tr>\n    <tr>\n      <th>2004</th>\n      <td>19159.4</td>\n      <td>26949.6</td>\n      <td>18405.6</td>\n      <td>9399.67</td>\n      <td>4700.11</td>\n      <td>10526.6</td>\n      <td>8800.15</td>\n      <td>7350</td>\n      <td>5265.93</td>\n      <td>6361.24</td>\n      <td>...</td>\n      <td>na</td>\n      <td>na</td>\n      <td>na</td>\n      <td>na</td>\n      <td>na</td>\n      <td>na</td>\n      <td>na</td>\n      <td>None</td>\n      <td>na</td>\n      <td>10873.7</td>\n    </tr>\n    <tr>\n      <th>2005</th>\n      <td>22837.5</td>\n      <td>28181.8</td>\n      <td>18917.2</td>\n      <td>9902.03</td>\n      <td>5825.73</td>\n      <td>11134.5</td>\n      <td>11634.6</td>\n      <td>7607.78</td>\n      <td>5520.36</td>\n      <td>6966.59</td>\n      <td>...</td>\n      <td>na</td>\n      <td>na</td>\n      <td>na</td>\n      <td>na</td>\n      <td>na</td>\n      <td>na</td>\n      <td>na</td>\n      <td>None</td>\n      <td>na</td>\n      <td>12158.6</td>\n    </tr>\n    <tr>\n      <th>2006</th>\n      <td>26795.8</td>\n      <td>32145.9</td>\n      <td>19112.3</td>\n      <td>10222</td>\n      <td>7692.47</td>\n      <td>10861.9</td>\n      <td>14851.6</td>\n      <td>8001.21</td>\n      <td>7332.17</td>\n      <td>7670.99</td>\n      <td>...</td>\n      <td>na</td>\n      <td>na</td>\n      <td>na</td>\n      <td>na</td>\n      <td>na</td>\n      <td>na</td>\n      <td>na</td>\n      <td>None</td>\n      <td>na</td>\n      <td>15349</td>\n    </tr>\n    <tr>\n      <th>2007</th>\n      <td>30427.6</td>\n      <td>33278.4</td>\n      <td>19828.7</td>\n      <td>11674.7</td>\n      <td>9807.36</td>\n      <td>13425.4</td>\n      <td>14903</td>\n      <td>9117.7</td>\n      <td>6356.85</td>\n      <td>8450.3</td>\n      <td>...</td>\n      <td>na</td>\n      <td>na</td>\n      <td>na</td>\n      <td>na</td>\n      <td>na</td>\n      <td>na</td>\n      <td>na</td>\n      <td>None</td>\n      <td>21.0508</td>\n      <td>13995</td>\n    </tr>\n    <tr>\n      <th>2008</th>\n      <td>36886.6</td>\n      <td>37910.6</td>\n      <td>22491</td>\n      <td>13562</td>\n      <td>12441.2</td>\n      <td>15973.2</td>\n      <td>21139.7</td>\n      <td>10745.4</td>\n      <td>6885.94</td>\n      <td>10101.5</td>\n      <td>...</td>\n      <td>na</td>\n      <td>na</td>\n      <td>na</td>\n      <td>na</td>\n      <td>na</td>\n      <td>na</td>\n      <td>na</td>\n      <td>None</td>\n      <td>25.0261</td>\n      <td>14473</td>\n    </tr>\n    <tr>\n      <th>2009</th>\n      <td>37343.9</td>\n      <td>35325.9</td>\n      <td>18777.9</td>\n      <td>12519.8</td>\n      <td>14159.2</td>\n      <td>12160.8</td>\n      <td>14723.4</td>\n      <td>9944.48</td>\n      <td>7009.09</td>\n      <td>8617.07</td>\n      <td>...</td>\n      <td>na</td>\n      <td>na</td>\n      <td>na</td>\n      <td>na</td>\n      <td>na</td>\n      <td>na</td>\n      <td>na</td>\n      <td>None</td>\n      <td>24.1061</td>\n      <td>13147.6</td>\n    </tr>\n    <tr>\n      <th>2010</th>\n      <td>40923.6</td>\n      <td>36378.3</td>\n      <td>20573.5</td>\n      <td>12640</td>\n      <td>13265.7</td>\n      <td>12160.2</td>\n      <td>14106.6</td>\n      <td>10315.6</td>\n      <td>7633.91</td>\n      <td>10328.1</td>\n      <td>...</td>\n      <td>na</td>\n      <td>na</td>\n      <td>na</td>\n      <td>na</td>\n      <td>na</td>\n      <td>na</td>\n      <td>na</td>\n      <td>None</td>\n      <td>25.0455</td>\n      <td>17740</td>\n    </tr>\n    <tr>\n      <th>2011</th>\n      <td>43919.3</td>\n      <td>40711.6</td>\n      <td>20078.8</td>\n      <td>12677.9</td>\n      <td>11066</td>\n      <td>13186.2</td>\n      <td>17893.4</td>\n      <td>10970.5</td>\n      <td>7600.14</td>\n      <td>9978.97</td>\n      <td>...</td>\n      <td>na</td>\n      <td>na</td>\n      <td>na</td>\n      <td>na</td>\n      <td>na</td>\n      <td>na</td>\n      <td>na</td>\n      <td>None</td>\n      <td>30.0329</td>\n      <td>22121.2</td>\n    </tr>\n    <tr>\n      <th>2012</th>\n      <td>46442.4</td>\n      <td>43310.1</td>\n      <td>21420.5</td>\n      <td>13402.8</td>\n      <td>13085</td>\n      <td>13162.2</td>\n      <td>18712.4</td>\n      <td>10576.3</td>\n      <td>10517.8</td>\n      <td>11007.8</td>\n      <td>...</td>\n      <td>na</td>\n      <td>na</td>\n      <td>na</td>\n      <td>na</td>\n      <td>na</td>\n      <td>na</td>\n      <td>na</td>\n      <td>0.001688</td>\n      <td>29.1227</td>\n      <td>24722.9</td>\n    </tr>\n    <tr>\n      <th>2013</th>\n      <td>49570.6</td>\n      <td>41003.5</td>\n      <td>21608.6</td>\n      <td>14132.7</td>\n      <td>14287.4</td>\n      <td>13229.6</td>\n      <td>17902.8</td>\n      <td>11107.6</td>\n      <td>11414.7</td>\n      <td>11069.3</td>\n      <td>...</td>\n      <td>na</td>\n      <td>na</td>\n      <td>na</td>\n      <td>na</td>\n      <td>na</td>\n      <td>na</td>\n      <td>na</td>\n      <td>na</td>\n      <td>None</td>\n      <td>24032.3</td>\n    </tr>\n    <tr>\n      <th>2014</th>\n      <td>54460</td>\n      <td>43391.8</td>\n      <td>20095.8</td>\n      <td>14742.8</td>\n      <td>13266</td>\n      <td>13491.5</td>\n      <td>17583.7</td>\n      <td>11906.6</td>\n      <td>13266</td>\n      <td>12755.6</td>\n      <td>...</td>\n      <td>na</td>\n      <td>na</td>\n      <td>na</td>\n      <td>na</td>\n      <td>na</td>\n      <td>na</td>\n      <td>na</td>\n      <td>na</td>\n      <td>None</td>\n      <td>18877.8</td>\n    </tr>\n    <tr>\n      <th>2015</th>\n      <td>64377.2</td>\n      <td>49372.3</td>\n      <td>23027.2</td>\n      <td>15569.8</td>\n      <td>15804.6</td>\n      <td>15221.7</td>\n      <td>14740.9</td>\n      <td>12012.7</td>\n      <td>16168.9</td>\n      <td>11257</td>\n      <td>...</td>\n      <td>na</td>\n      <td>na</td>\n      <td>na</td>\n      <td>na</td>\n      <td>na</td>\n      <td>na</td>\n      <td>na</td>\n      <td>na</td>\n      <td>None</td>\n      <td>15335.1</td>\n    </tr>\n    <tr>\n      <th>2016</th>\n      <td>62323.2</td>\n      <td>44953.6</td>\n      <td>22823.7</td>\n      <td>16471.8</td>\n      <td>16878.4</td>\n      <td>14868.6</td>\n      <td>12364.5</td>\n      <td>12378.2</td>\n      <td>11870</td>\n      <td>10276.3</td>\n      <td>...</td>\n      <td>na</td>\n      <td>na</td>\n      <td>na</td>\n      <td>na</td>\n      <td>na</td>\n      <td>na</td>\n      <td>na</td>\n      <td>na</td>\n      <td>None</td>\n      <td>17908</td>\n    </tr>\n    <tr>\n      <th>2017</th>\n      <td>67448.5</td>\n      <td>47331.9</td>\n      <td>24813</td>\n      <td>16991.9</td>\n      <td>17213.3</td>\n      <td>15486.2</td>\n      <td>13375.9</td>\n      <td>13570.6</td>\n      <td>31746.6</td>\n      <td>12175.7</td>\n      <td>...</td>\n      <td>na</td>\n      <td>na</td>\n      <td>na</td>\n      <td>na</td>\n      <td>na</td>\n      <td>na</td>\n      <td>na</td>\n      <td>na</td>\n      <td>None</td>\n      <td>5547.13</td>\n    </tr>\n    <tr>\n      <th>2018</th>\n      <td>78303.1</td>\n      <td>50864.9</td>\n      <td>26987.6</td>\n      <td>18771.6</td>\n      <td>17913.7</td>\n      <td>16518.4</td>\n      <td>17257.6</td>\n      <td>14289</td>\n      <td>14455</td>\n      <td>13971.4</td>\n      <td>...</td>\n      <td>na</td>\n      <td>na</td>\n      <td>na</td>\n      <td>na</td>\n      <td>na</td>\n      <td>na</td>\n      <td>na</td>\n      <td>na</td>\n      <td>None</td>\n      <td>18729.4</td>\n    </tr>\n    <tr>\n      <th>2019</th>\n      <td>82841.7</td>\n      <td>55532.5</td>\n      <td>26357.2</td>\n      <td>18183.6</td>\n      <td>17385.4</td>\n      <td>17246.2</td>\n      <td>16294.4</td>\n      <td>14541.9</td>\n      <td>13096.2</td>\n      <td>12253</td>\n      <td>...</td>\n      <td>na</td>\n      <td>na</td>\n      <td>na</td>\n      <td>na</td>\n      <td>na</td>\n      <td>na</td>\n      <td>na</td>\n      <td>na</td>\n      <td>None</td>\n      <td>19869</td>\n    </tr>\n  </tbody>\n</table>\n<p>33 rows × 230 columns</p>\n</div>"
     },
     "metadata": {},
     "execution_count": 26
    }
   ],
   "source": [
    "yy.set_index('Year', inplace=True)\n",
    "yy = yy.T\n",
    "yy"
   ]
  },
  {
   "cell_type": "code",
   "execution_count": 27,
   "metadata": {},
   "outputs": [
    {
     "output_type": "execute_result",
     "data": {
      "text/plain": [
       "Empty DataFrame\n",
       "Columns: [China, United States, Japan, Germany, Thailand, United Kingdom, Singapore, New Zealand, Republic of Korea, Malaysia, Italy, Indonesia, France, Vietnam, India, Taiwan, United Arab Emirates, Canada, Papua New Guinea, Switzerland, Netherlands, Hong Kong (SAR of China), Ireland, Mexico, Spain, Sweden, Austria, Belgium, Philippines, South Africa, Fiji, Denmark, Turkey, Finland, Poland, Brunei, Bangladesh, Israel, Qatar, Greece, Norway, Brazil, Algeria, Argentina, Libya, Chile, Czech Republic, Hungary, Sri Lanka, Saudi Arabia, Nigeria, Russian Federation, Pakistan, Cambodia, Slovak Republic, Portugal, Lebanon, Peru, Puerto Rico, Estonia, Bermuda, Cyprus, Luxembourg, Romania, Vanuatu, Egypt, Colombia, Kuwait, Mauritius, Slovenia, Solomon Islands, Kenya, Republic of Congo, Nepal, Iran, Costa Rica, Timor-Leste, Croatia, Malta, Samoa, Myanmar, Serbia, Yemen, Jordan, Morocco, Bulgaria, Lithuania, New Caledonia, Maldives, Ukraine, Bahrain, Afghanistan, Zimbabwe, Gabon, Mauritania, Ethiopia, Cook Islands, Honduras, Macau (SAR of China), Tanzania, ...]\n",
       "Index: []\n",
       "\n",
       "[0 rows x 230 columns]"
      ],
      "text/html": "<div>\n<style scoped>\n    .dataframe tbody tr th:only-of-type {\n        vertical-align: middle;\n    }\n\n    .dataframe tbody tr th {\n        vertical-align: top;\n    }\n\n    .dataframe thead th {\n        text-align: right;\n    }\n</style>\n<table border=\"1\" class=\"dataframe\">\n  <thead>\n    <tr style=\"text-align: right;\">\n      <th>Year</th>\n      <th>China</th>\n      <th>United States</th>\n      <th>Japan</th>\n      <th>Germany</th>\n      <th>Thailand</th>\n      <th>United Kingdom</th>\n      <th>Singapore</th>\n      <th>New Zealand</th>\n      <th>Republic of Korea</th>\n      <th>Malaysia</th>\n      <th>...</th>\n      <th>Antarctica</th>\n      <th>Christmas Island</th>\n      <th>Cocos Keeling Islands</th>\n      <th>French Antilles</th>\n      <th>French Southern Territories</th>\n      <th>Midway Island</th>\n      <th>US Pacific Islands</th>\n      <th>South Sudan</th>\n      <th>Former Sudan</th>\n      <th>Other</th>\n    </tr>\n  </thead>\n  <tbody>\n  </tbody>\n</table>\n<p>0 rows × 230 columns</p>\n</div>"
     },
     "metadata": {},
     "execution_count": 27
    }
   ],
   "source": [
    "ttt = pd.DataFrame(yy,index=[])\n",
    "ttt"
   ]
  },
  {
   "cell_type": "code",
   "execution_count": 28,
   "metadata": {},
   "outputs": [
    {
     "output_type": "execute_result",
     "data": {
      "text/plain": [
       "'CREATE TABLE YearTradeExport (Year INTEGER, \"China\" REAL, \"Japan\" REAL, \"Republic of Korea\" REAL, \"United States\" REAL, \"India\" REAL, \"United Kingdom\" REAL, \"Singapore\" REAL, \"New Zealand\" REAL, \"Taiwan\" REAL, \"Malaysia\" REAL, \"Hong Kong (SAR of China)\" REAL, \"Indonesia\" REAL, \"Vietnam\" REAL, \"Thailand\" REAL, \"Germany\" REAL, \"United Arab Emirates\" REAL, \"Netherlands\" REAL, \"Philippines\" REAL, \"Canada\" REAL, \"Nepal\" REAL, \"Papua New Guinea\" REAL, \"Switzerland\" REAL, \"France\" REAL, \"Brazil\" REAL, \"South Africa\" REAL, \"Ireland\" REAL, \"Belgium\" REAL, \"Bangladesh\" REAL, \"Italy\" REAL, \"Pakistan\" REAL, \"Saudi Arabia\" REAL, \"Bahrain\" REAL, \"Sri Lanka\" REAL, \"Qatar\" REAL, \"Russian Federation\" REAL, \"Spain\" REAL, \"Colombia\" REAL, \"Sweden\" REAL, \"Poland\" REAL, \"Fiji\" REAL, \"Chile\" REAL, \"New Caledonia\" REAL, \"Turkey\" REAL, \"Egypt\" REAL, \"Norway\" REAL, \"Mozambique\" REAL, \"Oman\" REAL, \"Kuwait\" REAL, \"Mexico\" REAL, \"Argentina\" REAL, \"Israel\" REAL, \"Denmark\" REAL, \"Kenya\" REAL, \"Cayman Islands\" REAL, \"Iceland\" REAL, \"Cambodia\" REAL, \"Iran\" REAL, \"Mauritius\" REAL, \"Myanmar\" REAL, \"Yemen\" REAL, \"Macau (SAR of China)\" REAL, \"Nigeria\" REAL, \"Peru\" REAL, \"Mongolia\" REAL, \"Czech Republic\" REAL, \"Bermuda\" REAL, \"Jordan\" REAL, \"Finland\" REAL, \"Ghana\" REAL, \"Bhutan\" REAL, \"Solomon Islands\" REAL, \"Austria\" REAL, \"Vanuatu\" REAL, \"Greece\" REAL, \"Slovenia\" REAL, \"Ukraine\" REAL, \"Panama\" REAL, \"Brunei\" REAL, \"Venezuela\" REAL, \"Lebanon\" REAL, \"Hungary\" REAL, \"Portugal\" REAL, \"Cote d\\'Ivoire\" REAL, \"Georgia\" REAL, \"Zimbabwe\" REAL, \"Luxembourg\" REAL, \"Timor-Leste\" REAL, \"Samoa\" REAL, \"Maldives\" REAL, \"Laos\" REAL, \"French Polynesia\" REAL, \"Tanzania\" REAL, \"Nauru\" REAL, \"Iraq\" REAL, \"Tonga\" REAL, \"Romania\" REAL, \"Estonia\" REAL, \"Slovak Republic\" REAL, \"Kazakhstan\" REAL, \"Ecuador\" REAL, \"Bulgaria\" REAL, \"Zambia\" REAL, \"Lithuania\" REAL, \"Uruguay\" REAL, \"Trinidad & Tobago\" REAL, \"Burkina Faso\" REAL, \"Cyprus\" REAL, \"Latvia\" REAL, \"Botswana\" REAL, \"Jamaica\" REAL, \"Madagascar\" REAL, \"Gibraltar\" REAL, \"Southern and East Africa nec\" REAL, \"Senegal\" REAL, \"Morocco\" REAL, \"Kiribati\" REAL, \"North Macedonia\" REAL, \"Bahamas\" REAL, \"Malta\" REAL, \"Serbia\" REAL, \"Croatia\" REAL, \"Afghanistan\" REAL, \"Ethiopia\" REAL, \"Suriname\" REAL, \"Dominican Republic\" REAL, \"Cook Islands\" REAL, \"Mali\" REAL, \"Sierra Leone\" REAL, \"Uganda\" REAL, \"UK Virgin Islands\" REAL, \"Sudan\" REAL, \"Namibia\" REAL, \"El Salvador\" REAL, \"Seychelles\" REAL, \"Uzbekistan\" REAL, \"Marshall Islands\" REAL, \"Norfolk Island\" REAL, \"Guam\" REAL, \"Azerbaijan\" REAL, \"American Samoa\" REAL, \"Reunion\" REAL, \"Mauritania\" REAL, \"Costa Rica\" REAL, \"Eritrea\" REAL, \"Guatemala\" REAL, \"Belarus\" REAL, \"Barbados\" REAL, \"Paraguay\" REAL, \"Guyana\" REAL, \"Algeria\" REAL, \"Togo\" REAL, \"Libya\" REAL, \"Malawi\" REAL, \"Bosnia-Herzegovina\" REAL, \"Guinea\" REAL, \"Kyrgyzstan\" REAL, \"Tuvalu\" REAL, \"Albania\" REAL, \"Angola\" REAL, \"Democratic Republic of the Congo\" REAL, \"Bolivia\" REAL, \"Rwanda\" REAL, \"Federated States of Micronesia\" REAL, \"Cameroon\" REAL, \"Syria\" REAL, \"Tunisia\" REAL, \"Eswatini\" REAL, \"Wallis & Futuna Island\" REAL, \"Liberia\" REAL, \"Honduras\" REAL, \"Armenia\" REAL, \"Puerto Rico\" REAL, \"Cuba\" REAL, \"Somalia\" REAL, \"Palau\" REAL, \"Chad\" REAL, \"Gaza Strip and West Bank\" REAL, \"St Lucia\" REAL, \"Montenegro\" REAL, \"Gabon\" REAL, \"Northern Mariana Islands\" REAL, \"Djibouti\" REAL, \"Grenada\" REAL, \"Dominica\" REAL, \"Belize\" REAL, \"St Vincent & Grenadines\" REAL, \"Republic of Congo\" REAL, \"Polynesia (excl Hawaii) nec\" REAL, \"Burundi\" REAL, \"Lesotho\" REAL, \"Moldova\" REAL, \"St Kitts & Nevis\" REAL, \"Antigua & Barbuda\" REAL, \"Niue\" REAL, \"Nicaragua\" REAL, \"St Helena\" REAL, \"Cabo Verde\" REAL, \"Central African Republic\" REAL, \"Benin\" REAL, \"Equatorial Guinea\" REAL, \"Netherlands Antilles\" REAL, \"Pitcairn Islands\" REAL, \"Falkland Islands\" REAL, \"US Virgin Islands\" REAL, \"Haiti\" REAL, \"Gambia\" REAL, \"Guinea-Bissau\" REAL, \"French Guiana\" REAL, \"Niger\" REAL, \"Turkmenistan\" REAL, \"Tajikistan\" REAL, \"Turks & Caicos Islands\" REAL, \"St Pierre & Miquelon\" REAL, \"Montserrat\" REAL, \"Anguilla\" REAL, \"Sao Tome & Principe\" REAL, \"Democratic People\\'s Republic of Korea\" REAL, \"Comoros\" REAL, \"Western Sahara\" REAL, \"Adelie Land (France)\" REAL, \"Antarctica\" REAL, \"Christmas Island\" REAL, \"Cocos Keeling Islands\" REAL, \"French Antilles\" REAL, \"French Southern Territories\" REAL, \"Midway Island\" REAL, \"US Pacific Islands\" REAL, \"South Sudan\" REAL, \"Former Sudan\" REAL, \"Other\" REAL, PRIMARY KEY (Year))'"
      ]
     },
     "metadata": {},
     "execution_count": 28
    }
   ],
   "source": [
    "query_export_create = 'CREATE TABLE YearTradeExport (Year INTEGER'\n",
    "for x in xx.columns:\n",
    "    query_export_create += f', \"{x}\" REAL'\n",
    "query_export_create += ', PRIMARY KEY (Year))'\n",
    "query_export_create"
   ]
  },
  {
   "cell_type": "code",
   "execution_count": 29,
   "metadata": {},
   "outputs": [
    {
     "output_type": "execute_result",
     "data": {
      "text/plain": [
       "<sqlite3.Cursor at 0x1f909856e30>"
      ]
     },
     "metadata": {},
     "execution_count": 29
    }
   ],
   "source": [
    "db_curs.execute(query_export_create)"
   ]
  },
  {
   "cell_type": "code",
   "execution_count": 30,
   "metadata": {},
   "outputs": [
    {
     "output_type": "execute_result",
     "data": {
      "text/plain": [
       "'CREATE TABLE YearTradeImport (Year INTEGER, \"China\" REAL, \"Japan\" REAL, \"Republic of Korea\" REAL, \"United States\" REAL, \"India\" REAL, \"United Kingdom\" REAL, \"Singapore\" REAL, \"New Zealand\" REAL, \"Taiwan\" REAL, \"Malaysia\" REAL, \"Hong Kong (SAR of China)\" REAL, \"Indonesia\" REAL, \"Vietnam\" REAL, \"Thailand\" REAL, \"Germany\" REAL, \"United Arab Emirates\" REAL, \"Netherlands\" REAL, \"Philippines\" REAL, \"Canada\" REAL, \"Nepal\" REAL, \"Papua New Guinea\" REAL, \"Switzerland\" REAL, \"France\" REAL, \"Brazil\" REAL, \"South Africa\" REAL, \"Ireland\" REAL, \"Belgium\" REAL, \"Bangladesh\" REAL, \"Italy\" REAL, \"Pakistan\" REAL, \"Saudi Arabia\" REAL, \"Bahrain\" REAL, \"Sri Lanka\" REAL, \"Qatar\" REAL, \"Russian Federation\" REAL, \"Spain\" REAL, \"Colombia\" REAL, \"Sweden\" REAL, \"Poland\" REAL, \"Fiji\" REAL, \"Chile\" REAL, \"New Caledonia\" REAL, \"Turkey\" REAL, \"Egypt\" REAL, \"Norway\" REAL, \"Mozambique\" REAL, \"Oman\" REAL, \"Kuwait\" REAL, \"Mexico\" REAL, \"Argentina\" REAL, \"Israel\" REAL, \"Denmark\" REAL, \"Kenya\" REAL, \"Cayman Islands\" REAL, \"Iceland\" REAL, \"Cambodia\" REAL, \"Iran\" REAL, \"Mauritius\" REAL, \"Myanmar\" REAL, \"Yemen\" REAL, \"Macau (SAR of China)\" REAL, \"Nigeria\" REAL, \"Peru\" REAL, \"Mongolia\" REAL, \"Czech Republic\" REAL, \"Bermuda\" REAL, \"Jordan\" REAL, \"Finland\" REAL, \"Ghana\" REAL, \"Bhutan\" REAL, \"Solomon Islands\" REAL, \"Austria\" REAL, \"Vanuatu\" REAL, \"Greece\" REAL, \"Slovenia\" REAL, \"Ukraine\" REAL, \"Panama\" REAL, \"Brunei\" REAL, \"Venezuela\" REAL, \"Lebanon\" REAL, \"Hungary\" REAL, \"Portugal\" REAL, \"Cote d\\'Ivoire\" REAL, \"Georgia\" REAL, \"Zimbabwe\" REAL, \"Luxembourg\" REAL, \"Timor-Leste\" REAL, \"Samoa\" REAL, \"Maldives\" REAL, \"Laos\" REAL, \"French Polynesia\" REAL, \"Tanzania\" REAL, \"Nauru\" REAL, \"Iraq\" REAL, \"Tonga\" REAL, \"Romania\" REAL, \"Estonia\" REAL, \"Slovak Republic\" REAL, \"Kazakhstan\" REAL, \"Ecuador\" REAL, \"Bulgaria\" REAL, \"Zambia\" REAL, \"Lithuania\" REAL, \"Uruguay\" REAL, \"Trinidad & Tobago\" REAL, \"Burkina Faso\" REAL, \"Cyprus\" REAL, \"Latvia\" REAL, \"Botswana\" REAL, \"Jamaica\" REAL, \"Madagascar\" REAL, \"Gibraltar\" REAL, \"Southern and East Africa nec\" REAL, \"Senegal\" REAL, \"Morocco\" REAL, \"Kiribati\" REAL, \"North Macedonia\" REAL, \"Bahamas\" REAL, \"Malta\" REAL, \"Serbia\" REAL, \"Croatia\" REAL, \"Afghanistan\" REAL, \"Ethiopia\" REAL, \"Suriname\" REAL, \"Dominican Republic\" REAL, \"Cook Islands\" REAL, \"Mali\" REAL, \"Sierra Leone\" REAL, \"Uganda\" REAL, \"UK Virgin Islands\" REAL, \"Sudan\" REAL, \"Namibia\" REAL, \"El Salvador\" REAL, \"Seychelles\" REAL, \"Uzbekistan\" REAL, \"Marshall Islands\" REAL, \"Norfolk Island\" REAL, \"Guam\" REAL, \"Azerbaijan\" REAL, \"American Samoa\" REAL, \"Reunion\" REAL, \"Mauritania\" REAL, \"Costa Rica\" REAL, \"Eritrea\" REAL, \"Guatemala\" REAL, \"Belarus\" REAL, \"Barbados\" REAL, \"Paraguay\" REAL, \"Guyana\" REAL, \"Algeria\" REAL, \"Togo\" REAL, \"Libya\" REAL, \"Malawi\" REAL, \"Bosnia-Herzegovina\" REAL, \"Guinea\" REAL, \"Kyrgyzstan\" REAL, \"Tuvalu\" REAL, \"Albania\" REAL, \"Angola\" REAL, \"Democratic Republic of the Congo\" REAL, \"Bolivia\" REAL, \"Rwanda\" REAL, \"Federated States of Micronesia\" REAL, \"Cameroon\" REAL, \"Syria\" REAL, \"Tunisia\" REAL, \"Eswatini\" REAL, \"Wallis & Futuna Island\" REAL, \"Liberia\" REAL, \"Honduras\" REAL, \"Armenia\" REAL, \"Puerto Rico\" REAL, \"Cuba\" REAL, \"Somalia\" REAL, \"Palau\" REAL, \"Chad\" REAL, \"Gaza Strip and West Bank\" REAL, \"St Lucia\" REAL, \"Montenegro\" REAL, \"Gabon\" REAL, \"Northern Mariana Islands\" REAL, \"Djibouti\" REAL, \"Grenada\" REAL, \"Dominica\" REAL, \"Belize\" REAL, \"St Vincent & Grenadines\" REAL, \"Republic of Congo\" REAL, \"Polynesia (excl Hawaii) nec\" REAL, \"Burundi\" REAL, \"Lesotho\" REAL, \"Moldova\" REAL, \"St Kitts & Nevis\" REAL, \"Antigua & Barbuda\" REAL, \"Niue\" REAL, \"Nicaragua\" REAL, \"St Helena\" REAL, \"Cabo Verde\" REAL, \"Central African Republic\" REAL, \"Benin\" REAL, \"Equatorial Guinea\" REAL, \"Netherlands Antilles\" REAL, \"Pitcairn Islands\" REAL, \"Falkland Islands\" REAL, \"US Virgin Islands\" REAL, \"Haiti\" REAL, \"Gambia\" REAL, \"Guinea-Bissau\" REAL, \"French Guiana\" REAL, \"Niger\" REAL, \"Turkmenistan\" REAL, \"Tajikistan\" REAL, \"Turks & Caicos Islands\" REAL, \"St Pierre & Miquelon\" REAL, \"Montserrat\" REAL, \"Anguilla\" REAL, \"Sao Tome & Principe\" REAL, \"Democratic People\\'s Republic of Korea\" REAL, \"Comoros\" REAL, \"Western Sahara\" REAL, \"Adelie Land (France)\" REAL, \"Antarctica\" REAL, \"Christmas Island\" REAL, \"Cocos Keeling Islands\" REAL, \"French Antilles\" REAL, \"French Southern Territories\" REAL, \"Midway Island\" REAL, \"US Pacific Islands\" REAL, \"South Sudan\" REAL, \"Former Sudan\" REAL, \"Other\" REAL, PRIMARY KEY (Year))'"
      ]
     },
     "metadata": {},
     "execution_count": 30
    }
   ],
   "source": [
    "query_import_create = 'CREATE TABLE YearTradeImport (Year INTEGER'\n",
    "for x in xx.columns:\n",
    "    query_import_create += f', \"{x}\" REAL'\n",
    "query_import_create += ', PRIMARY KEY (Year))'\n",
    "query_import_create"
   ]
  },
  {
   "cell_type": "code",
   "execution_count": 31,
   "metadata": {},
   "outputs": [
    {
     "output_type": "execute_result",
     "data": {
      "text/plain": [
       "<sqlite3.Cursor at 0x1f909856e30>"
      ]
     },
     "metadata": {},
     "execution_count": 31
    }
   ],
   "source": [
    "db_curs.execute(query_import_create)"
   ]
  },
  {
   "cell_type": "code",
   "execution_count": 32,
   "metadata": {},
   "outputs": [],
   "source": [
    "xx.to_sql('YearTradeExport', db_conn, if_exists='append', index='Year')\n",
    "yy.to_sql('YearTradeImport', db_conn, if_exists='append', index='Year')"
   ]
  },
  {
   "cell_type": "code",
   "execution_count": 33,
   "metadata": {},
   "outputs": [
    {
     "output_type": "execute_result",
     "data": {
      "text/plain": [
       "    Year          China         Japan  Republic of Korea  United States  \\\n",
       "0   1987    1616.046000  10817.003000        1618.100000    5696.483000   \n",
       "1   1988    1234.102000  13123.017000        2118.142000    6014.207000   \n",
       "2   1989    1436.285000  14104.966000        2600.693000    6801.070000   \n",
       "3   1990    1587.787625  15547.315779        3132.085403    7653.133345   \n",
       "4   1991    1756.601118  17250.944657        3568.869189    7325.162915   \n",
       "5   1992    2094.104532  17562.515373        3932.616015    7062.849074   \n",
       "6   1993    2578.097318  18697.905979        4803.199295    7379.955574   \n",
       "7   1994    3165.148391  19269.489429        5368.566766    7020.033818   \n",
       "8   1995    3514.726069  19983.685953        7041.783562    7366.887582   \n",
       "9   1996    4234.540636  19438.246635        8320.880262    8120.721290   \n",
       "10  1997    4384.587219  20593.526031        7801.548878    9979.630518   \n",
       "11  1998    4279.031546  20973.595947        6618.939101   12720.802233   \n",
       "12  1999    4716.082749  20030.495159        6896.020655   12988.713056   \n",
       "13  2000    6859.785578  25018.117243        9868.633854   16677.388929   \n",
       "14  2001    8821.661888  26879.790286       10674.725932   16444.723621   \n",
       "15  2002   10050.151212  25399.377860       11065.819071   16298.301226   \n",
       "16  2003   11181.831628  22593.216142        9276.923163   14148.114330   \n",
       "17  2004   13730.484174  25310.728617       10416.704890   13972.773314   \n",
       "18  2005   19067.537013  31582.534287       12478.642381   13929.335568   \n",
       "19  2006   23761.892608  35469.612063       14230.655547   15791.974305   \n",
       "20  2007   27920.919492  34580.968397       15601.141383   15956.366443   \n",
       "21  2008   37372.719198  53145.840986       20527.621866   18370.994174   \n",
       "22  2009   48269.783594  40308.707969       17749.508943   15401.965362   \n",
       "23  2010   64892.274633  45682.803733       22662.105992   14801.694522   \n",
       "24  2011   78129.446031  52378.101244       25255.518161   15455.692224   \n",
       "25  2012   74821.262491  49852.945422       21812.612682   15144.193555   \n",
       "26  2013   94074.015395  49436.248874       21456.124896   16034.466217   \n",
       "27  2014   91740.716142  50187.841813       22170.968706   18596.759973   \n",
       "28  2015   86742.466505  42154.947115       20226.129185   22083.373623   \n",
       "29  2016   95681.896769  38451.460279       20430.602614   20617.717527   \n",
       "30  2017  116012.837126  47220.382168       23535.751365   20983.190293   \n",
       "31  2018  136585.078829  58788.526913       26585.008156   23156.864232   \n",
       "32  2019  168575.269720  60417.153432       28222.264120   25440.338679   \n",
       "\n",
       "      India  United Kingdom     Singapore   New Zealand        Taiwan  ...  \\\n",
       "0        na     2758.251000   1148.942000   3135.450000   1349.744000  ...   \n",
       "1        na     2892.279000   1636.117000   3370.522000   1568.326000  ...   \n",
       "2        na     3154.077000   2037.958000   3684.849000   1871.352000  ...   \n",
       "3        na     3486.098880   2803.856575   3789.891314   1957.490497  ...   \n",
       "4        na     3488.682459   3447.124886   3875.496918   2543.250749  ...   \n",
       "5        na     4137.420369   4425.992134   4199.524997   2889.771907  ...   \n",
       "6        na     4657.241501   4065.623799   4882.189014   3288.489008  ...   \n",
       "7        na     4241.047356   4465.994421   5578.586817   3449.351682  ...   \n",
       "8        na     4419.315867   5099.327005   6642.195722   3993.851655  ...   \n",
       "9        na     5155.465575   4422.617227   7278.501114   3911.795543  ...   \n",
       "10       na     4933.482553   5190.313271   7951.617118   4533.774053  ...   \n",
       "11       na     7621.077743   4670.981381   7507.907226   4747.954620  ...   \n",
       "12  1939.52     7054.878025   5709.454477   8747.023464   4672.293571  ...   \n",
       "13  2304.36     7757.923727   8012.142325   9408.788893   6003.586367  ...   \n",
       "14  2996.19     9287.526638   7816.960827   9996.769754   5802.998873  ...   \n",
       "15  3003.77     9914.369393   7590.375094  10751.108711   5184.344205  ...   \n",
       "16  3933.27    12006.505456   5835.630857  11194.325086   4176.519918  ...   \n",
       "17     6262     9863.687935   5672.676584  12035.276898   4568.461922  ...   \n",
       "18   8167.6    10098.122931   6746.027797  12611.750053   5985.779623  ...   \n",
       "19  10349.1    13565.592894   7603.314802  12608.920829   6758.594836  ...   \n",
       "20    11424    12342.088868   7513.391955  13369.931915   6478.704879  ...   \n",
       "21    16740    14286.998781  10410.610964  13338.814985   8784.000239  ...   \n",
       "22  18307.8    13669.073934   8617.208185  11449.907010   7112.382079  ...   \n",
       "23  19973.9    12774.385034   7762.061102  11539.874010   8968.285861  ...   \n",
       "24  18158.2    11972.248480   9835.007324  11333.734226   9757.452147  ...   \n",
       "25  14465.8    11193.670228  10568.272449  11214.704666   8740.188070  ...   \n",
       "26    11594     8573.845688   9425.057794  11329.080642   8193.771313  ...   \n",
       "27  11534.2     8887.625015  12289.829693  12449.651208   8091.259430  ...   \n",
       "28  13906.1     9341.185912  11267.376302  12967.847847   7627.943146  ...   \n",
       "29  15199.8    15462.041997  10710.349647  13253.127759   8935.667760  ...   \n",
       "30  20268.6    11552.742936  11959.888249  14037.802041  10404.831751  ...   \n",
       "31  22408.6    10501.812162  14709.485822  15048.887103  12253.088677  ...   \n",
       "32    21787    21207.749627  16886.822235  16565.765075  14304.360426  ...   \n",
       "\n",
       "    Antarctica  Christmas Island  Cocos Keeling Islands French Antilles  \\\n",
       "0           na                na                     na              na   \n",
       "1           na                na                     na              na   \n",
       "2           na                na                     na              na   \n",
       "3           na                na                     na              na   \n",
       "4           na                na                     na              na   \n",
       "5           na                na                     na              na   \n",
       "6           na                na                     na              na   \n",
       "7           na                na                     na              na   \n",
       "8           na                na                     na              na   \n",
       "9           na                na                     na              na   \n",
       "10          na                na                     na              na   \n",
       "11          na                na                     na              na   \n",
       "12          na                na                     na              na   \n",
       "13          na                na                     na              na   \n",
       "14          na                na                     na              na   \n",
       "15          na                na                     na              na   \n",
       "16          na                na                     na              na   \n",
       "17          na                na                     na              na   \n",
       "18          na                na                     na              na   \n",
       "19          na                na                     na              na   \n",
       "20          na                na                     na              na   \n",
       "21          na                na                     na              na   \n",
       "22          na                na                     na              na   \n",
       "23          na                na                     na              na   \n",
       "24          na                na                     na              na   \n",
       "25          na                na                     na              na   \n",
       "26          na                na                     na              na   \n",
       "27          na                na                     na              na   \n",
       "28          na                na                     na              na   \n",
       "29          na                na                     na              na   \n",
       "30          na                na                     na              na   \n",
       "31          na                na                     na              na   \n",
       "32          na                na                     na              na   \n",
       "\n",
       "    French Southern Territories  Midway Island US Pacific Islands  \\\n",
       "0                            na             na                 na   \n",
       "1                            na             na                 na   \n",
       "2                            na             na                 na   \n",
       "3                            na             na                 na   \n",
       "4                            na             na                 na   \n",
       "5                            na             na                 na   \n",
       "6                            na             na                 na   \n",
       "7                            na             na                 na   \n",
       "8                            na             na                 na   \n",
       "9                            na             na                 na   \n",
       "10                           na             na                 na   \n",
       "11                           na             na                 na   \n",
       "12                           na             na                 na   \n",
       "13                           na             na                 na   \n",
       "14                           na             na                 na   \n",
       "15                           na             na                 na   \n",
       "16                           na             na                 na   \n",
       "17                           na             na                 na   \n",
       "18                           na             na                 na   \n",
       "19                           na             na                 na   \n",
       "20                           na             na                 na   \n",
       "21                           na             na                 na   \n",
       "22                           na             na                 na   \n",
       "23                           na             na                 na   \n",
       "24                           na             na                 na   \n",
       "25                           na             na                 na   \n",
       "26                           na             na                 na   \n",
       "27                           na             na                 na   \n",
       "28                           na             na                 na   \n",
       "29                           na             na                 na   \n",
       "30                           na             na                 na   \n",
       "31                           na             na                 na   \n",
       "32                           na             na                 na   \n",
       "\n",
       "    South Sudan  Former Sudan         Other  \n",
       "0          None            na   3196.913032  \n",
       "1          None            na   3037.879032  \n",
       "2          None            na   3158.750032  \n",
       "3          None            na   3591.089421  \n",
       "4          None            na   4732.095002  \n",
       "5          None            na   4678.478454  \n",
       "6          None            na   5072.868531  \n",
       "7          None            na   4874.959022  \n",
       "8          None            na   5858.846417  \n",
       "9          None            na   6515.685365  \n",
       "10         None            na   9310.731728  \n",
       "11         None            na   7173.597880  \n",
       "12         None            na   6428.590974  \n",
       "13         None            na   8616.621364  \n",
       "14         None            na   8883.653220  \n",
       "15         None            na   7936.209196  \n",
       "16         None            na   7387.836774  \n",
       "17         None            na   7360.578624  \n",
       "18         None            na   8483.209820  \n",
       "19         None            na  10703.306650  \n",
       "20         None       141.038   8016.378000  \n",
       "21         None       253.781   8944.055869  \n",
       "22         None       312.606   5859.123080  \n",
       "23         None       185.341   6613.421515  \n",
       "24         None       202.845   6953.547664  \n",
       "25     0.557331       193.014   7198.325926  \n",
       "26           na          None   7281.743888  \n",
       "27           na          None   7364.716162  \n",
       "28           na          None   6152.295667  \n",
       "29           na          None   6517.744600  \n",
       "30           na          None   6935.740362  \n",
       "31           na          None   6832.741971  \n",
       "32           na          None   7442.436544  \n",
       "\n",
       "[33 rows x 231 columns]"
      ],
      "text/html": "<div>\n<style scoped>\n    .dataframe tbody tr th:only-of-type {\n        vertical-align: middle;\n    }\n\n    .dataframe tbody tr th {\n        vertical-align: top;\n    }\n\n    .dataframe thead th {\n        text-align: right;\n    }\n</style>\n<table border=\"1\" class=\"dataframe\">\n  <thead>\n    <tr style=\"text-align: right;\">\n      <th></th>\n      <th>Year</th>\n      <th>China</th>\n      <th>Japan</th>\n      <th>Republic of Korea</th>\n      <th>United States</th>\n      <th>India</th>\n      <th>United Kingdom</th>\n      <th>Singapore</th>\n      <th>New Zealand</th>\n      <th>Taiwan</th>\n      <th>...</th>\n      <th>Antarctica</th>\n      <th>Christmas Island</th>\n      <th>Cocos Keeling Islands</th>\n      <th>French Antilles</th>\n      <th>French Southern Territories</th>\n      <th>Midway Island</th>\n      <th>US Pacific Islands</th>\n      <th>South Sudan</th>\n      <th>Former Sudan</th>\n      <th>Other</th>\n    </tr>\n  </thead>\n  <tbody>\n    <tr>\n      <th>0</th>\n      <td>1987</td>\n      <td>1616.046000</td>\n      <td>10817.003000</td>\n      <td>1618.100000</td>\n      <td>5696.483000</td>\n      <td>na</td>\n      <td>2758.251000</td>\n      <td>1148.942000</td>\n      <td>3135.450000</td>\n      <td>1349.744000</td>\n      <td>...</td>\n      <td>na</td>\n      <td>na</td>\n      <td>na</td>\n      <td>na</td>\n      <td>na</td>\n      <td>na</td>\n      <td>na</td>\n      <td>None</td>\n      <td>na</td>\n      <td>3196.913032</td>\n    </tr>\n    <tr>\n      <th>1</th>\n      <td>1988</td>\n      <td>1234.102000</td>\n      <td>13123.017000</td>\n      <td>2118.142000</td>\n      <td>6014.207000</td>\n      <td>na</td>\n      <td>2892.279000</td>\n      <td>1636.117000</td>\n      <td>3370.522000</td>\n      <td>1568.326000</td>\n      <td>...</td>\n      <td>na</td>\n      <td>na</td>\n      <td>na</td>\n      <td>na</td>\n      <td>na</td>\n      <td>na</td>\n      <td>na</td>\n      <td>None</td>\n      <td>na</td>\n      <td>3037.879032</td>\n    </tr>\n    <tr>\n      <th>2</th>\n      <td>1989</td>\n      <td>1436.285000</td>\n      <td>14104.966000</td>\n      <td>2600.693000</td>\n      <td>6801.070000</td>\n      <td>na</td>\n      <td>3154.077000</td>\n      <td>2037.958000</td>\n      <td>3684.849000</td>\n      <td>1871.352000</td>\n      <td>...</td>\n      <td>na</td>\n      <td>na</td>\n      <td>na</td>\n      <td>na</td>\n      <td>na</td>\n      <td>na</td>\n      <td>na</td>\n      <td>None</td>\n      <td>na</td>\n      <td>3158.750032</td>\n    </tr>\n    <tr>\n      <th>3</th>\n      <td>1990</td>\n      <td>1587.787625</td>\n      <td>15547.315779</td>\n      <td>3132.085403</td>\n      <td>7653.133345</td>\n      <td>na</td>\n      <td>3486.098880</td>\n      <td>2803.856575</td>\n      <td>3789.891314</td>\n      <td>1957.490497</td>\n      <td>...</td>\n      <td>na</td>\n      <td>na</td>\n      <td>na</td>\n      <td>na</td>\n      <td>na</td>\n      <td>na</td>\n      <td>na</td>\n      <td>None</td>\n      <td>na</td>\n      <td>3591.089421</td>\n    </tr>\n    <tr>\n      <th>4</th>\n      <td>1991</td>\n      <td>1756.601118</td>\n      <td>17250.944657</td>\n      <td>3568.869189</td>\n      <td>7325.162915</td>\n      <td>na</td>\n      <td>3488.682459</td>\n      <td>3447.124886</td>\n      <td>3875.496918</td>\n      <td>2543.250749</td>\n      <td>...</td>\n      <td>na</td>\n      <td>na</td>\n      <td>na</td>\n      <td>na</td>\n      <td>na</td>\n      <td>na</td>\n      <td>na</td>\n      <td>None</td>\n      <td>na</td>\n      <td>4732.095002</td>\n    </tr>\n    <tr>\n      <th>5</th>\n      <td>1992</td>\n      <td>2094.104532</td>\n      <td>17562.515373</td>\n      <td>3932.616015</td>\n      <td>7062.849074</td>\n      <td>na</td>\n      <td>4137.420369</td>\n      <td>4425.992134</td>\n      <td>4199.524997</td>\n      <td>2889.771907</td>\n      <td>...</td>\n      <td>na</td>\n      <td>na</td>\n      <td>na</td>\n      <td>na</td>\n      <td>na</td>\n      <td>na</td>\n      <td>na</td>\n      <td>None</td>\n      <td>na</td>\n      <td>4678.478454</td>\n    </tr>\n    <tr>\n      <th>6</th>\n      <td>1993</td>\n      <td>2578.097318</td>\n      <td>18697.905979</td>\n      <td>4803.199295</td>\n      <td>7379.955574</td>\n      <td>na</td>\n      <td>4657.241501</td>\n      <td>4065.623799</td>\n      <td>4882.189014</td>\n      <td>3288.489008</td>\n      <td>...</td>\n      <td>na</td>\n      <td>na</td>\n      <td>na</td>\n      <td>na</td>\n      <td>na</td>\n      <td>na</td>\n      <td>na</td>\n      <td>None</td>\n      <td>na</td>\n      <td>5072.868531</td>\n    </tr>\n    <tr>\n      <th>7</th>\n      <td>1994</td>\n      <td>3165.148391</td>\n      <td>19269.489429</td>\n      <td>5368.566766</td>\n      <td>7020.033818</td>\n      <td>na</td>\n      <td>4241.047356</td>\n      <td>4465.994421</td>\n      <td>5578.586817</td>\n      <td>3449.351682</td>\n      <td>...</td>\n      <td>na</td>\n      <td>na</td>\n      <td>na</td>\n      <td>na</td>\n      <td>na</td>\n      <td>na</td>\n      <td>na</td>\n      <td>None</td>\n      <td>na</td>\n      <td>4874.959022</td>\n    </tr>\n    <tr>\n      <th>8</th>\n      <td>1995</td>\n      <td>3514.726069</td>\n      <td>19983.685953</td>\n      <td>7041.783562</td>\n      <td>7366.887582</td>\n      <td>na</td>\n      <td>4419.315867</td>\n      <td>5099.327005</td>\n      <td>6642.195722</td>\n      <td>3993.851655</td>\n      <td>...</td>\n      <td>na</td>\n      <td>na</td>\n      <td>na</td>\n      <td>na</td>\n      <td>na</td>\n      <td>na</td>\n      <td>na</td>\n      <td>None</td>\n      <td>na</td>\n      <td>5858.846417</td>\n    </tr>\n    <tr>\n      <th>9</th>\n      <td>1996</td>\n      <td>4234.540636</td>\n      <td>19438.246635</td>\n      <td>8320.880262</td>\n      <td>8120.721290</td>\n      <td>na</td>\n      <td>5155.465575</td>\n      <td>4422.617227</td>\n      <td>7278.501114</td>\n      <td>3911.795543</td>\n      <td>...</td>\n      <td>na</td>\n      <td>na</td>\n      <td>na</td>\n      <td>na</td>\n      <td>na</td>\n      <td>na</td>\n      <td>na</td>\n      <td>None</td>\n      <td>na</td>\n      <td>6515.685365</td>\n    </tr>\n    <tr>\n      <th>10</th>\n      <td>1997</td>\n      <td>4384.587219</td>\n      <td>20593.526031</td>\n      <td>7801.548878</td>\n      <td>9979.630518</td>\n      <td>na</td>\n      <td>4933.482553</td>\n      <td>5190.313271</td>\n      <td>7951.617118</td>\n      <td>4533.774053</td>\n      <td>...</td>\n      <td>na</td>\n      <td>na</td>\n      <td>na</td>\n      <td>na</td>\n      <td>na</td>\n      <td>na</td>\n      <td>na</td>\n      <td>None</td>\n      <td>na</td>\n      <td>9310.731728</td>\n    </tr>\n    <tr>\n      <th>11</th>\n      <td>1998</td>\n      <td>4279.031546</td>\n      <td>20973.595947</td>\n      <td>6618.939101</td>\n      <td>12720.802233</td>\n      <td>na</td>\n      <td>7621.077743</td>\n      <td>4670.981381</td>\n      <td>7507.907226</td>\n      <td>4747.954620</td>\n      <td>...</td>\n      <td>na</td>\n      <td>na</td>\n      <td>na</td>\n      <td>na</td>\n      <td>na</td>\n      <td>na</td>\n      <td>na</td>\n      <td>None</td>\n      <td>na</td>\n      <td>7173.597880</td>\n    </tr>\n    <tr>\n      <th>12</th>\n      <td>1999</td>\n      <td>4716.082749</td>\n      <td>20030.495159</td>\n      <td>6896.020655</td>\n      <td>12988.713056</td>\n      <td>1939.52</td>\n      <td>7054.878025</td>\n      <td>5709.454477</td>\n      <td>8747.023464</td>\n      <td>4672.293571</td>\n      <td>...</td>\n      <td>na</td>\n      <td>na</td>\n      <td>na</td>\n      <td>na</td>\n      <td>na</td>\n      <td>na</td>\n      <td>na</td>\n      <td>None</td>\n      <td>na</td>\n      <td>6428.590974</td>\n    </tr>\n    <tr>\n      <th>13</th>\n      <td>2000</td>\n      <td>6859.785578</td>\n      <td>25018.117243</td>\n      <td>9868.633854</td>\n      <td>16677.388929</td>\n      <td>2304.36</td>\n      <td>7757.923727</td>\n      <td>8012.142325</td>\n      <td>9408.788893</td>\n      <td>6003.586367</td>\n      <td>...</td>\n      <td>na</td>\n      <td>na</td>\n      <td>na</td>\n      <td>na</td>\n      <td>na</td>\n      <td>na</td>\n      <td>na</td>\n      <td>None</td>\n      <td>na</td>\n      <td>8616.621364</td>\n    </tr>\n    <tr>\n      <th>14</th>\n      <td>2001</td>\n      <td>8821.661888</td>\n      <td>26879.790286</td>\n      <td>10674.725932</td>\n      <td>16444.723621</td>\n      <td>2996.19</td>\n      <td>9287.526638</td>\n      <td>7816.960827</td>\n      <td>9996.769754</td>\n      <td>5802.998873</td>\n      <td>...</td>\n      <td>na</td>\n      <td>na</td>\n      <td>na</td>\n      <td>na</td>\n      <td>na</td>\n      <td>na</td>\n      <td>na</td>\n      <td>None</td>\n      <td>na</td>\n      <td>8883.653220</td>\n    </tr>\n    <tr>\n      <th>15</th>\n      <td>2002</td>\n      <td>10050.151212</td>\n      <td>25399.377860</td>\n      <td>11065.819071</td>\n      <td>16298.301226</td>\n      <td>3003.77</td>\n      <td>9914.369393</td>\n      <td>7590.375094</td>\n      <td>10751.108711</td>\n      <td>5184.344205</td>\n      <td>...</td>\n      <td>na</td>\n      <td>na</td>\n      <td>na</td>\n      <td>na</td>\n      <td>na</td>\n      <td>na</td>\n      <td>na</td>\n      <td>None</td>\n      <td>na</td>\n      <td>7936.209196</td>\n    </tr>\n    <tr>\n      <th>16</th>\n      <td>2003</td>\n      <td>11181.831628</td>\n      <td>22593.216142</td>\n      <td>9276.923163</td>\n      <td>14148.114330</td>\n      <td>3933.27</td>\n      <td>12006.505456</td>\n      <td>5835.630857</td>\n      <td>11194.325086</td>\n      <td>4176.519918</td>\n      <td>...</td>\n      <td>na</td>\n      <td>na</td>\n      <td>na</td>\n      <td>na</td>\n      <td>na</td>\n      <td>na</td>\n      <td>na</td>\n      <td>None</td>\n      <td>na</td>\n      <td>7387.836774</td>\n    </tr>\n    <tr>\n      <th>17</th>\n      <td>2004</td>\n      <td>13730.484174</td>\n      <td>25310.728617</td>\n      <td>10416.704890</td>\n      <td>13972.773314</td>\n      <td>6262</td>\n      <td>9863.687935</td>\n      <td>5672.676584</td>\n      <td>12035.276898</td>\n      <td>4568.461922</td>\n      <td>...</td>\n      <td>na</td>\n      <td>na</td>\n      <td>na</td>\n      <td>na</td>\n      <td>na</td>\n      <td>na</td>\n      <td>na</td>\n      <td>None</td>\n      <td>na</td>\n      <td>7360.578624</td>\n    </tr>\n    <tr>\n      <th>18</th>\n      <td>2005</td>\n      <td>19067.537013</td>\n      <td>31582.534287</td>\n      <td>12478.642381</td>\n      <td>13929.335568</td>\n      <td>8167.6</td>\n      <td>10098.122931</td>\n      <td>6746.027797</td>\n      <td>12611.750053</td>\n      <td>5985.779623</td>\n      <td>...</td>\n      <td>na</td>\n      <td>na</td>\n      <td>na</td>\n      <td>na</td>\n      <td>na</td>\n      <td>na</td>\n      <td>na</td>\n      <td>None</td>\n      <td>na</td>\n      <td>8483.209820</td>\n    </tr>\n    <tr>\n      <th>19</th>\n      <td>2006</td>\n      <td>23761.892608</td>\n      <td>35469.612063</td>\n      <td>14230.655547</td>\n      <td>15791.974305</td>\n      <td>10349.1</td>\n      <td>13565.592894</td>\n      <td>7603.314802</td>\n      <td>12608.920829</td>\n      <td>6758.594836</td>\n      <td>...</td>\n      <td>na</td>\n      <td>na</td>\n      <td>na</td>\n      <td>na</td>\n      <td>na</td>\n      <td>na</td>\n      <td>na</td>\n      <td>None</td>\n      <td>na</td>\n      <td>10703.306650</td>\n    </tr>\n    <tr>\n      <th>20</th>\n      <td>2007</td>\n      <td>27920.919492</td>\n      <td>34580.968397</td>\n      <td>15601.141383</td>\n      <td>15956.366443</td>\n      <td>11424</td>\n      <td>12342.088868</td>\n      <td>7513.391955</td>\n      <td>13369.931915</td>\n      <td>6478.704879</td>\n      <td>...</td>\n      <td>na</td>\n      <td>na</td>\n      <td>na</td>\n      <td>na</td>\n      <td>na</td>\n      <td>na</td>\n      <td>na</td>\n      <td>None</td>\n      <td>141.038</td>\n      <td>8016.378000</td>\n    </tr>\n    <tr>\n      <th>21</th>\n      <td>2008</td>\n      <td>37372.719198</td>\n      <td>53145.840986</td>\n      <td>20527.621866</td>\n      <td>18370.994174</td>\n      <td>16740</td>\n      <td>14286.998781</td>\n      <td>10410.610964</td>\n      <td>13338.814985</td>\n      <td>8784.000239</td>\n      <td>...</td>\n      <td>na</td>\n      <td>na</td>\n      <td>na</td>\n      <td>na</td>\n      <td>na</td>\n      <td>na</td>\n      <td>na</td>\n      <td>None</td>\n      <td>253.781</td>\n      <td>8944.055869</td>\n    </tr>\n    <tr>\n      <th>22</th>\n      <td>2009</td>\n      <td>48269.783594</td>\n      <td>40308.707969</td>\n      <td>17749.508943</td>\n      <td>15401.965362</td>\n      <td>18307.8</td>\n      <td>13669.073934</td>\n      <td>8617.208185</td>\n      <td>11449.907010</td>\n      <td>7112.382079</td>\n      <td>...</td>\n      <td>na</td>\n      <td>na</td>\n      <td>na</td>\n      <td>na</td>\n      <td>na</td>\n      <td>na</td>\n      <td>na</td>\n      <td>None</td>\n      <td>312.606</td>\n      <td>5859.123080</td>\n    </tr>\n    <tr>\n      <th>23</th>\n      <td>2010</td>\n      <td>64892.274633</td>\n      <td>45682.803733</td>\n      <td>22662.105992</td>\n      <td>14801.694522</td>\n      <td>19973.9</td>\n      <td>12774.385034</td>\n      <td>7762.061102</td>\n      <td>11539.874010</td>\n      <td>8968.285861</td>\n      <td>...</td>\n      <td>na</td>\n      <td>na</td>\n      <td>na</td>\n      <td>na</td>\n      <td>na</td>\n      <td>na</td>\n      <td>na</td>\n      <td>None</td>\n      <td>185.341</td>\n      <td>6613.421515</td>\n    </tr>\n    <tr>\n      <th>24</th>\n      <td>2011</td>\n      <td>78129.446031</td>\n      <td>52378.101244</td>\n      <td>25255.518161</td>\n      <td>15455.692224</td>\n      <td>18158.2</td>\n      <td>11972.248480</td>\n      <td>9835.007324</td>\n      <td>11333.734226</td>\n      <td>9757.452147</td>\n      <td>...</td>\n      <td>na</td>\n      <td>na</td>\n      <td>na</td>\n      <td>na</td>\n      <td>na</td>\n      <td>na</td>\n      <td>na</td>\n      <td>None</td>\n      <td>202.845</td>\n      <td>6953.547664</td>\n    </tr>\n    <tr>\n      <th>25</th>\n      <td>2012</td>\n      <td>74821.262491</td>\n      <td>49852.945422</td>\n      <td>21812.612682</td>\n      <td>15144.193555</td>\n      <td>14465.8</td>\n      <td>11193.670228</td>\n      <td>10568.272449</td>\n      <td>11214.704666</td>\n      <td>8740.188070</td>\n      <td>...</td>\n      <td>na</td>\n      <td>na</td>\n      <td>na</td>\n      <td>na</td>\n      <td>na</td>\n      <td>na</td>\n      <td>na</td>\n      <td>0.557331</td>\n      <td>193.014</td>\n      <td>7198.325926</td>\n    </tr>\n    <tr>\n      <th>26</th>\n      <td>2013</td>\n      <td>94074.015395</td>\n      <td>49436.248874</td>\n      <td>21456.124896</td>\n      <td>16034.466217</td>\n      <td>11594</td>\n      <td>8573.845688</td>\n      <td>9425.057794</td>\n      <td>11329.080642</td>\n      <td>8193.771313</td>\n      <td>...</td>\n      <td>na</td>\n      <td>na</td>\n      <td>na</td>\n      <td>na</td>\n      <td>na</td>\n      <td>na</td>\n      <td>na</td>\n      <td>na</td>\n      <td>None</td>\n      <td>7281.743888</td>\n    </tr>\n    <tr>\n      <th>27</th>\n      <td>2014</td>\n      <td>91740.716142</td>\n      <td>50187.841813</td>\n      <td>22170.968706</td>\n      <td>18596.759973</td>\n      <td>11534.2</td>\n      <td>8887.625015</td>\n      <td>12289.829693</td>\n      <td>12449.651208</td>\n      <td>8091.259430</td>\n      <td>...</td>\n      <td>na</td>\n      <td>na</td>\n      <td>na</td>\n      <td>na</td>\n      <td>na</td>\n      <td>na</td>\n      <td>na</td>\n      <td>na</td>\n      <td>None</td>\n      <td>7364.716162</td>\n    </tr>\n    <tr>\n      <th>28</th>\n      <td>2015</td>\n      <td>86742.466505</td>\n      <td>42154.947115</td>\n      <td>20226.129185</td>\n      <td>22083.373623</td>\n      <td>13906.1</td>\n      <td>9341.185912</td>\n      <td>11267.376302</td>\n      <td>12967.847847</td>\n      <td>7627.943146</td>\n      <td>...</td>\n      <td>na</td>\n      <td>na</td>\n      <td>na</td>\n      <td>na</td>\n      <td>na</td>\n      <td>na</td>\n      <td>na</td>\n      <td>na</td>\n      <td>None</td>\n      <td>6152.295667</td>\n    </tr>\n    <tr>\n      <th>29</th>\n      <td>2016</td>\n      <td>95681.896769</td>\n      <td>38451.460279</td>\n      <td>20430.602614</td>\n      <td>20617.717527</td>\n      <td>15199.8</td>\n      <td>15462.041997</td>\n      <td>10710.349647</td>\n      <td>13253.127759</td>\n      <td>8935.667760</td>\n      <td>...</td>\n      <td>na</td>\n      <td>na</td>\n      <td>na</td>\n      <td>na</td>\n      <td>na</td>\n      <td>na</td>\n      <td>na</td>\n      <td>na</td>\n      <td>None</td>\n      <td>6517.744600</td>\n    </tr>\n    <tr>\n      <th>30</th>\n      <td>2017</td>\n      <td>116012.837126</td>\n      <td>47220.382168</td>\n      <td>23535.751365</td>\n      <td>20983.190293</td>\n      <td>20268.6</td>\n      <td>11552.742936</td>\n      <td>11959.888249</td>\n      <td>14037.802041</td>\n      <td>10404.831751</td>\n      <td>...</td>\n      <td>na</td>\n      <td>na</td>\n      <td>na</td>\n      <td>na</td>\n      <td>na</td>\n      <td>na</td>\n      <td>na</td>\n      <td>na</td>\n      <td>None</td>\n      <td>6935.740362</td>\n    </tr>\n    <tr>\n      <th>31</th>\n      <td>2018</td>\n      <td>136585.078829</td>\n      <td>58788.526913</td>\n      <td>26585.008156</td>\n      <td>23156.864232</td>\n      <td>22408.6</td>\n      <td>10501.812162</td>\n      <td>14709.485822</td>\n      <td>15048.887103</td>\n      <td>12253.088677</td>\n      <td>...</td>\n      <td>na</td>\n      <td>na</td>\n      <td>na</td>\n      <td>na</td>\n      <td>na</td>\n      <td>na</td>\n      <td>na</td>\n      <td>na</td>\n      <td>None</td>\n      <td>6832.741971</td>\n    </tr>\n    <tr>\n      <th>32</th>\n      <td>2019</td>\n      <td>168575.269720</td>\n      <td>60417.153432</td>\n      <td>28222.264120</td>\n      <td>25440.338679</td>\n      <td>21787</td>\n      <td>21207.749627</td>\n      <td>16886.822235</td>\n      <td>16565.765075</td>\n      <td>14304.360426</td>\n      <td>...</td>\n      <td>na</td>\n      <td>na</td>\n      <td>na</td>\n      <td>na</td>\n      <td>na</td>\n      <td>na</td>\n      <td>na</td>\n      <td>na</td>\n      <td>None</td>\n      <td>7442.436544</td>\n    </tr>\n  </tbody>\n</table>\n<p>33 rows × 231 columns</p>\n</div>"
     },
     "metadata": {},
     "execution_count": 33
    }
   ],
   "source": [
    "xx = pd.read_sql('SELECT * FROM YearTradeExport', db_conn)\n",
    "xx"
   ]
  },
  {
   "cell_type": "code",
   "execution_count": 34,
   "metadata": {},
   "outputs": [
    {
     "output_type": "execute_result",
     "data": {
      "text/plain": [
       "    Year         China         Japan  Republic of Korea  United States  \\\n",
       "0   1987    834.271000   8605.886000        1069.689000   10820.323000   \n",
       "1   1988    996.650000   9601.499000        1180.952000   12121.967000   \n",
       "2   1989   1355.004000  11768.902000        1437.671000   15206.514000   \n",
       "3   1990   1456.049910  10641.232954        1288.167527   15983.179797   \n",
       "4   1991   1864.599830  10018.172416        1362.373590   15816.686177   \n",
       "5   1992   2549.469540  11377.087872        1656.085122   16390.622111   \n",
       "6   1993   3225.457082  13263.953005        2047.687663   17301.426166   \n",
       "7   1994   3745.017037  13649.569666        1996.294841   19018.727459   \n",
       "8   1995   4320.471645  13585.791005        2540.655369   21252.190384   \n",
       "9   1996   4577.992162  11696.983045        2612.729840   22938.165814   \n",
       "10  1997   5277.335309  12807.193272        3241.231538   23762.429827   \n",
       "11  1998   6443.545589  14821.941989        4477.264515   27457.781416   \n",
       "12  1999   7216.065520  15593.432125        4111.474082   27410.791014   \n",
       "13  2000   9805.206049  17034.496533        5077.688109   30261.357550   \n",
       "14  2001  11067.902187  17150.614357        4987.649002   27747.071861   \n",
       "15  2002  13805.201150  17240.120878        5087.877341   29487.755971   \n",
       "16  2003  15194.029098  17810.401054        5177.929081   26922.809637   \n",
       "17  2004  19159.377452  18405.641626        5265.926554   26949.600867   \n",
       "18  2005  22837.527994  18917.192332        5520.359516   28181.761523   \n",
       "19  2006  26795.805063  19112.271536        7332.174495   32145.926023   \n",
       "20  2007  30427.565776  19828.663456        6356.847970   33278.384692   \n",
       "21  2008  36886.587791  22491.021456        6885.939063   37910.558850   \n",
       "22  2009  37343.942680  18777.874522        7009.092851   35325.884439   \n",
       "23  2010  40923.576157  20573.478639        7633.907903   36378.273213   \n",
       "24  2011  43919.338751  20078.836613        7600.143991   40711.597930   \n",
       "25  2012  46442.355277  21420.452755       10517.782803   43310.118218   \n",
       "26  2013  49570.573421  21608.578349       11414.666196   41003.492667   \n",
       "27  2014  54460.002069  20095.807039       13265.988736   43391.764039   \n",
       "28  2015  64377.151460  23027.151265       16168.882789   49372.259027   \n",
       "29  2016  62323.169154  22823.685126       11869.983615   44953.560396   \n",
       "30  2017  67448.499164  24812.992964       31746.641298   47331.938119   \n",
       "31  2018  78303.087581  26987.554652       14455.046830   50864.937879   \n",
       "32  2019  82841.712158  26357.178378       13096.198437   55532.514006   \n",
       "\n",
       "      India  United Kingdom     Singapore   New Zealand       Taiwan  ...  \\\n",
       "0        na     5091.309000   1335.480000   2246.191000  1723.217000  ...   \n",
       "1        na     5684.175000   1642.150000   2605.651000  1854.224000  ...   \n",
       "2        na     6419.159000   2069.223000   2953.162000  2173.338000  ...   \n",
       "3        na     6377.939091   1959.903549   3020.396971  1846.172705  ...   \n",
       "4        na     5871.530141   2144.407353   3093.319113  1954.576093  ...   \n",
       "5        na     6340.200229   2195.154306   3427.896227  2216.020492  ...   \n",
       "6        na     6774.422731   2515.857932   3896.932775  2423.997480  ...   \n",
       "7        na     7477.928245   3116.119920   4280.207221  2593.214110  ...   \n",
       "8        na     8376.361168   3724.458088   4618.473719  2729.336066  ...   \n",
       "9        na     9030.069371   3917.301574   4770.908798  2704.606031  ...   \n",
       "10       na     8892.589901   3576.117876   4903.085665  2812.886809  ...   \n",
       "11       na     9333.228374   4114.645063   5317.461103  3096.598156  ...   \n",
       "12  823.844     8843.940168   6045.710866   5622.574147  3127.632097  ...   \n",
       "13  1008.42    11408.908532   5764.532636   6135.449691  3665.179400  ...   \n",
       "14  1078.23    10336.213363   6174.653735   6568.070869  3176.956618  ...   \n",
       "15  1190.58    10135.003548   6723.314107   6721.490205  3522.180473  ...   \n",
       "16  1222.72     9883.456387   6667.412573   7058.161253  3549.593050  ...   \n",
       "17  1422.37    10526.579848   8800.147431   7350.003575  3832.934867  ...   \n",
       "18  1595.49    11134.547226  11634.615969   7607.784061  3888.231696  ...   \n",
       "19  1797.01    10861.926395  14851.599227   8001.210740  4418.554714  ...   \n",
       "20  2138.49    13425.413442  14903.017534   9117.695112  4582.427589  ...   \n",
       "21  2641.08    15973.173251  21139.661070  10745.439735  4657.637004  ...   \n",
       "22   2911.1    12160.827981  14723.403054   9944.483508  3518.880534  ...   \n",
       "23  2841.53    12160.168476  14106.608138  10315.607595  3866.388387  ...   \n",
       "24  3170.31    13186.171127  17893.390096  10970.508730  4008.840872  ...   \n",
       "25  3792.78    13162.219917  18712.428536  10576.312982  3963.496993  ...   \n",
       "26   4089.8    13229.633467  17902.792084  11107.591980  4279.551557  ...   \n",
       "27  4699.14    13491.491234  17583.730219  11906.581262  4773.205068  ...   \n",
       "28  6569.86    15221.703269  14740.851750  12012.666782  5056.546869  ...   \n",
       "29  6317.15    14868.644756  12364.538168  12378.166312  4686.060985  ...   \n",
       "30  7351.95    15486.165351  13375.901796  13570.623637  4723.938218  ...   \n",
       "31  8012.24    16518.414897  17257.645117  14289.006558  5404.603989  ...   \n",
       "32  7445.04    17246.245338  16294.410074  14541.929954  5869.680082  ...   \n",
       "\n",
       "    Antarctica  Christmas Island  Cocos Keeling Islands French Antilles  \\\n",
       "0           na                na                     na              na   \n",
       "1           na                na                     na              na   \n",
       "2           na                na                     na              na   \n",
       "3           na                na                     na              na   \n",
       "4           na                na                     na              na   \n",
       "5           na                na                     na              na   \n",
       "6           na                na                     na              na   \n",
       "7           na                na                     na              na   \n",
       "8           na                na                     na              na   \n",
       "9           na                na                     na              na   \n",
       "10          na                na                     na              na   \n",
       "11          na                na                     na              na   \n",
       "12          na                na                     na              na   \n",
       "13          na                na                     na              na   \n",
       "14          na                na                     na              na   \n",
       "15          na                na                     na              na   \n",
       "16          na                na                     na              na   \n",
       "17          na                na                     na              na   \n",
       "18          na                na                     na              na   \n",
       "19          na                na                     na              na   \n",
       "20          na                na                     na              na   \n",
       "21          na                na                     na              na   \n",
       "22          na                na                     na              na   \n",
       "23          na                na                     na              na   \n",
       "24          na                na                     na              na   \n",
       "25          na                na                     na              na   \n",
       "26          na                na                     na              na   \n",
       "27          na                na                     na              na   \n",
       "28          na                na                     na              na   \n",
       "29          na                na                     na              na   \n",
       "30          na                na                     na              na   \n",
       "31          na                na                     na              na   \n",
       "32          na                na                     na              na   \n",
       "\n",
       "    French Southern Territories  Midway Island US Pacific Islands  \\\n",
       "0                            na             na                 na   \n",
       "1                            na             na                 na   \n",
       "2                            na             na                 na   \n",
       "3                            na             na                 na   \n",
       "4                            na             na                 na   \n",
       "5                            na             na                 na   \n",
       "6                            na             na                 na   \n",
       "7                            na             na                 na   \n",
       "8                            na             na                 na   \n",
       "9                            na             na                 na   \n",
       "10                           na             na                 na   \n",
       "11                           na             na                 na   \n",
       "12                           na             na                 na   \n",
       "13                           na             na                 na   \n",
       "14                           na             na                 na   \n",
       "15                           na             na                 na   \n",
       "16                           na             na                 na   \n",
       "17                           na             na                 na   \n",
       "18                           na             na                 na   \n",
       "19                           na             na                 na   \n",
       "20                           na             na                 na   \n",
       "21                           na             na                 na   \n",
       "22                           na             na                 na   \n",
       "23                           na             na                 na   \n",
       "24                           na             na                 na   \n",
       "25                           na             na                 na   \n",
       "26                           na             na                 na   \n",
       "27                           na             na                 na   \n",
       "28                           na             na                 na   \n",
       "29                           na             na                 na   \n",
       "30                           na             na                 na   \n",
       "31                           na             na                 na   \n",
       "32                           na             na                 na   \n",
       "\n",
       "    South Sudan  Former Sudan         Other  \n",
       "0          None            na   1671.317000  \n",
       "1          None            na   3082.232762  \n",
       "2          None            na   2538.937000  \n",
       "3          None            na   3598.950825  \n",
       "4          None            na   3493.316083  \n",
       "5          None            na   4022.951815  \n",
       "6          None            na   4427.011941  \n",
       "7          None            na   5431.004268  \n",
       "8          None            na   5069.695425  \n",
       "9          None            na   4351.999410  \n",
       "10         None            na   7330.526117  \n",
       "11         None            na   7695.656044  \n",
       "12         None            na   7126.202147  \n",
       "13         None            na   8609.206965  \n",
       "14         None            na   8587.587588  \n",
       "15         None            na   8752.835989  \n",
       "16         None            na   9279.391636  \n",
       "17         None            na  10873.739301  \n",
       "18         None            na  12158.558508  \n",
       "19         None            na  15348.988479  \n",
       "20         None       21.0508  13995.011387  \n",
       "21         None       25.0261  14473.005862  \n",
       "22         None       24.1061  13147.562096  \n",
       "23         None       25.0455  17739.952165  \n",
       "24         None       30.0329  22121.156328  \n",
       "25     0.001688       29.1227  24722.876875  \n",
       "26           na          None  24032.306659  \n",
       "27           na          None  18877.834361  \n",
       "28           na          None  15335.122659  \n",
       "29           na          None  17908.037440  \n",
       "30           na          None   5547.133617  \n",
       "31           na          None  18729.381410  \n",
       "32           na          None  19868.961737  \n",
       "\n",
       "[33 rows x 231 columns]"
      ],
      "text/html": "<div>\n<style scoped>\n    .dataframe tbody tr th:only-of-type {\n        vertical-align: middle;\n    }\n\n    .dataframe tbody tr th {\n        vertical-align: top;\n    }\n\n    .dataframe thead th {\n        text-align: right;\n    }\n</style>\n<table border=\"1\" class=\"dataframe\">\n  <thead>\n    <tr style=\"text-align: right;\">\n      <th></th>\n      <th>Year</th>\n      <th>China</th>\n      <th>Japan</th>\n      <th>Republic of Korea</th>\n      <th>United States</th>\n      <th>India</th>\n      <th>United Kingdom</th>\n      <th>Singapore</th>\n      <th>New Zealand</th>\n      <th>Taiwan</th>\n      <th>...</th>\n      <th>Antarctica</th>\n      <th>Christmas Island</th>\n      <th>Cocos Keeling Islands</th>\n      <th>French Antilles</th>\n      <th>French Southern Territories</th>\n      <th>Midway Island</th>\n      <th>US Pacific Islands</th>\n      <th>South Sudan</th>\n      <th>Former Sudan</th>\n      <th>Other</th>\n    </tr>\n  </thead>\n  <tbody>\n    <tr>\n      <th>0</th>\n      <td>1987</td>\n      <td>834.271000</td>\n      <td>8605.886000</td>\n      <td>1069.689000</td>\n      <td>10820.323000</td>\n      <td>na</td>\n      <td>5091.309000</td>\n      <td>1335.480000</td>\n      <td>2246.191000</td>\n      <td>1723.217000</td>\n      <td>...</td>\n      <td>na</td>\n      <td>na</td>\n      <td>na</td>\n      <td>na</td>\n      <td>na</td>\n      <td>na</td>\n      <td>na</td>\n      <td>None</td>\n      <td>na</td>\n      <td>1671.317000</td>\n    </tr>\n    <tr>\n      <th>1</th>\n      <td>1988</td>\n      <td>996.650000</td>\n      <td>9601.499000</td>\n      <td>1180.952000</td>\n      <td>12121.967000</td>\n      <td>na</td>\n      <td>5684.175000</td>\n      <td>1642.150000</td>\n      <td>2605.651000</td>\n      <td>1854.224000</td>\n      <td>...</td>\n      <td>na</td>\n      <td>na</td>\n      <td>na</td>\n      <td>na</td>\n      <td>na</td>\n      <td>na</td>\n      <td>na</td>\n      <td>None</td>\n      <td>na</td>\n      <td>3082.232762</td>\n    </tr>\n    <tr>\n      <th>2</th>\n      <td>1989</td>\n      <td>1355.004000</td>\n      <td>11768.902000</td>\n      <td>1437.671000</td>\n      <td>15206.514000</td>\n      <td>na</td>\n      <td>6419.159000</td>\n      <td>2069.223000</td>\n      <td>2953.162000</td>\n      <td>2173.338000</td>\n      <td>...</td>\n      <td>na</td>\n      <td>na</td>\n      <td>na</td>\n      <td>na</td>\n      <td>na</td>\n      <td>na</td>\n      <td>na</td>\n      <td>None</td>\n      <td>na</td>\n      <td>2538.937000</td>\n    </tr>\n    <tr>\n      <th>3</th>\n      <td>1990</td>\n      <td>1456.049910</td>\n      <td>10641.232954</td>\n      <td>1288.167527</td>\n      <td>15983.179797</td>\n      <td>na</td>\n      <td>6377.939091</td>\n      <td>1959.903549</td>\n      <td>3020.396971</td>\n      <td>1846.172705</td>\n      <td>...</td>\n      <td>na</td>\n      <td>na</td>\n      <td>na</td>\n      <td>na</td>\n      <td>na</td>\n      <td>na</td>\n      <td>na</td>\n      <td>None</td>\n      <td>na</td>\n      <td>3598.950825</td>\n    </tr>\n    <tr>\n      <th>4</th>\n      <td>1991</td>\n      <td>1864.599830</td>\n      <td>10018.172416</td>\n      <td>1362.373590</td>\n      <td>15816.686177</td>\n      <td>na</td>\n      <td>5871.530141</td>\n      <td>2144.407353</td>\n      <td>3093.319113</td>\n      <td>1954.576093</td>\n      <td>...</td>\n      <td>na</td>\n      <td>na</td>\n      <td>na</td>\n      <td>na</td>\n      <td>na</td>\n      <td>na</td>\n      <td>na</td>\n      <td>None</td>\n      <td>na</td>\n      <td>3493.316083</td>\n    </tr>\n    <tr>\n      <th>5</th>\n      <td>1992</td>\n      <td>2549.469540</td>\n      <td>11377.087872</td>\n      <td>1656.085122</td>\n      <td>16390.622111</td>\n      <td>na</td>\n      <td>6340.200229</td>\n      <td>2195.154306</td>\n      <td>3427.896227</td>\n      <td>2216.020492</td>\n      <td>...</td>\n      <td>na</td>\n      <td>na</td>\n      <td>na</td>\n      <td>na</td>\n      <td>na</td>\n      <td>na</td>\n      <td>na</td>\n      <td>None</td>\n      <td>na</td>\n      <td>4022.951815</td>\n    </tr>\n    <tr>\n      <th>6</th>\n      <td>1993</td>\n      <td>3225.457082</td>\n      <td>13263.953005</td>\n      <td>2047.687663</td>\n      <td>17301.426166</td>\n      <td>na</td>\n      <td>6774.422731</td>\n      <td>2515.857932</td>\n      <td>3896.932775</td>\n      <td>2423.997480</td>\n      <td>...</td>\n      <td>na</td>\n      <td>na</td>\n      <td>na</td>\n      <td>na</td>\n      <td>na</td>\n      <td>na</td>\n      <td>na</td>\n      <td>None</td>\n      <td>na</td>\n      <td>4427.011941</td>\n    </tr>\n    <tr>\n      <th>7</th>\n      <td>1994</td>\n      <td>3745.017037</td>\n      <td>13649.569666</td>\n      <td>1996.294841</td>\n      <td>19018.727459</td>\n      <td>na</td>\n      <td>7477.928245</td>\n      <td>3116.119920</td>\n      <td>4280.207221</td>\n      <td>2593.214110</td>\n      <td>...</td>\n      <td>na</td>\n      <td>na</td>\n      <td>na</td>\n      <td>na</td>\n      <td>na</td>\n      <td>na</td>\n      <td>na</td>\n      <td>None</td>\n      <td>na</td>\n      <td>5431.004268</td>\n    </tr>\n    <tr>\n      <th>8</th>\n      <td>1995</td>\n      <td>4320.471645</td>\n      <td>13585.791005</td>\n      <td>2540.655369</td>\n      <td>21252.190384</td>\n      <td>na</td>\n      <td>8376.361168</td>\n      <td>3724.458088</td>\n      <td>4618.473719</td>\n      <td>2729.336066</td>\n      <td>...</td>\n      <td>na</td>\n      <td>na</td>\n      <td>na</td>\n      <td>na</td>\n      <td>na</td>\n      <td>na</td>\n      <td>na</td>\n      <td>None</td>\n      <td>na</td>\n      <td>5069.695425</td>\n    </tr>\n    <tr>\n      <th>9</th>\n      <td>1996</td>\n      <td>4577.992162</td>\n      <td>11696.983045</td>\n      <td>2612.729840</td>\n      <td>22938.165814</td>\n      <td>na</td>\n      <td>9030.069371</td>\n      <td>3917.301574</td>\n      <td>4770.908798</td>\n      <td>2704.606031</td>\n      <td>...</td>\n      <td>na</td>\n      <td>na</td>\n      <td>na</td>\n      <td>na</td>\n      <td>na</td>\n      <td>na</td>\n      <td>na</td>\n      <td>None</td>\n      <td>na</td>\n      <td>4351.999410</td>\n    </tr>\n    <tr>\n      <th>10</th>\n      <td>1997</td>\n      <td>5277.335309</td>\n      <td>12807.193272</td>\n      <td>3241.231538</td>\n      <td>23762.429827</td>\n      <td>na</td>\n      <td>8892.589901</td>\n      <td>3576.117876</td>\n      <td>4903.085665</td>\n      <td>2812.886809</td>\n      <td>...</td>\n      <td>na</td>\n      <td>na</td>\n      <td>na</td>\n      <td>na</td>\n      <td>na</td>\n      <td>na</td>\n      <td>na</td>\n      <td>None</td>\n      <td>na</td>\n      <td>7330.526117</td>\n    </tr>\n    <tr>\n      <th>11</th>\n      <td>1998</td>\n      <td>6443.545589</td>\n      <td>14821.941989</td>\n      <td>4477.264515</td>\n      <td>27457.781416</td>\n      <td>na</td>\n      <td>9333.228374</td>\n      <td>4114.645063</td>\n      <td>5317.461103</td>\n      <td>3096.598156</td>\n      <td>...</td>\n      <td>na</td>\n      <td>na</td>\n      <td>na</td>\n      <td>na</td>\n      <td>na</td>\n      <td>na</td>\n      <td>na</td>\n      <td>None</td>\n      <td>na</td>\n      <td>7695.656044</td>\n    </tr>\n    <tr>\n      <th>12</th>\n      <td>1999</td>\n      <td>7216.065520</td>\n      <td>15593.432125</td>\n      <td>4111.474082</td>\n      <td>27410.791014</td>\n      <td>823.844</td>\n      <td>8843.940168</td>\n      <td>6045.710866</td>\n      <td>5622.574147</td>\n      <td>3127.632097</td>\n      <td>...</td>\n      <td>na</td>\n      <td>na</td>\n      <td>na</td>\n      <td>na</td>\n      <td>na</td>\n      <td>na</td>\n      <td>na</td>\n      <td>None</td>\n      <td>na</td>\n      <td>7126.202147</td>\n    </tr>\n    <tr>\n      <th>13</th>\n      <td>2000</td>\n      <td>9805.206049</td>\n      <td>17034.496533</td>\n      <td>5077.688109</td>\n      <td>30261.357550</td>\n      <td>1008.42</td>\n      <td>11408.908532</td>\n      <td>5764.532636</td>\n      <td>6135.449691</td>\n      <td>3665.179400</td>\n      <td>...</td>\n      <td>na</td>\n      <td>na</td>\n      <td>na</td>\n      <td>na</td>\n      <td>na</td>\n      <td>na</td>\n      <td>na</td>\n      <td>None</td>\n      <td>na</td>\n      <td>8609.206965</td>\n    </tr>\n    <tr>\n      <th>14</th>\n      <td>2001</td>\n      <td>11067.902187</td>\n      <td>17150.614357</td>\n      <td>4987.649002</td>\n      <td>27747.071861</td>\n      <td>1078.23</td>\n      <td>10336.213363</td>\n      <td>6174.653735</td>\n      <td>6568.070869</td>\n      <td>3176.956618</td>\n      <td>...</td>\n      <td>na</td>\n      <td>na</td>\n      <td>na</td>\n      <td>na</td>\n      <td>na</td>\n      <td>na</td>\n      <td>na</td>\n      <td>None</td>\n      <td>na</td>\n      <td>8587.587588</td>\n    </tr>\n    <tr>\n      <th>15</th>\n      <td>2002</td>\n      <td>13805.201150</td>\n      <td>17240.120878</td>\n      <td>5087.877341</td>\n      <td>29487.755971</td>\n      <td>1190.58</td>\n      <td>10135.003548</td>\n      <td>6723.314107</td>\n      <td>6721.490205</td>\n      <td>3522.180473</td>\n      <td>...</td>\n      <td>na</td>\n      <td>na</td>\n      <td>na</td>\n      <td>na</td>\n      <td>na</td>\n      <td>na</td>\n      <td>na</td>\n      <td>None</td>\n      <td>na</td>\n      <td>8752.835989</td>\n    </tr>\n    <tr>\n      <th>16</th>\n      <td>2003</td>\n      <td>15194.029098</td>\n      <td>17810.401054</td>\n      <td>5177.929081</td>\n      <td>26922.809637</td>\n      <td>1222.72</td>\n      <td>9883.456387</td>\n      <td>6667.412573</td>\n      <td>7058.161253</td>\n      <td>3549.593050</td>\n      <td>...</td>\n      <td>na</td>\n      <td>na</td>\n      <td>na</td>\n      <td>na</td>\n      <td>na</td>\n      <td>na</td>\n      <td>na</td>\n      <td>None</td>\n      <td>na</td>\n      <td>9279.391636</td>\n    </tr>\n    <tr>\n      <th>17</th>\n      <td>2004</td>\n      <td>19159.377452</td>\n      <td>18405.641626</td>\n      <td>5265.926554</td>\n      <td>26949.600867</td>\n      <td>1422.37</td>\n      <td>10526.579848</td>\n      <td>8800.147431</td>\n      <td>7350.003575</td>\n      <td>3832.934867</td>\n      <td>...</td>\n      <td>na</td>\n      <td>na</td>\n      <td>na</td>\n      <td>na</td>\n      <td>na</td>\n      <td>na</td>\n      <td>na</td>\n      <td>None</td>\n      <td>na</td>\n      <td>10873.739301</td>\n    </tr>\n    <tr>\n      <th>18</th>\n      <td>2005</td>\n      <td>22837.527994</td>\n      <td>18917.192332</td>\n      <td>5520.359516</td>\n      <td>28181.761523</td>\n      <td>1595.49</td>\n      <td>11134.547226</td>\n      <td>11634.615969</td>\n      <td>7607.784061</td>\n      <td>3888.231696</td>\n      <td>...</td>\n      <td>na</td>\n      <td>na</td>\n      <td>na</td>\n      <td>na</td>\n      <td>na</td>\n      <td>na</td>\n      <td>na</td>\n      <td>None</td>\n      <td>na</td>\n      <td>12158.558508</td>\n    </tr>\n    <tr>\n      <th>19</th>\n      <td>2006</td>\n      <td>26795.805063</td>\n      <td>19112.271536</td>\n      <td>7332.174495</td>\n      <td>32145.926023</td>\n      <td>1797.01</td>\n      <td>10861.926395</td>\n      <td>14851.599227</td>\n      <td>8001.210740</td>\n      <td>4418.554714</td>\n      <td>...</td>\n      <td>na</td>\n      <td>na</td>\n      <td>na</td>\n      <td>na</td>\n      <td>na</td>\n      <td>na</td>\n      <td>na</td>\n      <td>None</td>\n      <td>na</td>\n      <td>15348.988479</td>\n    </tr>\n    <tr>\n      <th>20</th>\n      <td>2007</td>\n      <td>30427.565776</td>\n      <td>19828.663456</td>\n      <td>6356.847970</td>\n      <td>33278.384692</td>\n      <td>2138.49</td>\n      <td>13425.413442</td>\n      <td>14903.017534</td>\n      <td>9117.695112</td>\n      <td>4582.427589</td>\n      <td>...</td>\n      <td>na</td>\n      <td>na</td>\n      <td>na</td>\n      <td>na</td>\n      <td>na</td>\n      <td>na</td>\n      <td>na</td>\n      <td>None</td>\n      <td>21.0508</td>\n      <td>13995.011387</td>\n    </tr>\n    <tr>\n      <th>21</th>\n      <td>2008</td>\n      <td>36886.587791</td>\n      <td>22491.021456</td>\n      <td>6885.939063</td>\n      <td>37910.558850</td>\n      <td>2641.08</td>\n      <td>15973.173251</td>\n      <td>21139.661070</td>\n      <td>10745.439735</td>\n      <td>4657.637004</td>\n      <td>...</td>\n      <td>na</td>\n      <td>na</td>\n      <td>na</td>\n      <td>na</td>\n      <td>na</td>\n      <td>na</td>\n      <td>na</td>\n      <td>None</td>\n      <td>25.0261</td>\n      <td>14473.005862</td>\n    </tr>\n    <tr>\n      <th>22</th>\n      <td>2009</td>\n      <td>37343.942680</td>\n      <td>18777.874522</td>\n      <td>7009.092851</td>\n      <td>35325.884439</td>\n      <td>2911.1</td>\n      <td>12160.827981</td>\n      <td>14723.403054</td>\n      <td>9944.483508</td>\n      <td>3518.880534</td>\n      <td>...</td>\n      <td>na</td>\n      <td>na</td>\n      <td>na</td>\n      <td>na</td>\n      <td>na</td>\n      <td>na</td>\n      <td>na</td>\n      <td>None</td>\n      <td>24.1061</td>\n      <td>13147.562096</td>\n    </tr>\n    <tr>\n      <th>23</th>\n      <td>2010</td>\n      <td>40923.576157</td>\n      <td>20573.478639</td>\n      <td>7633.907903</td>\n      <td>36378.273213</td>\n      <td>2841.53</td>\n      <td>12160.168476</td>\n      <td>14106.608138</td>\n      <td>10315.607595</td>\n      <td>3866.388387</td>\n      <td>...</td>\n      <td>na</td>\n      <td>na</td>\n      <td>na</td>\n      <td>na</td>\n      <td>na</td>\n      <td>na</td>\n      <td>na</td>\n      <td>None</td>\n      <td>25.0455</td>\n      <td>17739.952165</td>\n    </tr>\n    <tr>\n      <th>24</th>\n      <td>2011</td>\n      <td>43919.338751</td>\n      <td>20078.836613</td>\n      <td>7600.143991</td>\n      <td>40711.597930</td>\n      <td>3170.31</td>\n      <td>13186.171127</td>\n      <td>17893.390096</td>\n      <td>10970.508730</td>\n      <td>4008.840872</td>\n      <td>...</td>\n      <td>na</td>\n      <td>na</td>\n      <td>na</td>\n      <td>na</td>\n      <td>na</td>\n      <td>na</td>\n      <td>na</td>\n      <td>None</td>\n      <td>30.0329</td>\n      <td>22121.156328</td>\n    </tr>\n    <tr>\n      <th>25</th>\n      <td>2012</td>\n      <td>46442.355277</td>\n      <td>21420.452755</td>\n      <td>10517.782803</td>\n      <td>43310.118218</td>\n      <td>3792.78</td>\n      <td>13162.219917</td>\n      <td>18712.428536</td>\n      <td>10576.312982</td>\n      <td>3963.496993</td>\n      <td>...</td>\n      <td>na</td>\n      <td>na</td>\n      <td>na</td>\n      <td>na</td>\n      <td>na</td>\n      <td>na</td>\n      <td>na</td>\n      <td>0.001688</td>\n      <td>29.1227</td>\n      <td>24722.876875</td>\n    </tr>\n    <tr>\n      <th>26</th>\n      <td>2013</td>\n      <td>49570.573421</td>\n      <td>21608.578349</td>\n      <td>11414.666196</td>\n      <td>41003.492667</td>\n      <td>4089.8</td>\n      <td>13229.633467</td>\n      <td>17902.792084</td>\n      <td>11107.591980</td>\n      <td>4279.551557</td>\n      <td>...</td>\n      <td>na</td>\n      <td>na</td>\n      <td>na</td>\n      <td>na</td>\n      <td>na</td>\n      <td>na</td>\n      <td>na</td>\n      <td>na</td>\n      <td>None</td>\n      <td>24032.306659</td>\n    </tr>\n    <tr>\n      <th>27</th>\n      <td>2014</td>\n      <td>54460.002069</td>\n      <td>20095.807039</td>\n      <td>13265.988736</td>\n      <td>43391.764039</td>\n      <td>4699.14</td>\n      <td>13491.491234</td>\n      <td>17583.730219</td>\n      <td>11906.581262</td>\n      <td>4773.205068</td>\n      <td>...</td>\n      <td>na</td>\n      <td>na</td>\n      <td>na</td>\n      <td>na</td>\n      <td>na</td>\n      <td>na</td>\n      <td>na</td>\n      <td>na</td>\n      <td>None</td>\n      <td>18877.834361</td>\n    </tr>\n    <tr>\n      <th>28</th>\n      <td>2015</td>\n      <td>64377.151460</td>\n      <td>23027.151265</td>\n      <td>16168.882789</td>\n      <td>49372.259027</td>\n      <td>6569.86</td>\n      <td>15221.703269</td>\n      <td>14740.851750</td>\n      <td>12012.666782</td>\n      <td>5056.546869</td>\n      <td>...</td>\n      <td>na</td>\n      <td>na</td>\n      <td>na</td>\n      <td>na</td>\n      <td>na</td>\n      <td>na</td>\n      <td>na</td>\n      <td>na</td>\n      <td>None</td>\n      <td>15335.122659</td>\n    </tr>\n    <tr>\n      <th>29</th>\n      <td>2016</td>\n      <td>62323.169154</td>\n      <td>22823.685126</td>\n      <td>11869.983615</td>\n      <td>44953.560396</td>\n      <td>6317.15</td>\n      <td>14868.644756</td>\n      <td>12364.538168</td>\n      <td>12378.166312</td>\n      <td>4686.060985</td>\n      <td>...</td>\n      <td>na</td>\n      <td>na</td>\n      <td>na</td>\n      <td>na</td>\n      <td>na</td>\n      <td>na</td>\n      <td>na</td>\n      <td>na</td>\n      <td>None</td>\n      <td>17908.037440</td>\n    </tr>\n    <tr>\n      <th>30</th>\n      <td>2017</td>\n      <td>67448.499164</td>\n      <td>24812.992964</td>\n      <td>31746.641298</td>\n      <td>47331.938119</td>\n      <td>7351.95</td>\n      <td>15486.165351</td>\n      <td>13375.901796</td>\n      <td>13570.623637</td>\n      <td>4723.938218</td>\n      <td>...</td>\n      <td>na</td>\n      <td>na</td>\n      <td>na</td>\n      <td>na</td>\n      <td>na</td>\n      <td>na</td>\n      <td>na</td>\n      <td>na</td>\n      <td>None</td>\n      <td>5547.133617</td>\n    </tr>\n    <tr>\n      <th>31</th>\n      <td>2018</td>\n      <td>78303.087581</td>\n      <td>26987.554652</td>\n      <td>14455.046830</td>\n      <td>50864.937879</td>\n      <td>8012.24</td>\n      <td>16518.414897</td>\n      <td>17257.645117</td>\n      <td>14289.006558</td>\n      <td>5404.603989</td>\n      <td>...</td>\n      <td>na</td>\n      <td>na</td>\n      <td>na</td>\n      <td>na</td>\n      <td>na</td>\n      <td>na</td>\n      <td>na</td>\n      <td>na</td>\n      <td>None</td>\n      <td>18729.381410</td>\n    </tr>\n    <tr>\n      <th>32</th>\n      <td>2019</td>\n      <td>82841.712158</td>\n      <td>26357.178378</td>\n      <td>13096.198437</td>\n      <td>55532.514006</td>\n      <td>7445.04</td>\n      <td>17246.245338</td>\n      <td>16294.410074</td>\n      <td>14541.929954</td>\n      <td>5869.680082</td>\n      <td>...</td>\n      <td>na</td>\n      <td>na</td>\n      <td>na</td>\n      <td>na</td>\n      <td>na</td>\n      <td>na</td>\n      <td>na</td>\n      <td>na</td>\n      <td>None</td>\n      <td>19868.961737</td>\n    </tr>\n  </tbody>\n</table>\n<p>33 rows × 231 columns</p>\n</div>"
     },
     "metadata": {},
     "execution_count": 34
    }
   ],
   "source": [
    "yy = pd.read_sql('SELECT * FROM YearTradeImport', db_conn)\n",
    "yy"
   ]
  },
  {
   "cell_type": "code",
   "execution_count": null,
   "metadata": {},
   "outputs": [],
   "source": []
  }
 ]
}